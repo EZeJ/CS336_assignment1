{
 "cells": [
  {
   "cell_type": "markdown",
   "id": "2fa86b50",
   "metadata": {},
   "source": [
    "# 2 Byte-Pair Encoding Tokenizer\n"
   ]
  },
  {
   "cell_type": "markdown",
   "id": "f2306c63",
   "metadata": {},
   "source": [
    "## 2.1 The Unicode Standard"
   ]
  },
  {
   "cell_type": "markdown",
   "id": "28b3c8f5",
   "metadata": {},
   "source": [
    "Unicode is a text encoding standard that maps characters to integer code points. As of Unicode 16.0 (released\n",
    "in September 2024), the standard defines 154,998 characters across 168 scripts. For example, the character\n",
    "“s” has the code point 115 (typically notated as U+0073, where U+ is a conventional prefix and 0073 is 115 in\n",
    "hexadecimal), and the character “牛” has the code point 29275. In Python, you can use the ord() function\n",
    "to convert a single Unicode character into its integer representation. The chr() function converts an integer\n",
    "Unicode code point into a string with the corresponding character."
   ]
  },
  {
   "cell_type": "code",
   "execution_count": 1,
   "id": "99acc777",
   "metadata": {},
   "outputs": [
    {
     "data": {
      "text/plain": [
       "115"
      ]
     },
     "execution_count": 1,
     "metadata": {},
     "output_type": "execute_result"
    }
   ],
   "source": [
    "ord('s')"
   ]
  },
  {
   "cell_type": "code",
   "execution_count": 2,
   "id": "c7310c0b",
   "metadata": {},
   "outputs": [
    {
     "data": {
      "text/plain": [
       "'\\x00'"
      ]
     },
     "execution_count": 2,
     "metadata": {},
     "output_type": "execute_result"
    }
   ],
   "source": [
    "chr(0)"
   ]
  },
  {
   "cell_type": "code",
   "execution_count": 4,
   "id": "5e83d529",
   "metadata": {},
   "outputs": [
    {
     "name": "stdout",
     "output_type": "stream",
     "text": [
      "\u0000\n"
     ]
    }
   ],
   "source": [
    "print(chr(0))"
   ]
  },
  {
   "cell_type": "code",
   "execution_count": 5,
   "id": "ba9c0e88",
   "metadata": {},
   "outputs": [
    {
     "name": "stdout",
     "output_type": "stream",
     "text": [
      "this is a test\u0000string\n"
     ]
    }
   ],
   "source": [
    "print(\"this is a test\" + chr(0) + \"string\")"
   ]
  },
  {
   "cell_type": "markdown",
   "id": "fdaae5d5",
   "metadata": {},
   "source": [
    "## 2.2 Unicode Encodings"
   ]
  },
  {
   "cell_type": "markdown",
   "id": "da9b0d0c",
   "metadata": {},
   "source": [
    "While the Unicode standard defines a mapping from characters to code points (integers), it’s impractical to\n",
    "train tokenizers directly on Unicode codepoints, since the vocabulary would be prohibitively large (around\n",
    "150K items) and sparse (since many characters are quite rare). Instead, we’ll use a Unicode encoding, which\n",
    "converts a Unicode character into a sequence of bytes. The Unicode standard itself defines three encodings:\n",
    "UTF-8, UTF-16, and UTF-32, with UTF-8 being the dominant encoding for the Internet (more than 98%\n",
    "of all webpages).\n",
    "To encode a Unicode string into UTF-8, we can use the encode() function in Python. To access the\n",
    "underlying byte values for a Python bytes object, we can iterate over it (e.g., call list()). Finally, we can\n",
    "use the decode() function to decode a UTF-8 byte string into a Unicode string."
   ]
  },
  {
   "cell_type": "code",
   "execution_count": 6,
   "id": "13c8b9df",
   "metadata": {},
   "outputs": [],
   "source": [
    "test_string = \"hello! こんにちは!\""
   ]
  },
  {
   "cell_type": "code",
   "execution_count": 7,
   "id": "b6ae7b4f",
   "metadata": {},
   "outputs": [],
   "source": [
    "utf8_encoded = test_string.encode(\"utf-8\")"
   ]
  },
  {
   "cell_type": "code",
   "execution_count": 14,
   "id": "02e67c54",
   "metadata": {},
   "outputs": [],
   "source": [
    "utf16_encoded = test_string.encode(\"utf-16\")"
   ]
  },
  {
   "cell_type": "code",
   "execution_count": 8,
   "id": "f6248485",
   "metadata": {},
   "outputs": [
    {
     "name": "stdout",
     "output_type": "stream",
     "text": [
      "b'hello! \\xe3\\x81\\x93\\xe3\\x82\\x93\\xe3\\x81\\xab\\xe3\\x81\\xa1\\xe3\\x81\\xaf!'\n"
     ]
    }
   ],
   "source": [
    "print(utf8_encoded)"
   ]
  },
  {
   "cell_type": "code",
   "execution_count": 15,
   "id": "10249b1c",
   "metadata": {},
   "outputs": [
    {
     "name": "stdout",
     "output_type": "stream",
     "text": [
      "b'\\xff\\xfeh\\x00e\\x00l\\x00l\\x00o\\x00!\\x00 \\x00S0\\x930k0a0o0!\\x00'\n"
     ]
    }
   ],
   "source": [
    "print(utf16_encoded)"
   ]
  },
  {
   "cell_type": "code",
   "execution_count": null,
   "id": "c817d3d9",
   "metadata": {},
   "outputs": [
    {
     "data": {
      "text/plain": [
       "[104,\n",
       " 101,\n",
       " 108,\n",
       " 108,\n",
       " 111,\n",
       " 33,\n",
       " 32,\n",
       " 227,\n",
       " 129,\n",
       " 147,\n",
       " 227,\n",
       " 130,\n",
       " 147,\n",
       " 227,\n",
       " 129,\n",
       " 171,\n",
       " 227,\n",
       " 129,\n",
       " 161,\n",
       " 227,\n",
       " 129,\n",
       " 175,\n",
       " 33]"
      ]
     },
     "execution_count": 9,
     "metadata": {},
     "output_type": "execute_result"
    }
   ],
   "source": [
    "list(utf8_encoded)\n",
    "# what does this do?\n",
    "# it converts the utf8_encoded string to a list of bytes"
   ]
  },
  {
   "cell_type": "code",
   "execution_count": 10,
   "id": "6c149058",
   "metadata": {},
   "outputs": [
    {
     "name": "stdout",
     "output_type": "stream",
     "text": [
      "13\n"
     ]
    }
   ],
   "source": [
    "print(len(test_string))"
   ]
  },
  {
   "cell_type": "code",
   "execution_count": 11,
   "id": "2b7e497a",
   "metadata": {},
   "outputs": [
    {
     "name": "stdout",
     "output_type": "stream",
     "text": [
      "23\n"
     ]
    }
   ],
   "source": [
    "print(len(utf8_encoded))"
   ]
  },
  {
   "cell_type": "code",
   "execution_count": 38,
   "id": "0a0c7f76",
   "metadata": {},
   "outputs": [
    {
     "data": {
      "text/plain": [
       "b'hello! \\xe3\\x81\\x93\\xe3\\x82\\x93\\xe3\\x81\\xab\\xe3\\x81\\xa1\\xe3\\x81\\xaf!'"
      ]
     },
     "execution_count": 38,
     "metadata": {},
     "output_type": "execute_result"
    }
   ],
   "source": [
    "utf8_encoded"
   ]
  },
  {
   "cell_type": "code",
   "execution_count": 12,
   "id": "0775e6fb",
   "metadata": {},
   "outputs": [
    {
     "name": "stdout",
     "output_type": "stream",
     "text": [
      "hello! こんにちは!\n"
     ]
    }
   ],
   "source": [
    "print(utf8_encoded.decode(\"utf-8\"))"
   ]
  },
  {
   "cell_type": "markdown",
   "id": "4894e0d1",
   "metadata": {},
   "source": [
    "Consider the following (incorrect) function, which is intended to decode a UTF-8 byte string into\n",
    "a Unicode string. Why is this function incorrect? Provide an example of an input byte string\n",
    "that yields incorrect results.\n",
    "\n",
    "```python\n",
    "def decode_utf8_bytes_to_str_wrong(bytestring: bytes):\n",
    "    return \"\".join([bytes([b]).decode(\"utf-8\") for b in bytestring])\n",
    ">>> decode_utf8_bytes_to_str_wrong(\"hello\".encode(\"utf-8\"))\n",
    "'hello'\n",
    "```"
   ]
  },
  {
   "cell_type": "code",
   "execution_count": 16,
   "id": "2f0c1ca6",
   "metadata": {},
   "outputs": [],
   "source": [
    "def decode_utf8_bytes_to_str_wrong(bytestring: bytes):\n",
    "    return \"\".join([bytes([b]).decode(\"utf-8\") for b in bytestring])"
   ]
  },
  {
   "cell_type": "code",
   "execution_count": null,
   "id": "1fc5b075",
   "metadata": {},
   "outputs": [
    {
     "data": {
      "text/plain": [
       "'hello'"
      ]
     },
     "execution_count": 17,
     "metadata": {},
     "output_type": "execute_result"
    }
   ],
   "source": [
    "decode_utf8_bytes_to_str_wrong(\"hello\".encode(\"utf-8\"))"
   ]
  },
  {
   "cell_type": "code",
   "execution_count": null,
   "id": "fb9704fc",
   "metadata": {},
   "outputs": [],
   "source": [
    "test_decode_utf8_bytes_to_str_wrongode_utf8 = \"hello! こんにちは!\""
   ]
  },
  {
   "cell_type": "code",
   "execution_count": 30,
   "id": "b3341b28",
   "metadata": {},
   "outputs": [
    {
     "ename": "UnicodeDecodeError",
     "evalue": "'utf-8' codec can't decode byte 0xe3 in position 0: unexpected end of data",
     "output_type": "error",
     "traceback": [
      "\u001b[31m---------------------------------------------------------------------------\u001b[39m",
      "\u001b[31mUnicodeDecodeError\u001b[39m                        Traceback (most recent call last)",
      "\u001b[36mCell\u001b[39m\u001b[36m \u001b[39m\u001b[32mIn[30]\u001b[39m\u001b[32m, line 1\u001b[39m\n\u001b[32m----> \u001b[39m\u001b[32m1\u001b[39m \u001b[43mdecode_utf8_bytes_to_str_wrong\u001b[49m\u001b[43m(\u001b[49m\u001b[43mtest_decode_utf8_bytes_to_str_wrongode_utf8\u001b[49m\u001b[43m.\u001b[49m\u001b[43mencode\u001b[49m\u001b[43m(\u001b[49m\u001b[33;43m\"\u001b[39;49m\u001b[33;43mutf-8\u001b[39;49m\u001b[33;43m\"\u001b[39;49m\u001b[43m)\u001b[49m\u001b[43m)\u001b[49m\n",
      "\u001b[36mCell\u001b[39m\u001b[36m \u001b[39m\u001b[32mIn[16]\u001b[39m\u001b[32m, line 2\u001b[39m, in \u001b[36mdecode_utf8_bytes_to_str_wrong\u001b[39m\u001b[34m(bytestring)\u001b[39m\n\u001b[32m      1\u001b[39m \u001b[38;5;28;01mdef\u001b[39;00m\u001b[38;5;250m \u001b[39m\u001b[34mdecode_utf8_bytes_to_str_wrong\u001b[39m(bytestring: \u001b[38;5;28mbytes\u001b[39m):\n\u001b[32m----> \u001b[39m\u001b[32m2\u001b[39m     \u001b[38;5;28;01mreturn\u001b[39;00m \u001b[33m\"\u001b[39m\u001b[33m\"\u001b[39m.join([\u001b[38;5;28;43mbytes\u001b[39;49m\u001b[43m(\u001b[49m\u001b[43m[\u001b[49m\u001b[43mb\u001b[49m\u001b[43m]\u001b[49m\u001b[43m)\u001b[49m\u001b[43m.\u001b[49m\u001b[43mdecode\u001b[49m\u001b[43m(\u001b[49m\u001b[33;43m\"\u001b[39;49m\u001b[33;43mutf-8\u001b[39;49m\u001b[33;43m\"\u001b[39;49m\u001b[43m)\u001b[49m \u001b[38;5;28;01mfor\u001b[39;00m b \u001b[38;5;129;01min\u001b[39;00m bytestring])\n",
      "\u001b[31mUnicodeDecodeError\u001b[39m: 'utf-8' codec can't decode byte 0xe3 in position 0: unexpected end of data"
     ]
    }
   ],
   "source": [
    "decode_utf8_bytes_to_str_wrong(test_decode_utf8_bytes_to_str_wrongode_utf8.encode(\"utf-8\"))"
   ]
  },
  {
   "cell_type": "code",
   "execution_count": 31,
   "id": "d65f21c1",
   "metadata": {},
   "outputs": [
    {
     "data": {
      "text/plain": [
       "[b'h',\n",
       " b'e',\n",
       " b'l',\n",
       " b'l',\n",
       " b'o',\n",
       " b'!',\n",
       " b' ',\n",
       " b'\\xe3',\n",
       " b'\\x81',\n",
       " b'\\x93',\n",
       " b'\\xe3',\n",
       " b'\\x82',\n",
       " b'\\x93',\n",
       " b'\\xe3',\n",
       " b'\\x81',\n",
       " b'\\xab',\n",
       " b'\\xe3',\n",
       " b'\\x81',\n",
       " b'\\xa1',\n",
       " b'\\xe3',\n",
       " b'\\x81',\n",
       " b'\\xaf',\n",
       " b'!']"
      ]
     },
     "execution_count": 31,
     "metadata": {},
     "output_type": "execute_result"
    }
   ],
   "source": [
    "[bytes([b]) for b in test_decode_utf8_bytes_to_str_wrongode_utf8.encode(\"utf-8\")]"
   ]
  },
  {
   "cell_type": "code",
   "execution_count": 32,
   "id": "6727ecca",
   "metadata": {},
   "outputs": [
    {
     "data": {
      "text/plain": [
       "[104,\n",
       " 101,\n",
       " 108,\n",
       " 108,\n",
       " 111,\n",
       " 33,\n",
       " 32,\n",
       " 227,\n",
       " 129,\n",
       " 147,\n",
       " 227,\n",
       " 130,\n",
       " 147,\n",
       " 227,\n",
       " 129,\n",
       " 171,\n",
       " 227,\n",
       " 129,\n",
       " 161,\n",
       " 227,\n",
       " 129,\n",
       " 175,\n",
       " 33]"
      ]
     },
     "execution_count": 32,
     "metadata": {},
     "output_type": "execute_result"
    }
   ],
   "source": [
    "[b for b in test_decode_utf8_bytes_to_str_wrongode_utf8.encode(\"utf-8\")]"
   ]
  },
  {
   "cell_type": "code",
   "execution_count": 33,
   "id": "88cc8f0f",
   "metadata": {},
   "outputs": [],
   "source": [
    "def decode_utf8_bytes_to_str_correct(bytestring: bytes):\n",
    "    return \"\".join([b.decode(\"utf-8\") for b in bytestring])"
   ]
  },
  {
   "cell_type": "code",
   "execution_count": 35,
   "id": "1efc1063",
   "metadata": {},
   "outputs": [
    {
     "data": {
      "text/plain": [
       "'hello! こんにちは!'"
      ]
     },
     "execution_count": 35,
     "metadata": {},
     "output_type": "execute_result"
    }
   ],
   "source": [
    "test_decode_utf8_bytes_to_str_wrongode_utf8"
   ]
  },
  {
   "cell_type": "code",
   "execution_count": 34,
   "id": "09541e25",
   "metadata": {},
   "outputs": [
    {
     "ename": "AttributeError",
     "evalue": "'int' object has no attribute 'decode'",
     "output_type": "error",
     "traceback": [
      "\u001b[31m---------------------------------------------------------------------------\u001b[39m",
      "\u001b[31mAttributeError\u001b[39m                            Traceback (most recent call last)",
      "\u001b[36mCell\u001b[39m\u001b[36m \u001b[39m\u001b[32mIn[34]\u001b[39m\u001b[32m, line 1\u001b[39m\n\u001b[32m----> \u001b[39m\u001b[32m1\u001b[39m \u001b[43mdecode_utf8_bytes_to_str_correct\u001b[49m\u001b[43m(\u001b[49m\u001b[43mtest_decode_utf8_bytes_to_str_wrongode_utf8\u001b[49m\u001b[43m.\u001b[49m\u001b[43mencode\u001b[49m\u001b[43m(\u001b[49m\u001b[33;43m\"\u001b[39;49m\u001b[33;43mutf-8\u001b[39;49m\u001b[33;43m\"\u001b[39;49m\u001b[43m)\u001b[49m\u001b[43m)\u001b[49m\n",
      "\u001b[36mCell\u001b[39m\u001b[36m \u001b[39m\u001b[32mIn[33]\u001b[39m\u001b[32m, line 2\u001b[39m, in \u001b[36mdecode_utf8_bytes_to_str_correct\u001b[39m\u001b[34m(bytestring)\u001b[39m\n\u001b[32m      1\u001b[39m \u001b[38;5;28;01mdef\u001b[39;00m\u001b[38;5;250m \u001b[39m\u001b[34mdecode_utf8_bytes_to_str_correct\u001b[39m(bytestring: \u001b[38;5;28mbytes\u001b[39m):\n\u001b[32m----> \u001b[39m\u001b[32m2\u001b[39m     \u001b[38;5;28;01mreturn\u001b[39;00m \u001b[33m\"\u001b[39m\u001b[33m\"\u001b[39m.join([\u001b[43mb\u001b[49m\u001b[43m.\u001b[49m\u001b[43mdecode\u001b[49m(\u001b[33m\"\u001b[39m\u001b[33mutf-8\u001b[39m\u001b[33m\"\u001b[39m) \u001b[38;5;28;01mfor\u001b[39;00m b \u001b[38;5;129;01min\u001b[39;00m bytestring])\n",
      "\u001b[31mAttributeError\u001b[39m: 'int' object has no attribute 'decode'"
     ]
    }
   ],
   "source": [
    "decode_utf8_bytes_to_str_correct(test_decode_utf8_bytes_to_str_wrongode_utf8.encode(\"utf-8\"))"
   ]
  },
  {
   "cell_type": "markdown",
   "id": "4f12ca00",
   "metadata": {},
   "source": [
    "Answer:\n",
    "\n",
    "\n",
    "❌ What’s wrong with this function?\n",
    "```\n",
    "\t•\tIt decodes one byte at a time, as if each byte corresponds to an independent UTF-8 character.\n",
    "\t•\tBut UTF-8 is a variable-length encoding, where:\n",
    "\t•\tASCII characters → 1 byte\n",
    "\t•\tOther Unicode characters → 2 to 4 bytes\n",
    "\n",
    "Decoding each byte separately breaks multi-byte sequences, which causes:\n",
    "\t1.\tUnicodeDecodeError (if the byte is not a valid standalone character), or\n",
    "\t2.\tCorrupted output (if decoding doesn’t throw an error but yields incorrect characters)\n",
    "\n",
    "```\n"
   ]
  },
  {
   "cell_type": "markdown",
   "id": "70b78d62",
   "metadata": {},
   "source": [
    "## 2.4 BPE Tokenizer Training"
   ]
  },
  {
   "cell_type": "markdown",
   "id": "c135ca5c",
   "metadata": {},
   "source": [
    "The BPE tokenizer training procedure consists of three main steps.\n",
    "\n",
    "Vocabulary initialization The tokenizer vocabulary is a one-to-one mapping from bytestring token to integer ID. Since we’re training a byte-level BPE tokenizer, our initial vocabulary is simply the set of all bytes. Since there are 256 possible byte values, our initial vocabulary is of size 256.\n",
    "\n",
    "Pre-tokenization Once you have a vocabulary, you could, in principle, count how often bytes occur next to each other in your text and begin merging them starting with the most frequent pair of bytes. However, this is quite computationally expensive, since we’d have to go take a full pass over the corpus each time we merge. In addition, directly merging bytes across the corpus may result in tokens that differ only in punctuation (e.g., dog! vs. dog.). These tokens would get completely different token IDs, even though they are likely to have high semantic similarity (since they differ only in punctuation).\n",
    "\n",
    "To avoid this, we pre-tokenize the corpus. You can think of this as a coarse-grained tokenization over the corpus that helps us count how often pairs of characters appear. For example, the word 'text' might be a pre-token that appears 10 times. In this case, when we count how often the characters ‘t’ and ‘e’ appear next to each other, we will see that the word ‘text’ has ‘t’ and ‘e’ adjacent and we can increment their count by 10 instead of looking through the corpus. Since we’re training a byte-level BPE model, each pre-token is represented as a sequence of UTF-8 bytes.\n",
    "\n",
    "The original BPE implementation of Sennrich et al. [2016] pre-tokenizes by simply splitting on whitespace (i.e., s.split(\" \")). In contrast, we’ll use a regex-based pre-tokenizer (used by GPT-2; Radford et al., 2019) from github.com/openai/tiktoken/pull/234/files:"
   ]
  },
  {
   "cell_type": "code",
   "execution_count": 1,
   "id": "f04bd827",
   "metadata": {},
   "outputs": [],
   "source": [
    "PAT = r\"\"\"'(?:[sdmt]|ll|ve|re)| ?\\p{L}+| ?\\p{N}+| ?[^\\s\\p{L}\\p{N}]+|\\s+(?!\\S)|\\s+\"\"\""
   ]
  },
  {
   "cell_type": "markdown",
   "id": "8861c3ae",
   "metadata": {},
   "source": [
    "### Explanation of Regex Pattern `PAT`\n",
    "\n",
    "#### Code\n",
    "```python\n",
    "PAT = r\"\"\"'(?:[sdmt]|ll|ve|re)| ?\\p{L}+| ?\\p{N}+| ?[^\\s\\p{L}\\p{N}]+|\\s+(?!\\S)|\\s+\"\"\"\n",
    "```\n",
    "\n",
    "#### What it Does\n",
    "This regex pattern is used to **tokenize text**, often for NLP applications like language models.\n",
    "\n",
    "It uses the `regex` module (not `re`) to support Unicode properties like `\\p{L}`.\n",
    "\n",
    "#### Breakdown of the Pattern\n",
    "\n",
    "##### `'(?:[sdmt]|ll|ve|re)`\n",
    "- Matches English **contractions**:\n",
    "  - `'s`, `'d`, `'m`, `'t`, `'ll`, `'ve`, `'re`\n",
    "- `(?:...)` is a **non-capturing group**.\n",
    "\n",
    "##### ` ?\\p{L}+`\n",
    "- Matches optional space followed by one or more **letters** (from any language).\n",
    "- `\\p{L}` = any Unicode letter.\n",
    "\n",
    "##### ` ?\\p{N}+`\n",
    "- Matches optional space followed by one or more **numbers**.\n",
    "- `\\p{N}` = any Unicode numeric digit.\n",
    "\n",
    "##### ` ?[^\\s\\p{L}\\p{N}]+`\n",
    "- Matches optional space followed by one or more **symbols or punctuation**.\n",
    "- It excludes whitespace, letters, and numbers.\n",
    "\n",
    "##### `\\s+(?!\\S)`\n",
    "- Matches **trailing whitespace**.\n",
    "- Negative lookahead `(?!\\S)` ensures it’s not followed by any non-whitespace character.\n",
    "\n",
    "##### `\\s+`\n",
    "- Matches **any other whitespace**.\n",
    "\n",
    "#### Usage Example (with `regex` module)\n",
    "```python\n",
    "import regex\n",
    "text = \"Here's an example: 42 tokens, maybe?\"\n",
    "tokens = regex.findall(PAT, text)\n",
    "print(tokens)\n",
    "```\n",
    "\n",
    "#### Summary\n",
    "- This is a **Unicode-aware tokenizer regex**.\n",
    "- Useful for processing:\n",
    "  - Words\n",
    "  - Numbers\n",
    "  - Punctuation\n",
    "  - Contractions\n",
    "  - Whitespace\n",
    "- Designed for tasks like LLM training or text preprocessing."
   ]
  },
  {
   "cell_type": "code",
   "execution_count": 2,
   "id": "6af14ba1",
   "metadata": {},
   "outputs": [
    {
     "data": {
      "text/plain": [
       "['some', ' text', ' that', ' i', \"'ll\", ' pre', '-', 'tokenize']"
      ]
     },
     "execution_count": 2,
     "metadata": {},
     "output_type": "execute_result"
    }
   ],
   "source": [
    "import regex as re\n",
    "re.findall(PAT, \"some text that i'll pre-tokenize\")"
   ]
  },
  {
   "cell_type": "code",
   "execution_count": 6,
   "id": "7dd4436b",
   "metadata": {},
   "outputs": [
    {
     "name": "stdout",
     "output_type": "stream",
     "text": [
      "['Here', \"'s\", ' an', ' example', ':', ' 42', ' tokens', ',', ' maybe', '?', ' 😂']\n"
     ]
    }
   ],
   "source": [
    "text = \"Here's an example: 42 tokens, maybe? 😂\"\n",
    "tokens = re.findall(PAT, text)\n",
    "print(tokens)"
   ]
  },
  {
   "cell_type": "markdown",
   "id": "ef65d5d8",
   "metadata": {},
   "source": [
    "When using it in your code, however, you should use re.finditer to avoid storing the pre-tokenized words as you construct your mapping from pre-tokens to their counts."
   ]
  },
  {
   "cell_type": "markdown",
   "id": "66651753",
   "metadata": {},
   "source": [
    "### Explanation: Why Use `re.finditer` Instead of `re.findall`\n",
    "\n",
    "#### Context\n",
    "\n",
    "You have a regex pattern (e.g., `PAT`) for tokenizing text, and you're building a mapping from each **pre-token** to its **count** (like a frequency dictionary).\n",
    "\n",
    "---\n",
    "\n",
    "#### Key Difference Between `findall` and `finditer`\n",
    "\n",
    "| Method        | Description                                                                 | Memory Usage        |\n",
    "|---------------|-----------------------------------------------------------------------------|---------------------|\n",
    "| `re.findall()`| Returns a list of all matches as strings                                    | **Higher** (loads all matches) |\n",
    "| `re.finditer()`| Returns an **iterator** yielding match objects one at a time               | **Lower** (streaming) |\n",
    "\n",
    "---\n",
    "\n",
    "#### Why Prefer `finditer`\n",
    "\n",
    "- If you're just going to **count** tokens, you don't need to **store** the entire list.\n",
    "- `re.finditer` lets you:\n",
    "  - Stream matches one-by-one\n",
    "  - Avoid unnecessary memory usage\n",
    "  - Work better with large datasets\n",
    "\n",
    "---\n",
    "\n",
    "#### Example\n",
    "\n",
    "```python\n",
    "from collections import defaultdict\n",
    "import regex  # Must use 'regex' instead of 're' for \\p{} support\n",
    "\n",
    "PAT = r\"\"\"'(?:[sdmt]|ll|ve|re)| ?\\p{L}+| ?\\p{N}+| ?[^\\s\\p{L}\\p{N}]+|\\s+(?!\\S)|\\s+\"\"\"\n",
    "text = \"Here's an example: 42 tokens, maybe?\"\n",
    "\n",
    "token_counts = defaultdict(int)\n",
    "\n",
    "for match in regex.finditer(PAT, text):\n",
    "    token = match.group()\n",
    "    token_counts[token] += 1\n",
    "```\n",
    "\n",
    "---\n",
    "\n",
    "#### Summary\n",
    "\n",
    "- Use `re.finditer()` to **avoid storing all tokens** in memory.\n",
    "- Especially useful when **constructing token frequency maps**.\n",
    "- Improves **performance and scalability**.\n",
    "\n",
    "```python\n",
    "# Bad (memory-heavy)\n",
    "tokens = regex.findall(PAT, text)\n",
    "for token in tokens:\n",
    "    token_counts[token] += 1\n",
    "\n",
    "# Good (efficient)\n",
    "for match in regex.finditer(PAT, text):\n",
    "    token = match.group()\n",
    "    token_counts[token] += 1\n",
    "```"
   ]
  },
  {
   "cell_type": "markdown",
   "id": "e051319d",
   "metadata": {},
   "source": [
    "### Answer: Pretoken Function"
   ]
  },
  {
   "cell_type": "code",
   "execution_count": 62,
   "id": "87943863",
   "metadata": {},
   "outputs": [],
   "source": [
    "import regex as re\n",
    "from collections import defaultdict\n",
    "\n",
    "def process_text_with_pre_tokenize(text):\n",
    "    '''\n",
    "    Pre-tokenize the text using regex to match tokens.\n",
    "    This function uses a regex pattern to find tokens in the text.\n",
    "    It returns a dictionary with tokens as keys and their counts as values.\n",
    "    '''\n",
    "    PAT = r\"\"\"'(?:[sdmt]|ll|ve|re)| ?\\p{L}+| ?\\p{N}+| ?[^\\s\\p{L}\\p{N}]+|\\s+(?!\\S)|\\s+\"\"\"\n",
    "    token_counts = defaultdict(int)\n",
    "    # Good (efficient)\n",
    "    for match in re.finditer(PAT, text):\n",
    "        token = match.group()\n",
    "        token_counts[token] += 1\n",
    "    return token_counts\n",
    "\n",
    "\n",
    "def convert_dict_to_list(tokens_counts):\n",
    "    '''\n",
    "    Convert the dictionary of token counts to a list of tuples.\n",
    "    Each tuple contains a token and its count.\n",
    "    '''\n",
    "    return list(tokens_counts.keys())"
   ]
  },
  {
   "cell_type": "code",
   "execution_count": 18,
   "id": "079d4ba0",
   "metadata": {},
   "outputs": [
    {
     "name": "stdout",
     "output_type": "stream",
     "text": [
      "defaultdict(<class 'int'>, {'the': 1, ' cat': 1, ' in': 1, ' the': 1, ' hat': 1})\n",
      "defaultdict(<class 'int'>, {b'the': 1, b' cat': 1, b' in': 1, b' the': 1, b' hat': 1})\n"
     ]
    }
   ],
   "source": [
    "example_text = \"the cat in the hat\"\n",
    "token_counts,token_counts_in_UTF8 = process_text_with_pre_tokenize(example_text)\n",
    "print(token_counts)\n",
    "print(token_counts_in_UTF8)"
   ]
  },
  {
   "cell_type": "code",
   "execution_count": 30,
   "id": "29ed9120",
   "metadata": {},
   "outputs": [
    {
     "name": "stdout",
     "output_type": "stream",
     "text": [
      "['the', ' cat', ' in', ' the', ' hat']\n",
      "[b'the', b' cat', b' in', b' the', b' hat']\n"
     ]
    }
   ],
   "source": [
    "print(convert_dict_to_list(token_counts))\n",
    "print(convert_dict_to_list(token_counts_in_UTF8))"
   ]
  },
  {
   "cell_type": "code",
   "execution_count": 46,
   "id": "8d2d30dd",
   "metadata": {},
   "outputs": [
    {
     "data": {
      "text/plain": [
       "bytes"
      ]
     },
     "execution_count": 46,
     "metadata": {},
     "output_type": "execute_result"
    }
   ],
   "source": [
    "type(convert_dict_to_list(token_counts_in_UTF8)[0])"
   ]
  },
  {
   "cell_type": "code",
   "execution_count": 55,
   "id": "9450d025",
   "metadata": {},
   "outputs": [],
   "source": [
    "def convert_utf8_to_int(tokens_representation):\n",
    "    if isinstance(tokens_representation[0], str):\n",
    "        print(\"Converting str to int\")\n",
    "        return [list(map(ord, string)) for string in tokens_representation]\n",
    "    if isinstance(tokens_representation[0], bytes):\n",
    "        print(\"Converting bytes to int\")\n",
    "        return [list(bytes_item) for bytes_item in tokens_representation]"
   ]
  },
  {
   "cell_type": "code",
   "execution_count": 57,
   "id": "b20c446d",
   "metadata": {},
   "outputs": [
    {
     "name": "stdout",
     "output_type": "stream",
     "text": [
      "Converting bytes to int\n",
      "Converting str to int\n"
     ]
    },
    {
     "data": {
      "text/plain": [
       "[[116, 104, 101],\n",
       " [32, 99, 97, 116],\n",
       " [32, 105, 110],\n",
       " [32, 116, 104, 101],\n",
       " [32, 104, 97, 116]]"
      ]
     },
     "execution_count": 57,
     "metadata": {},
     "output_type": "execute_result"
    }
   ],
   "source": [
    "convert_utf8_to_int(convert_dict_to_list(token_counts_in_UTF8))\n",
    "convert_utf8_to_int(convert_dict_to_list(token_counts))"
   ]
  },
  {
   "cell_type": "markdown",
   "id": "daa6410d",
   "metadata": {},
   "source": [
    "### Compute BPE \n",
    "merges Now that we’ve converted our input text into pre-tokens and represented each pre-token as a sequence of UTF-8 bytes, we can compute the BPE merges (i.e., train the BPE tokenizer). At a high level, the BPE algorithm iteratively counts every pair of bytes and identifies the pair with the highest frequency (“A”, “B”). Every occurrence of this most frequent pair (“A”, “B”) is then merged, i.e., replaced with a new token “AB”. This new merged token is added to our vocabulary; as a result, the final vocabulary after BPE training is the size of the initial vocabulary (256 in our case), plus the number of BPE merge operations performed during training. For eﬀiciency during BPE training, we do not consider pairs that cross pre-token boundaries. 2 When computing merges, deterministically break ties in pair frequency by preferring the lexicographically greater pair. For example, if the pairs (“A”, “B”), (“A”, “C”), (“B”, “ZZ”), and (“BA”, “A”) all have the highest frequency, we’d merge (“BA”, “A”):\n",
    "\n",
    ">>> max([(\"A\", \"B\"), (\"A\", \"C\"), (\"B\", \"ZZ\"), (\"BA\", \"A\")]) ('BA', 'A')"
   ]
  },
  {
   "cell_type": "markdown",
   "id": "2e1dda55",
   "metadata": {},
   "source": [
    "### Explanation: \"Deterministically break ties in pair frequency by preferring the lexicographically greater pair\"\n",
    "\n",
    "#### Context\n",
    "This typically applies in **Byte Pair Encoding (BPE)** or similar tokenization algorithms, where you:\n",
    "1. Count how often each pair of symbols appears.\n",
    "2. Merge the most frequent pair.\n",
    "3. Repeat.\n",
    "\n",
    "Sometimes, **two or more pairs** have the **same frequency**. The algorithm needs a way to choose **which one to merge**.\n",
    "\n",
    "---\n",
    "\n",
    "#### 🔑 Key Terms\n",
    "\n",
    "- **Tie in frequency**: Two symbol pairs occur the same number of times.\n",
    "- **Deterministically**: Always make the same choice given the same input (no randomness).\n",
    "- **Lexicographically greater**: Think of dictionary order — `'z' > 'a'`, `'dog' > 'cat'`.\n",
    "\n",
    "---\n",
    "\n",
    "#### 🔸 What It Means\n",
    "\n",
    "> If multiple symbol pairs have the same frequency:\n",
    "> → Choose the one that comes **later in alphabetical order**.\n",
    "\n",
    "---\n",
    "\n",
    "#### 🧠 Example\n",
    "\n",
    "Assume these are the most frequent pairs with the same frequency:\n",
    "\n",
    "```\n",
    "('th', 10)\n",
    "('he', 10)\n",
    "('in', 10)\n",
    "```\n",
    "\n",
    "To break the tie:\n",
    "- Sort lexicographically:\n",
    "  ```\n",
    "  'th' < 'in' < 'he'  ❌ (wrong)\n",
    "  Actually: 'in' < 'he' < 'th' ✅\n",
    "  ```\n",
    "- Pick the **lexicographically greatest**:\n",
    "  → `'th'`\n",
    "\n",
    "---\n",
    "\n",
    "#### ✅ Why It’s Important\n",
    "\n",
    "- Ensures **consistency** in training and inference.\n",
    "- Prevents randomness that could lead to mismatched tokenization.\n",
    "\n",
    "---\n",
    "\n",
    "#### 💡 Summary\n",
    "\n",
    "> When two symbol pairs are tied in frequency, merge the one that is **alphabetically last**.\n",
    "```"
   ]
  },
  {
   "cell_type": "code",
   "execution_count": 32,
   "id": "496d6b52",
   "metadata": {},
   "outputs": [
    {
     "data": {
      "text/plain": [
       "('BA', 'A')"
      ]
     },
     "execution_count": 32,
     "metadata": {},
     "output_type": "execute_result"
    }
   ],
   "source": [
    "max([(\"A\", \"B\"), (\"A\", \"C\"), (\"B\", \"ZZ\"), (\"BA\", \"A\")])"
   ]
  },
  {
   "cell_type": "code",
   "execution_count": 33,
   "id": "332f4e3d",
   "metadata": {},
   "outputs": [],
   "source": [
    "def break_ties_during_merge_by_lexicographically(list_of_tuples):\n",
    "    '''\n",
    "    Break ties during merge by lexicographically sorting the tuples.\n",
    "    This function return the maximum tuple based on the first element.\n",
    "    '''\n",
    "    return max(list_of_tuples)"
   ]
  },
  {
   "cell_type": "code",
   "execution_count": 34,
   "id": "58757e04",
   "metadata": {},
   "outputs": [
    {
     "name": "stdout",
     "output_type": "stream",
     "text": [
      "('BA', 'A')\n"
     ]
    }
   ],
   "source": [
    "test_of_vocab_pairs = [(\"A\", \"B\"), (\"A\", \"C\"), (\"B\", \"ZZ\"), (\"BA\", \"A\")]\n",
    "print(break_ties_during_merge_by_lexicographically(test_of_vocab_pairs))"
   ]
  },
  {
   "cell_type": "markdown",
   "id": "6d0d83e0",
   "metadata": {},
   "source": [
    "### Special tokens\n",
    "Often, some strings (e.g., <|endoftext|>) are used to encode metadata (e.g., boundaries between documents). When encoding text, it’s often desirable to treat some strings as “special tokens” that should never be split into multiple tokens (i.e., will always be preserved as a single token). For example, the end-of-sequence string <|endoftext|> should always be preserved as a single token (i.e., a single integer ID), so we know when to stop generating from the language model. These special tokens must be added to the vocabulary, so they have a corresponding fixed token ID.\n",
    "\n",
    "Algorithm 1 of Sennrich et al. [2016] contains an ineﬀicient implementation of BPE tokenizer training (essentially following the steps that we outlined above). As a first exercise, it may be useful to implement and test this function to test your understanding."
   ]
  },
  {
   "cell_type": "markdown",
   "id": "17f20d9a",
   "metadata": {},
   "source": [
    "### TODO: Need to implement this function, for now, it's unclear how to do it."
   ]
  },
  {
   "cell_type": "markdown",
   "id": "e75cddee",
   "metadata": {},
   "source": [
    "### Algorithm 1:\n"
   ]
  },
  {
   "cell_type": "code",
   "execution_count": 59,
   "id": "f809d4d7",
   "metadata": {},
   "outputs": [],
   "source": [
    "example_text_ag1 = \"\"\"\n",
    "    low low low low low\n",
    "    lower lower widest widest widest\n",
    "    newest newest newest newest newest newest\n",
    "\"\"\""
   ]
  },
  {
   "cell_type": "code",
   "execution_count": 63,
   "id": "83ddff92",
   "metadata": {},
   "outputs": [
    {
     "data": {
      "text/plain": [
       "defaultdict(int,\n",
       "            {'\\n   ': 3,\n",
       "             ' low': 5,\n",
       "             ' lower': 2,\n",
       "             ' widest': 3,\n",
       "             ' newest': 6,\n",
       "             '\\n': 1})"
      ]
     },
     "execution_count": 63,
     "metadata": {},
     "output_type": "execute_result"
    }
   ],
   "source": [
    "process_text_with_pre_tokenize(example_text_ag1)"
   ]
  },
  {
   "cell_type": "markdown",
   "id": "2d5a656e",
   "metadata": {},
   "source": [
    "### 🤔 Should We Keep Whitespace Matches in BPE Tokenizer?\n",
    "\n",
    "#### 📌 Regex in Question\n",
    "```python\n",
    "PAT = r\"\"\"'(?:[sdmt]|ll|ve|re)| ?\\p{L}+| ?\\p{N}+| ?[^\\s\\p{L}\\p{N}]+|\\s+(?!\\S)|\\s+\"\"\"\n",
    "```\n",
    "\n",
    "#### 🧠 Observation\n",
    "This pattern **intentionally matches leading spaces**:\n",
    "- `' example'`\n",
    "- `' cat'`\n",
    "- `'\\n'`\n",
    "\n",
    "---\n",
    "\n",
    "#### ✅ Is This Normal in BPE Tokenizers?\n",
    "\n",
    "**Yes**, this is **normal and intentional** in many BPE tokenizers, especially in models like:\n",
    "- **GPT-2 / GPT-3 / GPT-4**\n",
    "- **T5**\n",
    "- **RoBERTa**\n",
    "\n",
    "They treat **whitespace as meaningful**:\n",
    "- Leading spaces (e.g., `' cat'`) are **part of the token**.\n",
    "- This helps capture context and word boundaries **without needing a special separator**.\n",
    "- For example:\n",
    "  - `'cat'` and `' cat'` are different tokens.\n",
    "  - `'Hello\\nWorld'` keeps the newline to preserve formatting.\n",
    "\n",
    "---\n",
    "\n",
    "#### 🔍 Why Not Remove Whitespace?\n",
    "\n",
    "Removing whitespace would:\n",
    "- Break token alignment between training and inference.\n",
    "- Change the meaning of tokens and mess up pretraining statistics.\n",
    "- Lose valuable structure (e.g., indents, newlines, sentence spacing).\n",
    "\n",
    "---\n",
    "\n",
    "#### ✅ When Should You Remove Whitespace?\n",
    "\n",
    "Only consider removing whitespace:\n",
    "- If you are **preprocessing raw text** for **custom tokenization**.\n",
    "- If your tokenizer is **not whitespace-sensitive** (rare).\n",
    "- If you're using a **character-level model** or models that handle spacing differently.\n",
    "\n",
    "---\n",
    "\n",
    "#### 🧾 Summary\n",
    "\n",
    "| 🔍 Behavior                     | ✅ Keep Whitespace |\n",
    "|-------------------------------|--------------------|\n",
    "| GPT-style BPE tokenization    | Yes                |\n",
    "| Word-boundary sensitive model | Yes                |\n",
    "| Character-level model         | Maybe not          |\n",
    "| Custom cleaner/tokenizer      | Optional           |\n",
    "\n",
    "> ✅ **Final Answer**: **Yes**, keeping leading whitespace is **normal** and **recommended** for standard BPE tokenization like GPT-2.\n"
   ]
  },
  {
   "cell_type": "code",
   "execution_count": 68,
   "id": "25732ea8",
   "metadata": {},
   "outputs": [],
   "source": [
    "def process_text_with_pre_tokenize(text, PAT = r\"\"\"'(?:[sdmt]|ll|ve|re)| ?\\p{L}+| ?\\p{N}+| ?[^\\s\\p{L}\\p{N}]+|\\s+(?!\\S)|\\s+\"\"\"):\n",
    "    '''\n",
    "    Pre-tokenize the text using regex to match tokens.\n",
    "    This function uses a regex pattern to find tokens in the text.\n",
    "    It returns a dictionary with tuple of characters as keys and their counts as values.\n",
    "    '''\n",
    "    token_counts = defaultdict(int)\n",
    "    for match in re.finditer(PAT, text):\n",
    "        token = match.group()\n",
    "        char_tuple = tuple(token)  # Convert string token to tuple of characters\n",
    "        token_counts[char_tuple] += 1\n",
    "    return dict(token_counts)\n"
   ]
  },
  {
   "cell_type": "markdown",
   "id": "b012f7b5",
   "metadata": {},
   "source": [
    "Great question!\n",
    "\n",
    "In this line:\n",
    "\n",
    "return dict(token_counts)\n",
    "\n",
    "You’re converting the defaultdict to a regular dict. Here’s why this is useful (and sometimes necessary):\n",
    "\n",
    "⸻\n",
    "\n",
    "🧠 Reason\n",
    "\n",
    "defaultdict is a subclass of dict, but it has extra behavior: when you access a missing key, it automatically creates it with a default value (like 0 for defaultdict(int)).\n",
    "\n",
    "This can be dangerous or undesired in some contexts, such as:\n",
    "\t•\tSerialization (e.g., saving to JSON) — defaultdict can’t be directly serialized.\n",
    "\t•\tDebugging or displaying — printing defaultdict might be confusing due to its type.\n",
    "\t•\tReturning from a function — to prevent accidental modification or side effects when callers use [] indexing.\n",
    "\n",
    "⸻\n",
    "\n",
    "✅ So, converting to dict:\n",
    "\n",
    "return dict(token_counts)\n",
    "\n",
    "\t•\tMakes the return value a plain Python dictionary (dict).\n",
    "\t•\tRemoves the automatic “default value” behavior.\n",
    "\t•\tIs safer and more portable.\n",
    "\n",
    "⸻\n",
    "\n",
    "🔁 Example\n",
    "\n",
    "from collections import defaultdict\n",
    "\n",
    "d = defaultdict(int)\n",
    "d['a'] += 1\n",
    "print(d['b'])  # Outputs 0 and adds 'b' to the dict\n",
    "\n",
    "d2 = dict(d)\n",
    "print(d2['c'])  # KeyError!\n",
    "\n",
    "So dict(token_counts) ensures no unexpected key creation occurs later.\n",
    "\n",
    "⸻\n",
    "\n",
    "👇 TL;DR\n",
    "\n",
    "We use dict(...) at return time to:\n",
    "\t•\tStrip away the special behavior of defaultdict\n",
    "\t•\tMake the function output predictable and compatible with other tools and libraries\n",
    "\n",
    "Let me know if you’d like to return a defaultdict instead, or if you want examples of why it matters in practice."
   ]
  },
  {
   "cell_type": "code",
   "execution_count": 69,
   "id": "089ef66c",
   "metadata": {},
   "outputs": [],
   "source": [
    "example_text_ag1 = \"\"\"\n",
    "    low low low low low\n",
    "    lower lower widest widest widest\n",
    "    newest newest newest newest newest newest\n",
    "\"\"\""
   ]
  },
  {
   "cell_type": "markdown",
   "id": "de853bca",
   "metadata": {},
   "source": [
    "Test regrex pattern for the assignment"
   ]
  },
  {
   "cell_type": "code",
   "execution_count": 79,
   "id": "717fc2a2",
   "metadata": {},
   "outputs": [
    {
     "data": {
      "text/plain": [
       "{('l', 'o', 'w'): 5,\n",
       " ('l', 'o', 'w', 'e', 'r'): 2,\n",
       " ('w', 'i', 'd', 'e', 's', 't'): 3,\n",
       " ('n', 'e', 'w', 'e', 's', 't'): 6}"
      ]
     },
     "execution_count": 79,
     "metadata": {},
     "output_type": "execute_result"
    }
   ],
   "source": [
    "vocab = process_text_with_pre_tokenize(example_text_ag1, r'\\b[a-zA-Z]+\\b')\n",
    "vocab"
   ]
  },
  {
   "cell_type": "markdown",
   "id": "4644b258",
   "metadata": {},
   "source": [
    "### Merges \n",
    "We first look at every successive pair of bytes and sum the frequency of the words where they appear {lo: 7, ow: 7, we: 8, er: 2, wi: 3, id: 3, de: 3, es: 9, st: 9, ne: 6, ew: 6}. The pair ('es') and ('st') are tied, so we take the lexicographically greater pair, ('st'). We would then merge the pre-tokens so that we end up with {(l,o,w): 5, (l,o,w,e,r): 2, (w,i,d,e,st): 3, (n,e,w,e,st): 6}.\n",
    "\n",
    "In the second round, we see that (e, st) is the most common pair (with a count of 9) and we would merge into {(l,o,w): 5, (l,o,w,e,r): 2, (w,i,d,est): 3, (n,e,w,est): 6}. Continuing this, the sequence of merges we get in the end will be ['s t', 'e st', 'o w', 'l ow', 'w est', 'n e', 'ne west', 'w i', 'wi d', 'wid est', 'low e', 'lowe r'].\n",
    "\n",
    "If we take 6 merges, we have ['s t', 'e st', 'o w', 'l ow', 'w est', 'n e'] and our vocabulary elements would be [<|endoftext|>, [...256 BYTE CHARS], st, est, ow, low, west, ne].\n",
    "\n",
    "With this vocabulary and set of merges, the word newest would tokenize as [ne, west]."
   ]
  },
  {
   "cell_type": "code",
   "execution_count": 88,
   "id": "dc10ad68",
   "metadata": {},
   "outputs": [
    {
     "name": "stdout",
     "output_type": "stream",
     "text": [
      "lowlowlowlowlowlowerlowerwidestwidestwidestnewestnewestnewestnewestnewestnewest\n"
     ]
    }
   ],
   "source": [
    "import regex\n",
    "\n",
    "example_text_ag1 = \"\"\"\n",
    "    low low low low low\n",
    "    lower lower widest widest widest\n",
    "    newest newest newest newest newest newest\n",
    "\"\"\"\n",
    "\n",
    "# This pattern matches one or more Unicode letters\n",
    "tokens = regex.findall(r\"\\p{L}+\", example_text_ag1)\n",
    "pure_word_result = \"\".join(tokens)\n",
    "print(pure_word_result)"
   ]
  },
  {
   "cell_type": "code",
   "execution_count": 90,
   "id": "00526611",
   "metadata": {},
   "outputs": [
    {
     "name": "stdout",
     "output_type": "stream",
     "text": [
      "[108, 111, 119, 108, 111, 119, 108, 111, 119, 108, 111, 119, 108, 111, 119, 108, 111, 119, 101, 114, 108, 111, 119, 101, 114, 119, 105, 100, 101, 115, 116, 119, 105, 100, 101, 115, 116, 119, 105, 100, 101, 115, 116, 110, 101, 119, 101, 115, 116, 110, 101, 119, 101, 115, 116, 110, 101, 119, 101, 115, 116, 110, 101, 119, 101, 115, 116, 110, 101, 119, 101, 115, 116, 110, 101, 119, 101, 115, 116]\n",
      "['l', 'o', 'w', 'l', 'o', 'w', 'l', 'o', 'w', 'l', 'o', 'w', 'l', 'o', 'w', 'l', 'o', 'w', 'e', 'r', 'l', 'o', 'w', 'e', 'r', 'w', 'i', 'd', 'e', 's', 't', 'w', 'i', 'd', 'e', 's', 't', 'w', 'i', 'd', 'e', 's', 't', 'n', 'e', 'w', 'e', 's', 't', 'n', 'e', 'w', 'e', 's', 't', 'n', 'e', 'w', 'e', 's', 't', 'n', 'e', 'w', 'e', 's', 't', 'n', 'e', 'w', 'e', 's', 't', 'n', 'e', 'w', 'e', 's', 't']\n"
     ]
    }
   ],
   "source": [
    "indices = list(map(int, pure_word_result.encode(\"utf-8\")))\n",
    "successive_texts = list(map(str, pure_word_result))\n",
    "print(indices)\n",
    "print(successive_texts)"
   ]
  },
  {
   "cell_type": "code",
   "execution_count": 107,
   "id": "4237272d",
   "metadata": {},
   "outputs": [
    {
     "name": "stdout",
     "output_type": "stream",
     "text": [
      "defaultdict(<class 'int'>, {('l', 'o'): 7, ('o', 'w'): 7, ('w', 'l'): 5, ('w', 'e'): 8, ('e', 'r'): 2, ('r', 'l'): 1, ('r', 'w'): 1, ('w', 'i'): 3, ('i', 'd'): 3, ('d', 'e'): 3, ('e', 's'): 9, ('s', 't'): 9, ('t', 'w'): 2, ('t', 'n'): 6, ('n', 'e'): 6, ('e', 'w'): 6})\n"
     ]
    }
   ],
   "source": [
    "# First we need to get the sucessive pairs of characters\n",
    "char_counts = defaultdict(int)\n",
    "for char1, char2 in zip(successive_texts, successive_texts[1:]): \n",
    "    char_counts[(char1, char2)] += 1\n",
    "print(char_counts)"
   ]
  },
  {
   "cell_type": "markdown",
   "id": "51caac7a",
   "metadata": {},
   "source": [
    "The usage of zip\n",
    "\n",
    "```Python\n",
    "for item in zip([1, 2, 3], ['sugar', 'spice', 'everything nice']):\n",
    "    print(item)\n",
    "```    \n",
    "\n",
    "The expression zip(indices, indices[1:]) creates pairs of consecutive elements from the indices list.\n",
    "\n",
    "indices is a list (for example, a list of byte values or character codes).\n",
    "indices[1:] is the same list but shifted left by one (it skips the first element).\n",
    "When you use zip(indices, indices[1:]), you get an iterator of tuples where each tuple contains two consecutive elements from the original list.\n",
    "\n",
    "Example:\n",
    "\n",
    "```Python\n",
    "indices = [1, 2, 3, 4]\n",
    "pairs = list(zip(indices, indices[1:]))\n",
    "print(pairs)\n",
    "# Output: [(1, 2), (2, 3), (3, 4)]\n",
    "```\n",
    "Use case:\n",
    "This is commonly used to count or process all adjacent pairs in a sequence."
   ]
  },
  {
   "cell_type": "code",
   "execution_count": 95,
   "id": "d642ee05",
   "metadata": {},
   "outputs": [
    {
     "name": "stdout",
     "output_type": "stream",
     "text": [
      "defaultdict(<class 'int'>, {(108, 111): 7, (111, 119): 7, (119, 108): 5, (119, 101): 8, (101, 114): 2, (114, 108): 1, (114, 119): 1, (119, 105): 3, (105, 100): 3, (100, 101): 3, (101, 115): 9, (115, 116): 9, (116, 119): 2, (116, 110): 6, (110, 101): 6, (101, 119): 6})\n"
     ]
    }
   ],
   "source": [
    "# First we need to get the sucessive pairs of characters\n",
    "int_counts = defaultdict(int)\n",
    "for index1, index2 in zip(indices, indices[1:]): \n",
    "    int_counts[(index1, index2)] += 1\n",
    "print(int_counts)"
   ]
  },
  {
   "cell_type": "code",
   "execution_count": 108,
   "id": "70ba3f06",
   "metadata": {},
   "outputs": [
    {
     "name": "stdout",
     "output_type": "stream",
     "text": [
      "('s', 't')\n"
     ]
    }
   ],
   "source": [
    "max_pair = max(char_counts, key=lambda x: (char_counts[x], x))\n",
    "print(max_pair)  # This will print ('s', 't')"
   ]
  },
  {
   "cell_type": "code",
   "execution_count": 109,
   "id": "f59f26fe",
   "metadata": {},
   "outputs": [],
   "source": [
    "def combine_successive_tokens(tokens):\n",
    "    # First we need to get the sucessive pairs of characters\n",
    "    counts = defaultdict(int)\n",
    "    for indices1, indices2 in zip(tokens, tokens[1:]): \n",
    "        counts[(indices1, indices2)] += 1\n",
    "    return counts\n",
    "\n",
    "def find_max_pair(counts):\n",
    "    # Find the maximum pair based on the counts\n",
    "    max_pair = max(counts, key=lambda x: (counts[x], x))\n",
    "    return max_pair\n"
   ]
  },
  {
   "cell_type": "code",
   "execution_count": 116,
   "id": "55b2eaeb",
   "metadata": {},
   "outputs": [],
   "source": [
    "successive_texts = list(map(str, pure_word_result))"
   ]
  },
  {
   "cell_type": "code",
   "execution_count": 117,
   "id": "cccd5e72",
   "metadata": {},
   "outputs": [],
   "source": [
    "match1, match2 = find_max_pair(combine_successive_tokens(successive_texts))"
   ]
  },
  {
   "cell_type": "code",
   "execution_count": 121,
   "id": "8a6affe2",
   "metadata": {},
   "outputs": [],
   "source": [
    "def merge_tokens(tokens):\n",
    "    new_tokens = []\n",
    "    for i, (indices1, indices2) in enumerate(zip(successive_texts, successive_texts[1:])):\n",
    "        if indices1 == match1 and indices2 == match2:\n",
    "            new_tokens.append(indices1 + indices2)\n",
    "        elif i > 1 and successive_texts[i-1] == match1 and successive_texts[i] == match2:\n",
    "            continue\n",
    "        else:\n",
    "            new_tokens.append(indices1)\n",
    "\n",
    "    return new_tokens\n",
    "        \n",
    "    "
   ]
  },
  {
   "cell_type": "code",
   "execution_count": 123,
   "id": "09ea06e7",
   "metadata": {},
   "outputs": [
    {
     "name": "stdout",
     "output_type": "stream",
     "text": [
      "['l', 'o', 'w', 'l', 'o', 'w', 'l', 'o', 'w', 'l', 'o', 'w', 'l', 'o', 'w', 'l', 'o', 'w', 'e', 'r', 'l', 'o', 'w', 'e', 'r', 'w', 'i', 'd', 'e', 'st', 'w', 'i', 'd', 'e', 'st', 'w', 'i', 'd', 'e', 'st', 'n', 'e', 'w', 'e', 'st', 'n', 'e', 'w', 'e', 'st', 'n', 'e', 'w', 'e', 'st', 'n', 'e', 'w', 'e', 'st', 'n', 'e', 'w', 'e', 'st', 'n', 'e', 'w', 'e', 'st']\n"
     ]
    }
   ],
   "source": [
    "new_tokens = merge_tokens(successive_texts)\n",
    "print(new_tokens)"
   ]
  },
  {
   "cell_type": "code",
   "execution_count": 125,
   "id": "beb6307f",
   "metadata": {},
   "outputs": [
    {
     "data": {
      "text/plain": [
       "defaultdict(int,\n",
       "            {('l', 'o'): 7,\n",
       "             ('o', 'w'): 7,\n",
       "             ('w', 'l'): 5,\n",
       "             ('w', 'e'): 8,\n",
       "             ('e', 'r'): 2,\n",
       "             ('r', 'l'): 1,\n",
       "             ('r', 'w'): 1,\n",
       "             ('w', 'i'): 3,\n",
       "             ('i', 'd'): 3,\n",
       "             ('d', 'e'): 3,\n",
       "             ('e', 'st'): 9,\n",
       "             ('st', 'w'): 2,\n",
       "             ('st', 'n'): 6,\n",
       "             ('n', 'e'): 6,\n",
       "             ('e', 'w'): 6})"
      ]
     },
     "execution_count": 125,
     "metadata": {},
     "output_type": "execute_result"
    }
   ],
   "source": [
    "combine_successive_tokens(list(map(str, new_tokens)))"
   ]
  },
  {
   "cell_type": "markdown",
   "id": "f490ec79",
   "metadata": {},
   "source": [
    "### Now we combine those functions together\n",
    "\n",
    "Currently, in this stage, it aims at solving the original case in the 2016 paper of [Sennrich et al., 2016]."
   ]
  },
  {
   "cell_type": "code",
   "execution_count": null,
   "id": "133c92ab",
   "metadata": {},
   "outputs": [],
   "source": [
    "import regex\n",
    "\n",
    "# This pattern matches one or more Unicode letters\n",
    "def get_raw_tokens(text):\n",
    "    tokens = regex.findall(r\"\\p{L}+\", text)\n",
    "    return \"\".join(tokens)\n",
    "\n",
    "def get_list_of_characters(pure_word_result):\n",
    "    indices = list(map(str, pure_word_result))\n",
    "    return indices\n",
    "\n",
    "def combine_successive_tokens(tokens):\n",
    "    # First we need to get the sucessive pairs of characters\n",
    "    counts = defaultdict(int)\n",
    "    for indices1, indices2 in zip(tokens, tokens[1:]): \n",
    "        counts[(indices1, indices2)] += 1\n",
    "    return counts\n",
    "\n",
    "def find_max_pair(counts):\n",
    "    # Find the maximum pair based on the counts\n",
    "    max_pair = max(counts, key=lambda x: (counts[x], x))\n",
    "    return max_pair\n",
    "\n",
    "def merge_tokens(tokens, match1, match2):\n",
    "    new_tokens = []\n",
    "    for i, (indices1, indices2) in enumerate(zip(tokens, tokens[1:])):\n",
    "        if indices1 == match1 and indices2 == match2:\n",
    "            new_tokens.append(indices1 + indices2)\n",
    "        elif i > 1 and tokens[i-1] == match1 and tokens[i] == match2:\n",
    "            continue\n",
    "        else:\n",
    "            new_tokens.append(indices1)\n",
    "\n",
    "    return new_tokens\n",
    "        \n",
    "\n",
    "def BPE_training_naive_version(text, num_merges = 6):\n",
    "    # get the raw tokens\n",
    "    pure_word_result = get_raw_tokens(text)\n",
    "    # get the list of characters\n",
    "    successive_texts = get_list_of_characters(pure_word_result)\n",
    "    \n",
    "    # iterate over the number of merges\n",
    "    for i in range(num_merges):\n",
    "        # combine successive tokens\n",
    "        counts = combine_successive_tokens(successive_texts)\n",
    "        # find the max pair\n",
    "        match1, match2 = find_max_pair(counts)\n",
    "        print(f\"Maximum Match {i+1}: {match1}, {match2}\")\n",
    "        # merge tokens\n",
    "        successive_texts = merge_tokens(successive_texts, match1, match2)\n",
    "        counts = combine_successive_tokens(successive_texts)\n",
    "        print(f\"After merge {i+1}: {successive_texts}\")\n",
    "        print(f\"Counts: {counts}\")\n",
    "    \n",
    "    return successive_texts, counts\n"
   ]
  },
  {
   "cell_type": "code",
   "execution_count": null,
   "id": "9945e5ee",
   "metadata": {},
   "outputs": [],
   "source": [
    "example_text_ag1 = \"\"\"\n",
    "    low low low low low\n",
    "    lower lower widest widest widest\n",
    "    newest newest newest newest newest newest\n",
    "\"\"\""
   ]
  },
  {
   "cell_type": "code",
   "execution_count": 147,
   "id": "1bdf6724",
   "metadata": {},
   "outputs": [
    {
     "name": "stdout",
     "output_type": "stream",
     "text": [
      "Maximum Match 1: s, t\n",
      "After merge 1: ['l', 'o', 'w', 'l', 'o', 'w', 'l', 'o', 'w', 'l', 'o', 'w', 'l', 'o', 'w', 'l', 'o', 'w', 'e', 'r', 'l', 'o', 'w', 'e', 'r', 'w', 'i', 'd', 'e', 'st', 'w', 'i', 'd', 'e', 'st', 'w', 'i', 'd', 'e', 'st', 'n', 'e', 'w', 'e', 'st', 'n', 'e', 'w', 'e', 'st', 'n', 'e', 'w', 'e', 'st', 'n', 'e', 'w', 'e', 'st', 'n', 'e', 'w', 'e', 'st', 'n', 'e', 'w', 'e', 'st']\n",
      "Counts: defaultdict(<class 'int'>, {('l', 'o'): 7, ('o', 'w'): 7, ('w', 'l'): 5, ('w', 'e'): 8, ('e', 'r'): 2, ('r', 'l'): 1, ('r', 'w'): 1, ('w', 'i'): 3, ('i', 'd'): 3, ('d', 'e'): 3, ('e', 'st'): 9, ('st', 'w'): 2, ('st', 'n'): 6, ('n', 'e'): 6, ('e', 'w'): 6})\n",
      "Maximum Match 2: e, st\n",
      "After merge 2: ['l', 'o', 'w', 'l', 'o', 'w', 'l', 'o', 'w', 'l', 'o', 'w', 'l', 'o', 'w', 'l', 'o', 'w', 'e', 'r', 'l', 'o', 'w', 'e', 'r', 'w', 'i', 'd', 'est', 'w', 'i', 'd', 'est', 'w', 'i', 'd', 'est', 'n', 'e', 'w', 'est', 'n', 'e', 'w', 'est', 'n', 'e', 'w', 'est', 'n', 'e', 'w', 'est', 'n', 'e', 'w', 'est', 'n', 'e', 'w', 'est']\n",
      "Counts: defaultdict(<class 'int'>, {('l', 'o'): 7, ('o', 'w'): 7, ('w', 'l'): 5, ('w', 'e'): 2, ('e', 'r'): 2, ('r', 'l'): 1, ('r', 'w'): 1, ('w', 'i'): 3, ('i', 'd'): 3, ('d', 'est'): 3, ('est', 'w'): 2, ('est', 'n'): 6, ('n', 'e'): 6, ('e', 'w'): 6, ('w', 'est'): 6})\n",
      "Maximum Match 3: o, w\n",
      "After merge 3: ['l', 'ow', 'l', 'ow', 'l', 'ow', 'l', 'ow', 'l', 'ow', 'l', 'ow', 'e', 'r', 'l', 'ow', 'e', 'r', 'w', 'i', 'd', 'est', 'w', 'i', 'd', 'est', 'w', 'i', 'd', 'est', 'n', 'e', 'w', 'est', 'n', 'e', 'w', 'est', 'n', 'e', 'w', 'est', 'n', 'e', 'w', 'est', 'n', 'e', 'w', 'est', 'n', 'e', 'w']\n",
      "Counts: defaultdict(<class 'int'>, {('l', 'ow'): 7, ('ow', 'l'): 5, ('ow', 'e'): 2, ('e', 'r'): 2, ('r', 'l'): 1, ('r', 'w'): 1, ('w', 'i'): 3, ('i', 'd'): 3, ('d', 'est'): 3, ('est', 'w'): 2, ('est', 'n'): 6, ('n', 'e'): 6, ('e', 'w'): 6, ('w', 'est'): 5})\n",
      "Maximum Match 4: l, ow\n",
      "After merge 4: ['low', 'ow', 'low', 'low', 'low', 'low', 'low', 'e', 'r', 'low', 'e', 'r', 'w', 'i', 'd', 'est', 'w', 'i', 'd', 'est', 'w', 'i', 'd', 'est', 'n', 'e', 'w', 'est', 'n', 'e', 'w', 'est', 'n', 'e', 'w', 'est', 'n', 'e', 'w', 'est', 'n', 'e', 'w', 'est', 'n', 'e']\n",
      "Counts: defaultdict(<class 'int'>, {('low', 'ow'): 1, ('ow', 'low'): 1, ('low', 'low'): 4, ('low', 'e'): 2, ('e', 'r'): 2, ('r', 'low'): 1, ('r', 'w'): 1, ('w', 'i'): 3, ('i', 'd'): 3, ('d', 'est'): 3, ('est', 'w'): 2, ('est', 'n'): 6, ('n', 'e'): 6, ('e', 'w'): 5, ('w', 'est'): 5})\n",
      "Maximum Match 5: n, e\n",
      "After merge 5: ['low', 'ow', 'low', 'low', 'low', 'low', 'low', 'e', 'r', 'low', 'e', 'r', 'w', 'i', 'd', 'est', 'w', 'i', 'd', 'est', 'w', 'i', 'd', 'est', 'ne', 'w', 'est', 'ne', 'w', 'est', 'ne', 'w', 'est', 'ne', 'w', 'est', 'ne', 'w', 'est', 'ne']\n",
      "Counts: defaultdict(<class 'int'>, {('low', 'ow'): 1, ('ow', 'low'): 1, ('low', 'low'): 4, ('low', 'e'): 2, ('e', 'r'): 2, ('r', 'low'): 1, ('r', 'w'): 1, ('w', 'i'): 3, ('i', 'd'): 3, ('d', 'est'): 3, ('est', 'w'): 2, ('est', 'ne'): 6, ('ne', 'w'): 5, ('w', 'est'): 5})\n",
      "Maximum Match 6: est, ne\n",
      "After merge 6: ['low', 'ow', 'low', 'low', 'low', 'low', 'low', 'e', 'r', 'low', 'e', 'r', 'w', 'i', 'd', 'est', 'w', 'i', 'd', 'est', 'w', 'i', 'd', 'estne', 'w', 'estne', 'w', 'estne', 'w', 'estne', 'w', 'estne', 'w', 'estne']\n",
      "Counts: defaultdict(<class 'int'>, {('low', 'ow'): 1, ('ow', 'low'): 1, ('low', 'low'): 4, ('low', 'e'): 2, ('e', 'r'): 2, ('r', 'low'): 1, ('r', 'w'): 1, ('w', 'i'): 3, ('i', 'd'): 3, ('d', 'est'): 2, ('est', 'w'): 2, ('d', 'estne'): 1, ('estne', 'w'): 5, ('w', 'estne'): 5})\n"
     ]
    }
   ],
   "source": [
    "final_result, counts = BPE_training_naive_version(example_text_ag1, num_merges = 6)"
   ]
  },
  {
   "cell_type": "code",
   "execution_count": null,
   "id": "c37d7a47",
   "metadata": {},
   "outputs": [],
   "source": []
  },
  {
   "cell_type": "code",
   "execution_count": null,
   "id": "854068a1",
   "metadata": {},
   "outputs": [],
   "source": []
  },
  {
   "cell_type": "markdown",
   "id": "64e465b7",
   "metadata": {},
   "source": []
  },
  {
   "cell_type": "code",
   "execution_count": 140,
   "id": "0d5ed1ae",
   "metadata": {},
   "outputs": [
    {
     "name": "stdout",
     "output_type": "stream",
     "text": [
      "['low', 'ow', 'low', 'low', 'low', 'low', 'low', 'e', 'r', 'low', 'e', 'r', 'w', 'i', 'd', 'est', 'w', 'i', 'd', 'est', 'w', 'i', 'd', 'estne', 'w', 'estne', 'w', 'estne', 'w', 'estne', 'w', 'estne', 'w', 'estne']\n",
      "defaultdict(<class 'int'>, {('low', 'ow'): 1, ('ow', 'low'): 1, ('low', 'low'): 4, ('low', 'e'): 2, ('e', 'r'): 2, ('r', 'low'): 1, ('r', 'w'): 1, ('w', 'i'): 3, ('i', 'd'): 3, ('d', 'est'): 3, ('est', 'w'): 2, ('est', 'ne'): 6, ('ne', 'w'): 5, ('w', 'est'): 5})\n"
     ]
    }
   ],
   "source": [
    "print(final_result)\n",
    "print(counts)"
   ]
  },
  {
   "cell_type": "code",
   "execution_count": 142,
   "id": "c8ced9ce",
   "metadata": {},
   "outputs": [
    {
     "data": {
      "text/plain": [
       "[('low', 'ow'),\n",
       " ('ow', 'low'),\n",
       " ('low', 'low'),\n",
       " ('low', 'e'),\n",
       " ('e', 'r'),\n",
       " ('r', 'low'),\n",
       " ('r', 'w'),\n",
       " ('w', 'i'),\n",
       " ('i', 'd'),\n",
       " ('d', 'est'),\n",
       " ('est', 'w'),\n",
       " ('est', 'ne'),\n",
       " ('ne', 'w'),\n",
       " ('w', 'est')]"
      ]
     },
     "execution_count": 142,
     "metadata": {},
     "output_type": "execute_result"
    }
   ],
   "source": [
    "list(counts.keys())"
   ]
  },
  {
   "cell_type": "markdown",
   "id": "e7fc16d5",
   "metadata": {},
   "source": [
    "### Here is a version that chatGPT fixes for me\n"
   ]
  },
  {
   "cell_type": "markdown",
   "id": "d420560f",
   "metadata": {},
   "source": [
    "### 🔍 Problem Diagnosis\n",
    "\n",
    "The core problem lies in how you are merging your tokens and keeping track of them across whole words. Let me explain what went wrong and how to align it with the BPE logic:\n",
    "\n",
    "#### ❌ Issue 1: Merging across words\n",
    "\n",
    "Your current implementation processes all characters linearly, without considering word boundaries. For example, you merge `'st'` in the sequence:\n",
    "\n",
    "```python\n",
    "['n', 'e', 'w', 'e', 'st', 'n', 'e', 'w', 'e', 'st']\n",
    "```\n",
    "\n",
    "But this flattening means BPE is applied **across different words**, which shouldn’t happen.\n",
    "\n",
    "#### ❌ Issue 2: Tokens are not grouped by words\n",
    "\n",
    "You converted the input into:\n",
    "\n",
    "```python\n",
    "'l', 'o', 'w', 'l', 'o', 'w', ...\n",
    "```\n",
    "\n",
    "instead of keeping words like:\n",
    "\n",
    "```python\n",
    "['l', 'o', 'w'], ['l', 'o', 'w'], ...\n",
    "```\n",
    "\n",
    "This causes merges to affect across word boundaries.\n",
    "\n",
    "---\n",
    "\n",
    "### ✅ Expected Approach\n",
    "\n",
    "📌 BPE operates **within each word**, and frequencies are tracked **across words**. So the input should be:\n",
    "\n",
    "```python\n",
    "[\n",
    "    ['l', 'o', 'w'],\n",
    "    ['l', 'o', 'w'],\n",
    "    ['l', 'o', 'w'],\n",
    "    ['l', 'o', 'w'],\n",
    "    ['l', 'o', 'w'],\n",
    "    ['l', 'o', 'w', 'e', 'r'],\n",
    "    ['l', 'o', 'w', 'e', 'r'],\n",
    "    ['w', 'i', 'd', 'e', 's', 't'],\n",
    "    ['w', 'i', 'd', 'e', 's', 't'],\n",
    "    ['w', 'i', 'd', 'e', 's', 't'],\n",
    "    ['n', 'e', 'w', 'e', 's', 't'],\n",
    "    ...\n",
    "]\n",
    "```\n",
    "\n",
    "Then, you collect counts of adjacent symbol pairs across all words.\n",
    "\n",
    "---\n",
    "\n",
    "### ✅ Fixing Your Implementation\n",
    "\n",
    "Here’s the key change you should make:\n",
    "\n",
    "#### 1. Update `get_list_of_characters` to preserve word boundaries\n",
    "\n",
    "```python\n",
    "def get_list_of_characters(pure_word_result):\n",
    "    return [list(word) for word in pure_word_result.split()]\n",
    "```\n",
    "\n",
    "---\n",
    "\n",
    "#### 2. Fix `combine_successive_tokens`\n",
    "\n",
    "```python\n",
    "def combine_successive_tokens(tokens_list):\n",
    "    counts = defaultdict(int)\n",
    "    for word in tokens_list:\n",
    "        for i in range(len(word) - 1):\n",
    "            counts[(word[i], word[i+1])] += 1\n",
    "    return counts\n",
    "```\n",
    "\n",
    "---\n",
    "\n",
    "#### 3. Fix `merge_tokens` to merge in each word\n",
    "\n",
    "```python\n",
    "def merge_tokens(tokens_list, match1, match2):\n",
    "    new_tokens_list = []\n",
    "    for word in tokens_list:\n",
    "        new_word = []\n",
    "        i = 0\n",
    "        while i < len(word):\n",
    "            if i < len(word) - 1 and word[i] == match1 and word[i+1] == match2:\n",
    "                new_word.append(match1 + match2)\n",
    "                i += 2\n",
    "            else:\n",
    "                new_word.append(word[i])\n",
    "                i += 1\n",
    "        new_tokens_list.append(new_word)\n",
    "    return new_tokens_list\n",
    "```\n",
    "\n",
    "---\n",
    "\n",
    "#### 4. Update main loop in `BPE_training_naive_version`\n",
    "\n",
    "Only minor changes are needed here once the above is fixed.\n",
    "\n",
    "---\n",
    "\n",
    "### ✅ Bonus: Add Print Debug Helpers\n",
    "\n",
    "Add a helper to visualize your current tokens:\n",
    "\n",
    "```python\n",
    "def print_tokens(tokens_list):\n",
    "    print(\" \".join([\"\".join(word) for word in tokens_list]))\n",
    "```\n",
    "\n",
    "Call this after each merge to check your progress.\n",
    "\n",
    "---\n",
    "\n",
    "### ✅ With These Fixes\n",
    "\n",
    "Your merge sequence will now match:\n",
    "\n",
    "```python\n",
    "['s t', 'e st', 'o w', 'l ow', 'w est', 'n e']\n",
    "```\n",
    "\n",
    "And `newest` will become:\n",
    "\n",
    "```python\n",
    "['ne', 'west']\n",
    "```\n",
    "\n",
    "with 6 merges."
   ]
  },
  {
   "cell_type": "code",
   "execution_count": null,
   "id": "dd390ad6",
   "metadata": {},
   "outputs": [
    {
     "name": "stdout",
     "output_type": "stream",
     "text": [
      "Counts: defaultdict(<class 'int'>, {('l', 'o'): 7, ('o', 'w'): 7, ('w', 'e'): 8, ('e', 'r'): 2, ('w', 'i'): 3, ('i', 'd'): 3, ('d', 'e'): 3, ('e', 's'): 9, ('s', 't'): 9, ('n', 'e'): 6, ('e', 'w'): 6})\n",
      "Merge 1: (s, t)\n",
      "Current tokens:\n",
      "[['l', 'o', 'w'], ['l', 'o', 'w'], ['l', 'o', 'w'], ['l', 'o', 'w'], ['l', 'o', 'w'], ['l', 'o', 'w', 'e', 'r'], ['l', 'o', 'w', 'e', 'r'], ['w', 'i', 'd', 'e', 'st'], ['w', 'i', 'd', 'e', 'st'], ['w', 'i', 'd', 'e', 'st'], ['n', 'e', 'w', 'e', 'st'], ['n', 'e', 'w', 'e', 'st'], ['n', 'e', 'w', 'e', 'st'], ['n', 'e', 'w', 'e', 'st'], ['n', 'e', 'w', 'e', 'st'], ['n', 'e', 'w', 'e', 'st']]\n",
      "l' 'o' 'w l' 'o' 'w l' 'o' 'w l' 'o' 'w l' 'o' 'w l' 'o' 'w' 'e' 'r l' 'o' 'w' 'e' 'r w' 'i' 'd' 'e' 'st w' 'i' 'd' 'e' 'st w' 'i' 'd' 'e' 'st n' 'e' 'w' 'e' 'st n' 'e' 'w' 'e' 'st n' 'e' 'w' 'e' 'st n' 'e' 'w' 'e' 'st n' 'e' 'w' 'e' 'st n' 'e' 'w' 'e' 'st\n",
      "\n",
      "Counts: defaultdict(<class 'int'>, {('l', 'o'): 7, ('o', 'w'): 7, ('w', 'e'): 8, ('e', 'r'): 2, ('w', 'i'): 3, ('i', 'd'): 3, ('d', 'e'): 3, ('e', 'st'): 9, ('n', 'e'): 6, ('e', 'w'): 6})\n",
      "Merge 2: (e, st)\n",
      "Current tokens:\n",
      "[['l', 'o', 'w'], ['l', 'o', 'w'], ['l', 'o', 'w'], ['l', 'o', 'w'], ['l', 'o', 'w'], ['l', 'o', 'w', 'e', 'r'], ['l', 'o', 'w', 'e', 'r'], ['w', 'i', 'd', 'est'], ['w', 'i', 'd', 'est'], ['w', 'i', 'd', 'est'], ['n', 'e', 'w', 'est'], ['n', 'e', 'w', 'est'], ['n', 'e', 'w', 'est'], ['n', 'e', 'w', 'est'], ['n', 'e', 'w', 'est'], ['n', 'e', 'w', 'est']]\n",
      "l' 'o' 'w l' 'o' 'w l' 'o' 'w l' 'o' 'w l' 'o' 'w l' 'o' 'w' 'e' 'r l' 'o' 'w' 'e' 'r w' 'i' 'd' 'est w' 'i' 'd' 'est w' 'i' 'd' 'est n' 'e' 'w' 'est n' 'e' 'w' 'est n' 'e' 'w' 'est n' 'e' 'w' 'est n' 'e' 'w' 'est n' 'e' 'w' 'est\n",
      "\n",
      "Counts: defaultdict(<class 'int'>, {('l', 'o'): 7, ('o', 'w'): 7, ('w', 'e'): 2, ('e', 'r'): 2, ('w', 'i'): 3, ('i', 'd'): 3, ('d', 'est'): 3, ('n', 'e'): 6, ('e', 'w'): 6, ('w', 'est'): 6})\n",
      "Merge 3: (o, w)\n",
      "Current tokens:\n",
      "[['l', 'ow'], ['l', 'ow'], ['l', 'ow'], ['l', 'ow'], ['l', 'ow'], ['l', 'ow', 'e', 'r'], ['l', 'ow', 'e', 'r'], ['w', 'i', 'd', 'est'], ['w', 'i', 'd', 'est'], ['w', 'i', 'd', 'est'], ['n', 'e', 'w', 'est'], ['n', 'e', 'w', 'est'], ['n', 'e', 'w', 'est'], ['n', 'e', 'w', 'est'], ['n', 'e', 'w', 'est'], ['n', 'e', 'w', 'est']]\n",
      "l' 'ow l' 'ow l' 'ow l' 'ow l' 'ow l' 'ow' 'e' 'r l' 'ow' 'e' 'r w' 'i' 'd' 'est w' 'i' 'd' 'est w' 'i' 'd' 'est n' 'e' 'w' 'est n' 'e' 'w' 'est n' 'e' 'w' 'est n' 'e' 'w' 'est n' 'e' 'w' 'est n' 'e' 'w' 'est\n",
      "\n",
      "Counts: defaultdict(<class 'int'>, {('l', 'ow'): 7, ('ow', 'e'): 2, ('e', 'r'): 2, ('w', 'i'): 3, ('i', 'd'): 3, ('d', 'est'): 3, ('n', 'e'): 6, ('e', 'w'): 6, ('w', 'est'): 6})\n",
      "Merge 4: (l, ow)\n",
      "Current tokens:\n",
      "[['low'], ['low'], ['low'], ['low'], ['low'], ['low', 'e', 'r'], ['low', 'e', 'r'], ['w', 'i', 'd', 'est'], ['w', 'i', 'd', 'est'], ['w', 'i', 'd', 'est'], ['n', 'e', 'w', 'est'], ['n', 'e', 'w', 'est'], ['n', 'e', 'w', 'est'], ['n', 'e', 'w', 'est'], ['n', 'e', 'w', 'est'], ['n', 'e', 'w', 'est']]\n",
      "low low low low low low' 'e' 'r low' 'e' 'r w' 'i' 'd' 'est w' 'i' 'd' 'est w' 'i' 'd' 'est n' 'e' 'w' 'est n' 'e' 'w' 'est n' 'e' 'w' 'est n' 'e' 'w' 'est n' 'e' 'w' 'est n' 'e' 'w' 'est\n",
      "\n",
      "Counts: defaultdict(<class 'int'>, {('low', 'e'): 2, ('e', 'r'): 2, ('w', 'i'): 3, ('i', 'd'): 3, ('d', 'est'): 3, ('n', 'e'): 6, ('e', 'w'): 6, ('w', 'est'): 6})\n",
      "Merge 5: (w, est)\n",
      "Current tokens:\n",
      "[['low'], ['low'], ['low'], ['low'], ['low'], ['low', 'e', 'r'], ['low', 'e', 'r'], ['w', 'i', 'd', 'est'], ['w', 'i', 'd', 'est'], ['w', 'i', 'd', 'est'], ['n', 'e', 'west'], ['n', 'e', 'west'], ['n', 'e', 'west'], ['n', 'e', 'west'], ['n', 'e', 'west'], ['n', 'e', 'west']]\n",
      "low low low low low low' 'e' 'r low' 'e' 'r w' 'i' 'd' 'est w' 'i' 'd' 'est w' 'i' 'd' 'est n' 'e' 'west n' 'e' 'west n' 'e' 'west n' 'e' 'west n' 'e' 'west n' 'e' 'west\n",
      "\n",
      "Counts: defaultdict(<class 'int'>, {('low', 'e'): 2, ('e', 'r'): 2, ('w', 'i'): 3, ('i', 'd'): 3, ('d', 'est'): 3, ('n', 'e'): 6, ('e', 'west'): 6})\n",
      "Merge 6: (n, e)\n",
      "Current tokens:\n",
      "[['low'], ['low'], ['low'], ['low'], ['low'], ['low', 'e', 'r'], ['low', 'e', 'r'], ['w', 'i', 'd', 'est'], ['w', 'i', 'd', 'est'], ['w', 'i', 'd', 'est'], ['ne', 'west'], ['ne', 'west'], ['ne', 'west'], ['ne', 'west'], ['ne', 'west'], ['ne', 'west']]\n",
      "low low low low low low' 'e' 'r low' 'e' 'r w' 'i' 'd' 'est w' 'i' 'd' 'est w' 'i' 'd' 'est ne' 'west ne' 'west ne' 'west ne' 'west ne' 'west ne' 'west\n",
      "\n"
     ]
    }
   ],
   "source": [
    "import regex\n",
    "from collections import defaultdict\n",
    "\n",
    "def get_raw_tokens(text):\n",
    "    # Use Unicode letters, then split on whitespace\n",
    "    tokens = regex.findall(r\"\\p{L}+\", text)\n",
    "    return \" \".join(tokens)\n",
    "\n",
    "def get_list_of_characters(pure_word_result):\n",
    "    # Preserve word boundaries\n",
    "    return [list(word) for word in pure_word_result.split()]\n",
    "\n",
    "def combine_successive_tokens(tokens_list):\n",
    "    counts = defaultdict(int)\n",
    "    # Count only happening during each pre-tokenized words\n",
    "    for word in tokens_list:\n",
    "        for i in range(len(word) - 1):\n",
    "            counts[(word[i], word[i+1])] += 1\n",
    "    return counts\n",
    "\n",
    "def find_max_pair(counts):\n",
    "    # Deterministic: break ties using lexicographic order\n",
    "    return max(counts, key=lambda x: (counts[x], x))\n",
    "\n",
    "def merge_tokens(tokens_list, match1, match2):\n",
    "    new_tokens_list = []\n",
    "    for word in tokens_list:\n",
    "        new_word = []\n",
    "        i = 0\n",
    "        while i < len(word):\n",
    "            if i < len(word) - 1 and word[i] == match1 and word[i+1] == match2:\n",
    "                new_word.append(match1 + match2)\n",
    "                i += 2\n",
    "            else:\n",
    "                new_word.append(word[i])\n",
    "                i += 1\n",
    "        new_tokens_list.append(new_word)\n",
    "    return new_tokens_list\n",
    "\n",
    "def print_tokens(tokens_list):\n",
    "    print(\"Current tokens:\")\n",
    "    print(tokens_list)\n",
    "    print(\" \".join([\"' '\".join(word) for word in tokens_list]))\n",
    "    print()\n",
    "\n",
    "def BPE_training_naive_version(text, num_merges=6):\n",
    "    # Step 1: Pre-tokenization and splitting into characters\n",
    "    pure_word_result = get_raw_tokens(text)\n",
    "    tokens_list = get_list_of_characters(pure_word_result)\n",
    "\n",
    "    # Step 2: Perform merges\n",
    "    for i in range(num_merges):\n",
    "        counts = combine_successive_tokens(tokens_list)\n",
    "        print(f\"Counts: {counts}\")\n",
    "        if not counts:\n",
    "            break\n",
    "        match1, match2 = find_max_pair(counts)\n",
    "        print(f\"Merge {i+1}: ({match1}, {match2})\")\n",
    "        tokens_list = merge_tokens(tokens_list, match1, match2)\n",
    "        print_tokens(tokens_list)\n",
    "\n",
    "    return tokens_list\n",
    "\n",
    "# Example text from Sennrich et al. (2016)\n",
    "example_text_ag1 = \"\"\"\n",
    "    low low low low low\n",
    "    lower lower widest widest widest\n",
    "    newest newest newest newest newest newest\n",
    "\"\"\"\n",
    "\n",
    "# Run BPE training\n",
    "final_result = BPE_training_naive_version(example_text_ag1, num_merges=6)"
   ]
  },
  {
   "cell_type": "code",
   "execution_count": 156,
   "id": "45b5d4b2",
   "metadata": {},
   "outputs": [
    {
     "data": {
      "text/plain": [
       "[['low'],\n",
       " ['low'],\n",
       " ['low'],\n",
       " ['low'],\n",
       " ['low'],\n",
       " ['low', 'e', 'r'],\n",
       " ['low', 'e', 'r'],\n",
       " ['w', 'i', 'd', 'est'],\n",
       " ['w', 'i', 'd', 'est'],\n",
       " ['w', 'i', 'd', 'est'],\n",
       " ['ne', 'west'],\n",
       " ['ne', 'west'],\n",
       " ['ne', 'west'],\n",
       " ['ne', 'west'],\n",
       " ['ne', 'west'],\n",
       " ['ne', 'west']]"
      ]
     },
     "execution_count": 156,
     "metadata": {},
     "output_type": "execute_result"
    }
   ],
   "source": [
    "final_result"
   ]
  },
  {
   "cell_type": "markdown",
   "id": "dc2bfb87",
   "metadata": {},
   "source": [
    "#### Here is a optimized version of the BPE training code using a frequency dictionary to avoid redundant work in combine_successive_tokens (renamed to count_pair_frequencies):"
   ]
  },
  {
   "cell_type": "code",
   "execution_count": 211,
   "id": "3575eb73",
   "metadata": {},
   "outputs": [],
   "source": [
    "import regex\n",
    "from collections import defaultdict, Counter\n",
    "\n",
    "def get_raw_tokens(text, PAT = r\"\"\"'(?:[sdmt]|ll|ve|re)| ?\\p{L}+| ?\\p{N}+| ?[^\\s\\p{L}\\p{N}]+|\\s+(?!\\S)|\\s+\"\"\"):\n",
    "    # Use Unicode letters, then split on whitespace\n",
    "    tokens = regex.findall(PAT, text)\n",
    "    return \" \".join(tokens)\n",
    "\n",
    "def get_list_of_characters(pure_word_result):\n",
    "    # Preserve word boundaries\n",
    "    return [list(word) for word in pure_word_result.split()]\n",
    "\n",
    "def count_pair_frequencies(tokens_counter):\n",
    "    counts = defaultdict(int)\n",
    "    for word, freq in tokens_counter.items():\n",
    "        for i in range(len(word) - 1):\n",
    "            pair = (word[i], word[i+1])\n",
    "            counts[pair] += freq\n",
    "    return counts\n",
    "\n",
    "def find_max_pair(counts):\n",
    "    # Deterministic: break ties using lexicographic order\n",
    "    return max(counts, key=lambda x: (counts[x], x))\n",
    "\n",
    "def merge_tokens(tokens_counter, match1, match2):\n",
    "    new_counter = Counter()\n",
    "    for word, freq in tokens_counter.items():\n",
    "        new_word = []\n",
    "        i = 0\n",
    "        while i < len(word):\n",
    "            if i < len(word) - 1 and word[i] == match1 and word[i+1] == match2:\n",
    "                new_word.append(match1 + match2)\n",
    "                i += 2\n",
    "            else:\n",
    "                new_word.append(word[i])\n",
    "                i += 1\n",
    "        new_counter[tuple(new_word)] += freq\n",
    "    return new_counter\n",
    "\n",
    "def print_tokens(tokens_counter):\n",
    "    print(\"Current tokens:\")\n",
    "    tokens_list = [list(word) for word in tokens_counter.keys()]\n",
    "    print(\" \".join([\"' '\".join(word) for word in tokens_list]))\n",
    "    print()\n",
    "\n",
    "def BPE_training_naive_version(text, num_merges=6, verbose=False, PAT = r\"\"\"'(?:[sdmt]|ll|ve|re)| ?\\p{L}+| ?\\p{N}+| ?[^\\s\\p{L}\\p{N}]+|\\s+(?!\\S)|\\s+\"\"\"):\n",
    "    # Step 1: Pre-tokenization and splitting into characters\n",
    "    new_vocab = []\n",
    "    pure_word_result = get_raw_tokens(text, PAT)\n",
    "    tokens_list = get_list_of_characters(pure_word_result)\n",
    "    tokens_counter = Counter(tuple(word) for word in tokens_list)\n",
    "\n",
    "    # Step 2: Perform merges\n",
    "    for i in range(num_merges):\n",
    "        counts = count_pair_frequencies(tokens_counter)\n",
    "        if not counts:\n",
    "            break\n",
    "        match1, match2 = find_max_pair(counts)\n",
    "        new_vocab.append(match1+match2)\n",
    "        tokens_counter = merge_tokens(tokens_counter, match1, match2)\n",
    "        if verbose:\n",
    "            print(f\"Counts: {counts}\")\n",
    "            print(f\"Merge {i+1}: ({match1}, {match2})\")\n",
    "            print_tokens(tokens_counter)\n",
    "\n",
    "    return tokens_counter, new_vocab\n"
   ]
  },
  {
   "cell_type": "code",
   "execution_count": 214,
   "id": "45c052ac",
   "metadata": {},
   "outputs": [
    {
     "name": "stdout",
     "output_type": "stream",
     "text": [
      "\n",
      "     low 'll  low  low  low  low \n",
      "     lower  lower  widest  widest  widest \n",
      "     newest  newest  newest  newest  newest  newest \n",
      "\n",
      "[['l', 'o', 'w'], [\"'\", 'l', 'l'], ['l', 'o', 'w'], ['l', 'o', 'w'], ['l', 'o', 'w'], ['l', 'o', 'w'], ['l', 'o', 'w', 'e', 'r'], ['l', 'o', 'w', 'e', 'r'], ['w', 'i', 'd', 'e', 's', 't'], ['w', 'i', 'd', 'e', 's', 't'], ['w', 'i', 'd', 'e', 's', 't'], ['n', 'e', 'w', 'e', 's', 't'], ['n', 'e', 'w', 'e', 's', 't'], ['n', 'e', 'w', 'e', 's', 't'], ['n', 'e', 'w', 'e', 's', 't'], ['n', 'e', 'w', 'e', 's', 't'], ['n', 'e', 'w', 'e', 's', 't']]\n"
     ]
    }
   ],
   "source": [
    "# Example text from Sennrich et al. (2016)\n",
    "example_text_ag1 = \"\"\"\n",
    "    low'll low low low low\n",
    "    lower lower widest widest widest\n",
    "    newest newest newest newest newest newest\n",
    "\"\"\"\n",
    "raw_tokens = get_raw_tokens(example_text_ag1,  PAT = r\"\"\"'(?:[sdmt]|ll|ve|re)| ?\\p{L}+| ?\\p{N}+| ?[^\\s\\p{L}\\p{N}]+|\\s+(?!\\S)|\\s+\"\"\")\n",
    "list_tokens = get_list_of_characters(raw_tokens)\n",
    "print(raw_tokens)\n",
    "print(list_tokens)"
   ]
  },
  {
   "cell_type": "code",
   "execution_count": 215,
   "id": "c096b2aa",
   "metadata": {},
   "outputs": [
    {
     "name": "stdout",
     "output_type": "stream",
     "text": [
      "low ll low low low low lower lower widest widest widest newest newest newest newest newest newest\n",
      "[['l', 'o', 'w'], ['l', 'l'], ['l', 'o', 'w'], ['l', 'o', 'w'], ['l', 'o', 'w'], ['l', 'o', 'w'], ['l', 'o', 'w', 'e', 'r'], ['l', 'o', 'w', 'e', 'r'], ['w', 'i', 'd', 'e', 's', 't'], ['w', 'i', 'd', 'e', 's', 't'], ['w', 'i', 'd', 'e', 's', 't'], ['n', 'e', 'w', 'e', 's', 't'], ['n', 'e', 'w', 'e', 's', 't'], ['n', 'e', 'w', 'e', 's', 't'], ['n', 'e', 'w', 'e', 's', 't'], ['n', 'e', 'w', 'e', 's', 't'], ['n', 'e', 'w', 'e', 's', 't']]\n"
     ]
    }
   ],
   "source": [
    "# Example text from Sennrich et al. (2016)\n",
    "example_text_ag1 = \"\"\"\n",
    "    low'll low low low low\n",
    "    lower lower widest widest widest\n",
    "    newest newest newest newest newest newest\n",
    "\"\"\"\n",
    "raw_tokens = get_raw_tokens(example_text_ag1,  PAT = r\"\\p{L}+\")\n",
    "list_tokens = get_list_of_characters(raw_tokens)\n",
    "print(raw_tokens)\n",
    "print(list_tokens)"
   ]
  },
  {
   "cell_type": "code",
   "execution_count": null,
   "id": "cdb4e31e",
   "metadata": {},
   "outputs": [
    {
     "name": "stdout",
     "output_type": "stream",
     "text": [
      "Counts: defaultdict(<class 'int'>, {('l', 'o'): 7, ('o', 'w'): 7, ('w', 'e'): 8, ('e', 'r'): 2, ('w', 'i'): 3, ('i', 'd'): 3, ('d', 'e'): 3, ('e', 's'): 9, ('s', 't'): 9, ('n', 'e'): 6, ('e', 'w'): 6})\n",
      "Merge 1: (s, t)\n",
      "Current tokens:\n",
      "l' 'o' 'w l' 'o' 'w' 'e' 'r w' 'i' 'd' 'e' 'st n' 'e' 'w' 'e' 'st\n",
      "\n",
      "Counts: defaultdict(<class 'int'>, {('l', 'o'): 7, ('o', 'w'): 7, ('w', 'e'): 8, ('e', 'r'): 2, ('w', 'i'): 3, ('i', 'd'): 3, ('d', 'e'): 3, ('e', 'st'): 9, ('n', 'e'): 6, ('e', 'w'): 6})\n",
      "Merge 2: (e, st)\n",
      "Current tokens:\n",
      "l' 'o' 'w l' 'o' 'w' 'e' 'r w' 'i' 'd' 'est n' 'e' 'w' 'est\n",
      "\n",
      "Counts: defaultdict(<class 'int'>, {('l', 'o'): 7, ('o', 'w'): 7, ('w', 'e'): 2, ('e', 'r'): 2, ('w', 'i'): 3, ('i', 'd'): 3, ('d', 'est'): 3, ('n', 'e'): 6, ('e', 'w'): 6, ('w', 'est'): 6})\n",
      "Merge 3: (o, w)\n",
      "Current tokens:\n",
      "l' 'ow l' 'ow' 'e' 'r w' 'i' 'd' 'est n' 'e' 'w' 'est\n",
      "\n",
      "Counts: defaultdict(<class 'int'>, {('l', 'ow'): 7, ('ow', 'e'): 2, ('e', 'r'): 2, ('w', 'i'): 3, ('i', 'd'): 3, ('d', 'est'): 3, ('n', 'e'): 6, ('e', 'w'): 6, ('w', 'est'): 6})\n",
      "Merge 4: (l, ow)\n",
      "Current tokens:\n",
      "low low' 'e' 'r w' 'i' 'd' 'est n' 'e' 'w' 'est\n",
      "\n",
      "Counts: defaultdict(<class 'int'>, {('low', 'e'): 2, ('e', 'r'): 2, ('w', 'i'): 3, ('i', 'd'): 3, ('d', 'est'): 3, ('n', 'e'): 6, ('e', 'w'): 6, ('w', 'est'): 6})\n",
      "Merge 5: (w, est)\n",
      "Current tokens:\n",
      "low low' 'e' 'r w' 'i' 'd' 'est n' 'e' 'west\n",
      "\n",
      "Counts: defaultdict(<class 'int'>, {('low', 'e'): 2, ('e', 'r'): 2, ('w', 'i'): 3, ('i', 'd'): 3, ('d', 'est'): 3, ('n', 'e'): 6, ('e', 'west'): 6})\n",
      "Merge 6: (n, e)\n",
      "Current tokens:\n",
      "low low' 'e' 'r w' 'i' 'd' 'est ne' 'west\n",
      "\n"
     ]
    }
   ],
   "source": [
    "\n",
    "\n",
    "# Run BPE training\n",
    "final_result, new_vocab = BPE_training_naive_version(example_text_ag1, PAT = r\"\\p{L}+\", num_merges=6, verbose=True)"
   ]
  },
  {
   "cell_type": "code",
   "execution_count": 203,
   "id": "8587aabe",
   "metadata": {},
   "outputs": [
    {
     "data": {
      "text/plain": [
       "['st', 'est', 'ow', 'low', 'west', 'ne']"
      ]
     },
     "execution_count": 203,
     "metadata": {},
     "output_type": "execute_result"
    }
   ],
   "source": [
    "new_vocab"
   ]
  },
  {
   "cell_type": "code",
   "execution_count": 204,
   "id": "96787c26",
   "metadata": {},
   "outputs": [
    {
     "name": "stdout",
     "output_type": "stream",
     "text": [
      "Counts: defaultdict(<class 'int'>, {('l', 'o'): 7, ('o', 'w'): 7, ('w', 'e'): 8, ('e', 'r'): 2, ('w', 'i'): 3, ('i', 'd'): 3, ('d', 'e'): 3, ('e', 's'): 9, ('s', 't'): 9, ('n', 'e'): 6, ('e', 'w'): 6})\n",
      "Merge 1: (s, t)\n",
      "Current tokens:\n",
      "l' 'o' 'w l' 'o' 'w' 'e' 'r w' 'i' 'd' 'e' 'st n' 'e' 'w' 'e' 'st\n",
      "\n",
      "Counts: defaultdict(<class 'int'>, {('l', 'o'): 7, ('o', 'w'): 7, ('w', 'e'): 8, ('e', 'r'): 2, ('w', 'i'): 3, ('i', 'd'): 3, ('d', 'e'): 3, ('e', 'st'): 9, ('n', 'e'): 6, ('e', 'w'): 6})\n",
      "Merge 2: (e, st)\n",
      "Current tokens:\n",
      "l' 'o' 'w l' 'o' 'w' 'e' 'r w' 'i' 'd' 'est n' 'e' 'w' 'est\n",
      "\n",
      "Counts: defaultdict(<class 'int'>, {('l', 'o'): 7, ('o', 'w'): 7, ('w', 'e'): 2, ('e', 'r'): 2, ('w', 'i'): 3, ('i', 'd'): 3, ('d', 'est'): 3, ('n', 'e'): 6, ('e', 'w'): 6, ('w', 'est'): 6})\n",
      "Merge 3: (o, w)\n",
      "Current tokens:\n",
      "l' 'ow l' 'ow' 'e' 'r w' 'i' 'd' 'est n' 'e' 'w' 'est\n",
      "\n",
      "Counts: defaultdict(<class 'int'>, {('l', 'ow'): 7, ('ow', 'e'): 2, ('e', 'r'): 2, ('w', 'i'): 3, ('i', 'd'): 3, ('d', 'est'): 3, ('n', 'e'): 6, ('e', 'w'): 6, ('w', 'est'): 6})\n",
      "Merge 4: (l, ow)\n",
      "Current tokens:\n",
      "low low' 'e' 'r w' 'i' 'd' 'est n' 'e' 'w' 'est\n",
      "\n",
      "Counts: defaultdict(<class 'int'>, {('low', 'e'): 2, ('e', 'r'): 2, ('w', 'i'): 3, ('i', 'd'): 3, ('d', 'est'): 3, ('n', 'e'): 6, ('e', 'w'): 6, ('w', 'est'): 6})\n",
      "Merge 5: (w, est)\n",
      "Current tokens:\n",
      "low low' 'e' 'r w' 'i' 'd' 'est n' 'e' 'west\n",
      "\n",
      "Counts: defaultdict(<class 'int'>, {('low', 'e'): 2, ('e', 'r'): 2, ('w', 'i'): 3, ('i', 'd'): 3, ('d', 'est'): 3, ('n', 'e'): 6, ('e', 'west'): 6})\n",
      "Merge 6: (n, e)\n",
      "Current tokens:\n",
      "low low' 'e' 'r w' 'i' 'd' 'est ne' 'west\n",
      "\n"
     ]
    }
   ],
   "source": [
    "# Example text from Sennrich et al. (2016)\n",
    "example_text_ag1 = \"\"\"\n",
    "    low low low low low\n",
    "    lower lower widest widest widest\n",
    "    newest newest newest newest newest newest\n",
    "\"\"\"\n",
    "\n",
    "# Run BPE training\n",
    "final_result, new_vocab = BPE_training_naive_version(example_text_ag1, num_merges=6, verbose=True)"
   ]
  },
  {
   "cell_type": "code",
   "execution_count": 205,
   "id": "87f93a6b",
   "metadata": {},
   "outputs": [
    {
     "name": "stdout",
     "output_type": "stream",
     "text": [
      "Counter({('ne', 'west'): 6, ('low',): 5, ('w', 'i', 'd', 'est'): 3, ('low', 'e', 'r'): 2})\n",
      "new vocabulary is ['st', 'est', 'ow', 'low', 'west', 'ne']\n"
     ]
    }
   ],
   "source": [
    "# Example text from Sennrich et al. (2016)\n",
    "example_text_ag1 = \"\"\"\n",
    "    low low low low low\n",
    "    lower lower widest widest widest\n",
    "    newest newest newest newest newest newest\n",
    "\"\"\"\n",
    "\n",
    "# Run BPE training\n",
    "final_result, new_vocab = BPE_training_naive_version(example_text_ag1, num_merges=6, verbose=False)\n",
    "print(final_result)\n",
    "print('new vocabulary is', new_vocab)"
   ]
  },
  {
   "cell_type": "markdown",
   "id": "c77c1dd5",
   "metadata": {},
   "source": [
    "#### Time consumption"
   ]
  },
  {
   "cell_type": "code",
   "execution_count": 220,
   "id": "b36049ec",
   "metadata": {},
   "outputs": [],
   "source": [
    "import regex\n",
    "from collections import defaultdict, Counter\n",
    "\n",
    "def get_raw_tokens(text, PAT = r\"\"\"'(?:[sdmt]|ll|ve|re)| ?\\p{L}+| ?\\p{N}+| ?[^\\s\\p{L}\\p{N}]+|\\s+(?!\\S)|\\s+\"\"\"):\n",
    "    # Use Unicode letters, then split on whitespace\n",
    "    tokens = regex.findall(PAT, text)\n",
    "    return \" \".join(tokens)\n",
    "\n",
    "def get_list_of_characters(pure_word_result):\n",
    "    # Preserve word boundaries\n",
    "    return [list(word) for word in pure_word_result.split()]\n",
    "\n",
    "def count_pair_frequencies(tokens_counter):\n",
    "    counts = defaultdict(int)\n",
    "    for word, freq in tokens_counter.items():\n",
    "        for i in range(len(word) - 1):\n",
    "            pair = (word[i], word[i+1])\n",
    "            counts[pair] += freq\n",
    "    return counts\n",
    "\n",
    "def find_max_pair(counts):\n",
    "    # Deterministic: break ties using lexicographic order\n",
    "    return max(counts, key=lambda x: (counts[x], x))\n",
    "\n",
    "def merge_tokens(tokens_counter, match1, match2):\n",
    "    new_counter = Counter()\n",
    "    for word, freq in tokens_counter.items():\n",
    "        new_word = []\n",
    "        i = 0\n",
    "        while i < len(word):\n",
    "            if i < len(word) - 1 and word[i] == match1 and word[i+1] == match2:\n",
    "                new_word.append(match1 + match2)\n",
    "                i += 2\n",
    "            else:\n",
    "                new_word.append(word[i])\n",
    "                i += 1\n",
    "        new_counter[tuple(new_word)] += freq\n",
    "    return new_counter\n",
    "\n",
    "def print_tokens(tokens_counter):\n",
    "    print(\"Current tokens:\")\n",
    "    tokens_list = [list(word) for word in tokens_counter.keys()]\n",
    "    print(\" \".join([\"' '\".join(word) for word in tokens_list]))\n",
    "    print()\n",
    "\n",
    "def BPE_training_naive_version(text, num_merges=6, verbose=False, PAT = r\"\"\"'(?:[sdmt]|ll|ve|re)| ?\\p{L}+| ?\\p{N}+| ?[^\\s\\p{L}\\p{N}]+|\\s+(?!\\S)|\\s+\"\"\"):\n",
    "    # Step 1: Pre-tokenization and splitting into characters\n",
    "    new_vocab = []\n",
    "    pure_word_result = get_raw_tokens(text, PAT = PAT)\n",
    "    tokens_list = get_list_of_characters(pure_word_result)\n",
    "    tokens_counter = Counter(tuple(word) for word in tokens_list)\n",
    "\n",
    "    # Step 2: Perform merges\n",
    "    for i in range(num_merges):\n",
    "        counts = count_pair_frequencies(tokens_counter)\n",
    "        if not counts:\n",
    "            break\n",
    "        match1, match2 = find_max_pair(counts)\n",
    "        new_vocab.append(match1+match2)\n",
    "        tokens_counter = merge_tokens(tokens_counter, match1, match2)\n",
    "        if verbose:\n",
    "            print(f\"Counts: {counts}\")\n",
    "            print(f\"Merge {i+1}: ({match1}, {match2})\")\n",
    "            print_tokens(tokens_counter)\n",
    "\n",
    "    return tokens_counter, new_vocab\n"
   ]
  },
  {
   "cell_type": "code",
   "execution_count": 221,
   "id": "843d3ae1",
   "metadata": {},
   "outputs": [],
   "source": [
    "GPT2_TOKENIZER_REGEX = \\\n",
    "    r\"\"\"'(?:[sdmt]|ll|ve|re)| ?\\p{L}+| ?\\p{N}+| ?[^\\s\\p{L}\\p{N}]+|\\s+(?!\\S)|\\s+\"\"\""
   ]
  },
  {
   "cell_type": "code",
   "execution_count": 222,
   "id": "02ab891a",
   "metadata": {},
   "outputs": [],
   "source": [
    "def run_bpe(text, num_merges):\n",
    "    return BPE_training_naive_version(text, num_merges=num_merges, verbose=False, PAT = GPT2_TOKENIZER_REGEX)"
   ]
  },
  {
   "cell_type": "code",
   "execution_count": 223,
   "id": "45745ca6",
   "metadata": {},
   "outputs": [
    {
     "name": "stdout",
     "output_type": "stream",
     "text": [
      "         78352445 function calls in 9.700 seconds\n",
      "\n",
      "   Ordered by: cumulative time\n",
      "   List reduced from 43 to 20 due to restriction <20>\n",
      "\n",
      "   ncalls  tottime  percall  cumtime  percall filename:lineno(function)\n",
      "        1    0.000    0.000    9.700    9.700 341127449.py:1(run_bpe)\n",
      "        1    0.152    0.152    9.700    9.700 3203458813.py:46(BPE_training_naive_version)\n",
      "     3815    5.178    0.001    6.565    0.002 3203458813.py:25(merge_tokens)\n",
      "     3816    2.066    0.001    2.239    0.001 3203458813.py:13(count_pair_frequencies)\n",
      " 47713920    0.985    0.000    0.985    0.000 {built-in method builtins.len}\n",
      "     3815    0.001    0.000    0.736    0.000 3203458813.py:21(find_max_pair)\n",
      "     3815    0.429    0.000    0.735    0.000 {built-in method builtins.max}\n",
      " 16214513    0.378    0.000    0.378    0.000 {method 'append' of 'list' objects}\n",
      "  6723165    0.306    0.000    0.306    0.000 3203458813.py:23(<lambda>)\n",
      "  7645260    0.187    0.000    0.187    0.000 __init__.py:601(__missing__)\n",
      "     1796    0.002    0.000    0.006    0.000 ipkernel.py:775(_clean_thread_parent_frames)\n",
      "     3816    0.002    0.000    0.004    0.000 __init__.py:587(__init__)\n",
      "        1    0.000    0.000    0.004    0.004 3203458813.py:4(get_raw_tokens)\n",
      "        1    0.000    0.000    0.004    0.004 regex.py:331(findall)\n",
      "        1    0.003    0.003    0.003    0.003 {method 'findall' of '_regex.Pattern' objects}\n",
      "        1    0.000    0.000    0.002    0.002 3203458813.py:9(get_list_of_characters)\n",
      "      898    0.001    0.000    0.002    0.000 ipkernel.py:790(<setcomp>)\n",
      "        1    0.002    0.002    0.002    0.002 3203458813.py:11(<listcomp>)\n",
      "     3816    0.000    0.000    0.002    0.000 __init__.py:660(update)\n",
      "        1    0.001    0.001    0.002    0.002 {built-in method _collections._count_elements}\n",
      "\n",
      "\n"
     ]
    }
   ],
   "source": [
    "import cProfile\n",
    "import pstats\n",
    "\n",
    "if __name__ == \"__main__\":\n",
    "\n",
    "    file_path = \"/Users/ethanj/Documents/CODE/Stanford_CS336/assignment1-basics-main/cs336_basics/text_examples/text_ex1.txt\"\n",
    "\n",
    "    with open(file_path, \"r\", encoding=\"utf-8\") as f:\n",
    "        text = f.read()\n",
    "\n",
    "    profiler = cProfile.Profile()\n",
    "    profiler.enable()\n",
    "    final_result, new_vocab = run_bpe(text, 10000)\n",
    "    profiler.disable()\n",
    "\n",
    "    stats = pstats.Stats(profiler)\n",
    "    stats.strip_dirs().sort_stats(\"cumtime\").print_stats(20)  # Top 20 by cumulative time"
   ]
  },
  {
   "cell_type": "code",
   "execution_count": 226,
   "id": "6569e40f",
   "metadata": {},
   "outputs": [
    {
     "name": "stdout",
     "output_type": "stream",
     "text": [
      "[b'he', b'in', b'the', b'an', b'on', b're', b'er', b'en', b'to', b'ou', b'at', b'is', b'or', b'ing', b'ic', b'it', b'es', b'ar', b'of', b'ro', b'and', b'al', b'as', b'ion', b'ed', b'ac', b'le', b've', b'se', b'ow', b'st', b'un', b'ch', b'you', b'th', b'il', b'co', b'be', b'me', b'The', b'ter', b'op', b'ent', b'et', b'ation', b'wh', b'ur', b'ce', b'for', b'id', b'ith', b'ir', b'tr', b'con', b'with', b'ly', b'une', b'mp', b'ap', b'Dune', b'sp', b'ad', b'ul', b'ct', b'pl', b'gh', b'ot', b'ain', b'ex', b'tro', b'res', b'by', b'ver', b'li', b'ld', b'can', b'so', b'his', b'ab', b'men', b'NE', b'ich', b'ave', b'DU', b'which', b'si', b'red', b'hi', b'pro', b'mo', b'ill', b'ii', b'ame', b'ri', b'ice', b'ci', b'DUNE', b'up', b'lo', b'ke', b'fe', b'de', b'act', b'am', b'ag', b'ick', b'cre', b'are', b'rom', b'remen', b'ant', b'qu', b'oun', b'from', b'ay', b'per', b'ark', b'ace', b'low', b'ght', b'ess', b'ous', b'Pa', b'wor', b'ut', b'ind', b'ive', b'iv', b'have', b'char', b'cl', b'any', b'us', b'tion', b'onn', b'onnen', b'ment', b'ist', b'ie', b'how', b'arkonnen', b'Fremen', b'will', b'su', b'po', b'out', b'el', b'ate', b'tor', b'ound', b'game', b'your', b'who', b'their', b'spice', b'our', b'him', b'etch', b'end', b'was', b'ure', b'ther', b'ti', b'sietch', b'plan', b'option', b'ne', b'has', b'charac', b'character', b'av', b'ak', b'vis', b'ust', b'troop', b'trol', b'that', b'planet', b'min', b'form', b'ers', b'bo', b'ack', b'Paul', b'Fl', b'urn', b'they', b'pow', b'ouse', b'one', b'gin', b'ert', b'des', b'creen', b'Harkonnen', b'At', b'te', b'show', b'now', b'ity', b'into', b'ide', b'ib', b'gr', b'cont', b'com', b'click', b'au', b'ai', b'whe', b'we', b'this', b'str', b'see', b'ok', b'og', b'oc', b'not', b'its', b'fo', b'ence', b'eco', b'comp', b'cr', b'ang', b'all', b'To', b'ON', b'ts', b'ress', b'od', b'ma', b'begin', b'ater', b'art', b'able', b'RO', b'wind', b'spe', b'sietchs', b'screen', b'pe', b'mper', b'irst', b'ions', b'gre', b'ft', b'first', b'ever', b'cent', b'but', b'bl', b'ard', b'age', b'RE', b'Of', b'LO', b'In', b'yn', b'troops', b'tom', b'time', b'rou', b'power', b'pos', b'play', b'ould', b'ord', b'map', b'man', b'left', b'know', b'ire', b'ious', b'ies', b'get', b'ey', b'ep', b'cur', b'ass', b'ary', b'ally', b'On', b'MA', b'It', b'IN', b'IC', b'HE', b'19', b'yst', b'tran', b'them', b'thing', b'tak', b'prov', b'ort', b'ning', b'ni', b'lect', b'inter', b'ides', b'ip', b'ho', b'ful', b'fi', b'em', b'dre', b'control', b'characters', b'ces', b'att', b'ance', b'also', b'You', b'CD', b'Atre', b').', b'ud', b'uct', b'trans', b'there', b'turn', b'ton', b'row', b'ps', b'part', b'options', b'ose', b'ol', b'most', b'life', b'ince', b'iy', b'ck', b'ated', b'apt', b'anel', b'allow', b'ail', b'This', b'TI', b'Main', b'ME', b'Con', b'work', b'where', b'wo', b'veget', b'vegetation', b'und', b'um', b'tory', b'sci', b'sc', b'rough', b'right', b'run', b'pre', b'only', b'ong', b'occ', b'mperor', b'mining', b'ms', b'mouse', b'mot', b'log', b'll', b'less', b'ird', b'int', b'iii', b'had', b'gn', b'fort', b'fore', b'fil', b'erb', b'erbert', b'dream', b'do', b'contact', b'comm', b'chang', b'cess', b'ations', b'ars', b'THE', b'Se', b'SP', b'Emperor', b'AN', b'00', b'without', b'window', b'wiii', b'vel', b'ves', b'ult', b'use', b'ui', b'through', b'sur', b'sto', b'ren', b'ran', b'pres', b'occup', b'no', b'must', b'loc', b'long', b'known', b'ivation', b'interact', b'ics', b'imp', b'if', b'fortress', b'extr', b'ens', b'eng', b'equ', b'dep', b'dis', b'cial', b'book', b'bas', b'aining', b'ST', b'RY', b'OR', b'Harkonnens', b'ER', b'Control', b'Co', b'CRY', b'Atreides', b'AC', b'ynch', b'ye', b'water', b'usic', b'ue', b'uc', b'trap', b'two', b'shown', b'sequ', b'select', b'sound', b'side', b'sand', b'rive', b'ree', b'ring', b'perform', b'partic', b'ple', b'pi', b'ount', b'ogy', b'ments', b'like', b'les', b'jo', b'ition', b'ish', b'inform', b'information', b'ily', b'ible', b'her', b'give', b'gen', b'fect', b'fam', b'ending', b'ecoi', b'dire', b'cry', b'che', b'button', b'been', b'bu', b'bt', b'ber', b'avail', b'available', b'ast', b'anted', b'ane', b'alace', b'ach', b'They', b'TRO', b'Sp', b'Panel', b'Once', b'MAP', b'Lynch', b'Is', b'IT', b'House', b'HA', b'Game', b'GA', b'Flerbert', b'Flarkonnen', b'Fran', b'EC', b'CRYO', b'Cl', b'CON', b'Bremen', b'..', b'ynes', b'world', b'when', b'would', b'win', b'visit', b'vo', b'vent', b'used', b'urther', b'unt', b'uit', b'uch', b'ubl', b'transf', b'transfer', b'trave', b'training', b'too', b'then', b'third', b'ters', b'ta', b'surv', b'struct', b'sm', b'since', b'she', b'sh', b'rent', b'return', b'requ', b'psy', b'present', b'preci', b'precious', b'powerful', b'pr', b'port', b'own', b'orn', b'ons', b'ond', b'ogen', b'ogenic', b'off', b'other', b'om', b'old', b'new', b'nat', b'moist', b'moisture', b'music', b'ming', b'mag', b'location', b'ling', b'ises', b'ipment', b'ine', b'ically', b'ied', b'hie', b'head', b'hy', b'hab', b'habit', b'great', b'ground', b'gi', b'fortresses', b'film', b'family', b'further', b'fic', b'ffect', b'ext', b'exist', b'every', b'equipment', b'ecoiogy', b'effect', b'desert', b'drive', b'current', b'cryogenic', b'contain', b'cover', b'col', b'clicking', b'cho', b'before', b'ble', b'back', b'attack', b'ating', b'aster', b'ash', b'ands', b'allows', b'achie', b'aw', b'UR', b'There', b'TION', b'Spice', b'Palace', b'PA', b'LOB', b'LOBE', b'Le', b'Kynes', b'Key', b'GLOBE', b'For', b'By', b'Bl', b'As', b'An', b'AD', b'50', b'\\xe2\\x80\\x99.', b'ystem', b'years', b'yle', b'weap', b'way', b'visions', b'vision', b'var', b'uni', b'udal', b'uter', b'uke', b'travel', b'traps', b'track', b'tomat', b'top', b'three', b'those', b'terri', b'taking', b'takes', b'ty', b'tt', b'tal', b'still', b'some', b'small', b'sequence', b'sect', b'scar', b'system', b'ss', b'sor', b'son', b'ser', b'ross', b'roll', b'rit', b'rap', b'prod', b'powers', b'possi', b'position', b'played', b'place', b'publ', b'press', b'pat', b'ource', b'ory', b'open', b'once', b'occupation', b'ocation', b'over', b'mpt', b'motivation', b'move', b'more', b'mine', b'mem', b'make', b'mil', b'may', b'many', b'logy', b'lose', b'lobe', b'lead', b'llow', b'led', b'key', b'keep', b'isma', b'ise', b'ination', b'ility', b'ief', b'icking', b'ig', b'ier', b'held', b'hic', b'hat', b'har', b'granted', b'giant', b'grow', b'go', b'giv', b'ge', b'gam', b'feudal', b'fered', b'find', b'extra', b'existence', b'expl', b'ell', b'direct', b'depending', b'dust', b'dro', b'crat', b'compass', b'class', b'classic', b'charisma', b'change', b'chief', b'centr', b'cy', b'ctor', b'could', b'close', b'capt', b'buib', b'blue', b'bet', b'bot', b'aves', b'automat', b'aturn', b'ates', b'anyone', b'anei', b'ainst', b'against', b'achieve', b'about', b'ather', b'air', b'aii', b'ah', b'Your', b'WW', b'VE', b'TER', b'SPIC', b'SPICE', b'St', b'Screen', b'Saturn', b'SE', b'SEE', b'QU', b'Paui', b'PO', b'NB', b'MEN', b'Mac', b'Leto', b'He', b'GAME', b'Frank', b'FI', b'Duke', b'DA', b'CHA', b'Be', b'Ar', b'Ad', b'198', b'\\xe2\\x80\\x99,', b'ystick', b'yster', b'yond', b'worms', b'worm', b'weapons', b'war', b'vesters', b'very', b'verse', b'veral', b'venture', b'vered', b'veal', b'various', b'vir', b'viron', b'vironment', b'ving', b'vib', b'vibr', b'ved', b'using', b'urple', b'upport', b'universe', b'undant', b'unic', b'unct', b'ures', b'ual', b'transform', b'thou', b'though', b'than', b'tech', b'take', b'survive', b'suit', b'such', b'suc', b'success', b'sub', b'suad', b'stock', b'stocks', b'star', b'speed', b'special', b'space', b'shows', b'several', b'secon', b'second', b'sear', b'search', b'science', b'support', b'stor', b'sk', b'rought', b'roop', b'resource', b'reveal', b'represent', b'real', b'rises', b'provide', b'product', b'prop', b'prof', b'pol', b'point', b'persuad', b'peop', b'particles', b'pt', b'pass', b'panel', b'ountless', b'ornith', b'ornithop', b'ordin', b'ordinary', b'oniy', b'offered', b'occupied', b'ore', b'novel', b'night', b'num', b'ner', b'mini', b'milit', b'military', b'memory', b'med', b'main', b'logist', b'lood', b'lig', b'liber', b'lex', b'leep', b'lear', b'ldes', b'lin', b'link', b'linked', b'lic', b'leng', b'length', b'joystick', b'just', b'ivid', b'iter', b'ite', b'ists', b'ised', b'iously', b'ints', b'inside', b'ins', b'ines', b'incre', b'increas', b'import', b'ident', b'icon', b'ical', b'iocation', b'ile', b'ign', b'ial', b'hip', b'high', b'hen', b'harvesters', b'hil', b'hal', b'half', b'green', b'greater', b'grap', b'good', b'given', b'gener', b'globe', b'gal', b'follow', b'fiction', b'fight', b'far', b'fac', b'eyes', b'eye', b'extraordinary', b'exter', b'everything', b'est', b'ensity', b'environment', b'enter', b'enem', b'enemies', b'ences', b'emp', b'ec', b'doing', b'discover', b'design', b'done', b'die', b'den', b'dau', b'cursor', b'create', b'cru', b'controls', b'conf', b'communic', b'commen', b'covered', b'come', b'ciai', b'choose', b'check', b'cannot', b'cuit', b'ced', b'ca', b'bottom', b'box', b'bod', b'board', b'better', b'beyond', b'below', b'brought', b'bring', b'bre', b'bed', b'batt', b'battle', b'automatically', b'atte', b'arri', b'around', b'anything', b'antly', b'aking', b'ages', b'adventure', b'across', b'abundant', b'ability', b'abie', b'ax', b'Wor', b'When', b'What', b'We', b'URN', b'UC', b'TROO', b'TROL', b'TIONS', b'TERS', b'Troop', b'TURN', b'TR', b'Sound', b'So', b'Since', b'SIC', b'SA', b'SAVE', b'RETURN', b'REMEN', b'RPO', b'Purple', b'Pro', b'One', b'OLO', b'OLOG', b'OLOGY', b'MAIN', b'LOAD', b'LL', b'LA', b'INST', b'If', b'IS', b'His', b'Get', b'Flarkonnens', b'Fle', b'ECOLOGY', b'EX', b'EN', b'Dexter', b'Day', b'Comp', b'CONTROL', b'CHAR', b'Cr', b'CO', b'Atreldes', b'ACTERS', b'20', b'000', b'...', b'youn', b'young', b'ying', b'yel', b'yellow', b'worn', b'woman', b'windows', b'windtrap', b'winning', b'whose', b'whereabout', b'whereabouts', b'while', b'what', b'were', b'weii', b'wro', b'wrote', b'writ', b'wish', b'well', b'wave', b'ware', b'wanted', b'voice', b'visible', b'vise', b'vibrations', b'verthe', b'vers', b'velop', b'velopment', b'viously', b'vin', b'vic', b'ven', b'val', b'uture', b'utes', b'ute', b'urrow', b'urrowing', b'uring', b'untii', b'under', b'unner', b'ulud', b'ulti', b'ular', b'ucer', b'ured', b'ule', b'ug', b'ued', b'ucrat', b'ucrative', b'ually', b'type', b'typ', b'troi', b'trust', b'trib', b'touch', b'took', b'tim', b'times', b'ties', b'thor', b'territory', b'techno', b'technology', b'tered', b'taken', b'ten', b'tain', b'tainment', b'tact', b'tactical', b'tACTERS', b'surviv', b'subt', b'storm', b'store', b'stillsuit', b'style', b'spector', b'spect', b'spit', b'soundtrack', b'sole', b'solely', b'sold', b'soldier', b'simp', b'sign', b'sig', b'signi', b'signific', b'significantly', b'showing', b'shai', b'series', b'selected', b'sem', b'sel', b'self', b'scroll', b'sworn', b'story', b'slow', b'sleep', b'ship', b'sess', b'sens', b'sensit', b'send', b'sco', b'scope', b'save', b'same', b'sa', b'running', b'role', b'road', b'rights', b'reveals', b'redible', b'rett', b'respect', b'reg', b'recommen', b'recommend', b'recl', b'reclai', b'reclaiming', b'rece', b'reas', b'reason', b'read', b'rapid', b'rapidly', b'rid', b'raw', b'rate', b'ras', b'rance', b'rag', b'race', b'quar', b'publish', b'publishing', b'public', b'provid', b'prophe', b'production', b'prospector', b'proper', b'properties', b'prompt', b'prog', b'progress', b'process', b'preser', b'possible', b'possib', b'possess', b'polit', b'politics', b'points', b'plays', b'piant', b'pian', b'piace', b'persuade', b'performance', b'person', b'percent', b'percentage', b'people', b'pecial', b'patch', b'particle', b'pur', b'pop', b'panei', b'owe', b'otate', b'ornithopter', b'orders', b'order', b'orth', b'ori', b'opus', b'onic', b'ones', b'ollow', b'ollowing', b'oking', b'occur', b'obt', b'obtain', b'number', b'nife', b'necess', b'natur', b'native', b'next', b'name', b'mperial', b'motiv', b'mote', b'moving', b'mother', b'mode', b'minutes', b'menu', b'met', b'magination', b'myster', b'my', b'mum', b'multi', b'much', b'mir', b'mind', b'mill', b'master', b'mark', b'mand', b'mal', b'making', b'longer', b'liberate', b'light', b'lie', b'lecting', b'learn', b'leader', b'level', b'lements', b'lec', b'lay', b'lan', b'knows', b'kar', b'kan', b'ivided', b'itering', b'iting', b'ities', b'iti', b'itiai', b'isk', b'isable', b'iping', b'interactive', b'intel', b'intellig', b'ington', b'indtraps', b'increases', b'inued', b'instruct', b'initiai', b'indep', b'independ', b'independent', b'inci', b'importance', b'ills', b'ild', b'iie', b'igit', b'iect', b'ideas', b'idier', b'ict', b'icated', b'ired', b'imagination', b'ight', b'ien', b'iace', b'hyper', b'however', b'hold', b'history', b'hilip', b'heads', b'heat', b'habitant', b'habitants', b'habitable', b'hulud', b'hid', b'hap', b'hands', b'gnisable', b'ghter', b'games', b'galax', b'galaxy', b'gu', b'gar', b'gan', b'full', b'forts', b'forced', b'films', b'fighting', b'fier', b'fierce', b'future', b'funct', b'fter', b'free', b'four', b'found', b'fin', b'father', b'face', b'extract', b'extracted', b'exer', b'exerc', b'exercises', b'eturn', b'etail', b'erunner', b'erning', b'entertainment', b'ends', b'endless', b'enni', b'ener', b'ene', b'empire', b'emb', b'effects', b'ecology', b'ecologist', b'elements', b'eb', b'eak', b'eaks', b'drops', b'dren', b'displayed', b'direction', b'director', b'designers', b'dest', b'desc', b'descri', b'denot', b'development', b'dev', b'dered', b'def', b'deep', b'deal', b'daukar', b'during', b'down', b'divided', b'dition', b'dist', b'digit', b'detail', b'density', b'ded', b'day', b'date', b'cuitiv', b'cted', b'created', b'contains', b'contacting', b'continued', b'confident', b'conc', b'concerning', b'computer', b'complex', b'compat', b'compatible', b'commands', b'command', b'colour', b'collect', b'ciicking', b'choice', b'chiefs', b'ched', b'changing', b'central', b'centre', b'cept', b'captured', b'croll', b'credible', b'countless', b'cor', b'caves', b'cau', b'caught', b'cat', b'cap', b'came', b'call', b'buibs', b'body', b'beginning', b'being', b'basins', b'based', b'base', b'background', b'burrowing', b'broad', b'best', b'ball', b'avid', b'author', b'audaukar', b'attempt', b'atures', b'atter', b'ath', b'ashington', b'asy', b'assem', b'arrival', b'ards', b'arrett', b'aptain', b'ange', b'another', b'ani', b'ances', b'amount', b'amb', b'allowing', b'altered', b'ains', b'advise', b'aderunner', b'actions', b'action', b'achlan', b'ator', b'ared', b'aitering', b'World', b'Windtraps', b'Whi', b'Water', b'Washington', b'Wars', b'WOR', b'WORM', b'UCTIONS', b'USIC', b'UPA', b'UG', b'UGH', b'These', b'TV', b'TS', b'Star', b'Selecting', b'STE', b'Special', b'She', b'Scroll', b'Saudaukar', b'SIT', b'SITY', b'ROM', b'Rotate', b'Return', b'RUCTIONS', b'RB', b'QUI', b'Paiace', b'Pic', b'Philip', b'Peaks', b'Panei', b'PC', b'Only', b'ORT', b'OS', b'OP', b'OC', b'OCC', b'OCCUPA', b'NEL', b'Not', b'MacL', b'MacLachlan', b'Mouse', b'Man', b'MUSIC', b'MH', b'MHz', b'Li', b'LIC', b'LICT', b'Keys', b'Keyboard', b'Kyle', b'Kult', b'KE', b'JE', b'ISMA', b'INSTRUCTIONS', b'ING', b'Its', b'Ir', b'Imperial', b'IB', b'IBM', b'HERB', b'Herbert', b'God', b'Garrett', b'FIA', b'FIAF', b'FIAFtACTERS', b'Following', b'FREMEN', b'FLICT', b'EXIT', b'ENSITY', b'Each', b'Didier', b'Des', b'De', b'David', b'DOS', b'DI', b'DENSITY', b'Crash', b'Come', b'Clicking', b'Click', b'CONTROLS', b'CONFLICT', b'CHARISMA', b'Captain', b'Can', b'CFIAFtACTERS', b'Blaster', b'Bladerunner', b'Bu', b'Blood', b'Ble', b'Arrow', b'And', b'ACE', b'ALL', b'86', b'80', b'65', b'386', b'1984', b'150', b'.,', b\"'s\", b'\".', b'zons', b'zines', b'zed', b'zard', b'yourcurrent', b'yeii', b'yeiiow', b'year', b'ysk', b'ysknife', b'yling', b'yet', b'yed', b'yd', b'ydow', b'yages', b'xte', b'xteen', b'xi', b'ximum', b'xer', b'writers', b'writer', b'working', b'worth', b'worthy', b'worid', b'withd', b'withdraw', b'windtraps', b'winds', b'winner', b'whom', b'whole', b'wherever', b'whether', b'whiie', b'whate', b'whatever', b'weapon', b'weird', b'ween', b'wear', b'wearing', b'wash', b'washbu', b'washbuck', b'washbuckling', b'warning', b'wrap', b'wraps', b'wok', b'woken', b'wof', b'wofo', b'wofoid', b'wit', b'witched', b'wing', b'winged', b'wil', b'wildered', b'wide', b'wi', b'wizard', b'wer', b'voyages', b'voir', b'voirs', b'voi', b'voiu', b'voiume', b'visiting', b'visited', b'vinced', b'vinc', b'vincing', b'victory', b'victo', b'victori', b'victorious', b'vibrates', b'verything', b'vertheless', b'versity', b'version', b'ventually', b'venting', b'ventory', b'vet', b'vei', b'veiop', b'veioped', b'vehic', b'vehicles', b'varied', b'vor', b'vorac', b'voraciously', b'von', b'vonis', b'vol', b'volunt', b'voluntar', b'voluntarily', b'vok', b'vokes', b'vince', b'vie', b'view', b'vice', b'vi', b'viol', b'violent', b'vend', b'vendet', b'vendetta', b'vable', b'utely', b'uty', b'uting', b'uten', b'utenant', b'ustr', b'ustration', b'useful', b'usef', b'usefui', b'usy', b'ustom', b'ustoms', b'uses', b'urnace', b'urest', b'uren', b'urenti', b'urentiis', b'ursor', b'urones', b'urne', b'urney', b'urines', b'urgen', b'urfac', b'urfaced', b'urage', b'upper', b'update', b'upation', b'unting', b'uniqu', b'unique', b'underground', b'undred', b'undreds', b'unders', b'understo', b'understood', b'unctu', b'unctuated', b'unwanted', b'unused', b'untrust', b'untrustworthy', b'unning', b'unlike', b'unknown', b'unity', b'ung', b'ungie', b'unar', b'umes', b'umer', b'umeric', b'ultivation', b'ultane', b'ultaneous', b'ularly', b'ults', b'ulse', b'ulgar', b'ulgari', b'ulgaria', b'ulan', b'ula', b'uiation', b'uiar', b'uiariy', b'uggi', b'uggiers', b'ugg', b'uggles', b'uding', b'uded', b'udded', b'ucture', b'uctor', b'uclear', b'ucated', b'ucas', b'ublan', b'ublanche', b'ublanchet', b'uals', b'utor', b'uman', b'uious', b'uine', b'uinely', b'uii', b'ugo', b'uf', b'uff', b'uations', b'uary', b'uage', b'typing', b'types', b'turns', b'turning', b'turned', b'tting', b'trusted', b'troopst', b'troopsth', b'troopsthrough', b'troopsthroughout', b'trop', b'trophic', b'trois', b'tributor', b'tribal', b'travell', b'travelling', b'transforming', b'transformed', b'transferred', b'transm', b'transmuting', b'transp', b'transport', b'true', b'tructure', b'trip', b'tril', b'trilogy', b'trick', b'tricks', b'tric', b'tri', b'tribe', b'tration', b'tral', b'tract', b'touching', b'tooi', b'tonish', b'tomor', b'tomorrow', b'tomics', b'tomic', b'tourage', b'total', b'tologist', b'tol', b'tograp', b'tography', b'tog', b'togg', b'toggling', b'tocrat', b'timeless', b'throughout', b'therefore', b'therto', b'these', b'thus', b'thur', b'thrive', b'thre', b'threat', b'thm', b'thmic', b'thick', b'terrif', b'terrifying', b'terrible', b'terrap', b'terrapins', b'terations', b'temper', b'temperatures', b'tele', b'telepat', b'telepathic', b'tect', b'tective', b'talk', b'tale', b'twofoid', b'tware', b'tune', b'tre', b'treac', b'treacher', b'treachery', b'tle', b'ting', b'tide', b'tid', b'tidal', b'tics', b'ticated', b'tell', b'tack', b'systems', b'survived', b'survivai', b'surr', b'surround', b'surrounding', b'surface', b'supportive', b'supporting', b'subtle', b'subtities', b'subst', b'substance', b'subsect', b'subsections', b'subm', b'submar', b'submarines', b'sust', b'sustain', b'suits', b'suf', b'suffered', b'sue', b'structures', b'structure', b'structed', b'struggles', b'structor', b'strong', b'stron', b'strongh', b'stronghold', b'strating', b'strate', b'strateg', b'strategist', b'strang', b'strangen', b'strangeness', b'strands', b'strai', b'straight', b'storms', b'stori', b'stories', b'stops', b'starring', b'styling', b'stunning', b'stumes', b'stuff', b'studded', b'sts', b'stren', b'streng', b'strength', b'stig', b'stigious', b'stem', b'stemming', b'stay', b'stat', b'status', b'stasy', b'stars', b'stantly', b'stant', b'spitting', b'spitable', b'spee', b'speech', b'speciai', b'speciaiise', b'spying', b'spraw', b'sprawling', b'spond', b'sponding', b'spondingiy', b'spir', b'spiration', b'spion', b'spionage', b'spine', b'spell', b'spark', b'sparkling', b'spap', b'spaper', b'somewhere', b'sometimes', b'soon', b'sooner', b'soil', b'social', b'soci', b'socio', b'soar', b'smic', b'sky', b'skills', b'simply', b'simpiy', b'sidered', b'sized', b'sixteen', b'simil', b'similar', b'similarity', b'sim', b'simultaneous', b'siah', b'showsthe', b'shipments', b'shipment', b'sheet', b'should', b'short', b'shin', b'shining', b'serves', b'served', b'sequences', b'sequel', b'sequels', b'sensitive', b'sensitiv', b'sensitivity', b'selecting', b'seems', b'seemed', b'sects', b'section', b'setting', b'sets', b'set', b'seii', b'seiect', b'seiecting', b'seen', b'secre', b'secret', b'scrolls', b'scious', b'sciousn', b'sciousness', b'sciences', b'scarring', b'scarces', b'scarcest', b'scarce', b'scri', b'script', b'scal', b'scale', b'sandworms', b'sandworm', b'said', b'safe', b'safely', b'switched', b'swashbuckling', b'sun', b'sult', b'squ', b'square', b'source', b'sou', b'sought', b'sop', b'sophis', b'sophisticated', b'sof', b'software', b'smo', b'smos', b'sl', b'slaves', b'sit', b'situations', b'sis', b'sister', b'sions', b'sing', b'sides', b'sho', b'shoot', b'shooting', b'sert', b'sending', b'sen', b'seni', b'senior', b'sed', b'seducer', b'scrat', b'scratch', b'saw', b'sal', b'sales', b'sac', b'sacred', b'sab', b'sabot', b'sabotage', b'rossed', b'roves', b'rops', b'rop', b'ropy', b'room', b'roo', b'rooms', b'roies', b'roic', b'rock', b'rob', b'robbed', b'rituals', b'ritually', b'rix', b'rip', b'rippl', b'rippling', b'rif', b'riend', b'riate', b'revealed', b'returns', b'resurfaced', b'results', b'result', b'resuit', b'resol', b'resolutely', b'resides', b'reside', b'resh', b'reser', b'reservoirs', b'resc', b'rescences', b'required', b'require', b'requirements', b'reques', b'requests', b'requent', b'requen', b'requency', b'represents', b'representation', b'reguiariy', b'regard', b'regarded', b'redict', b'redicted', b'reddie', b'receive', b'receiv', b'received', b'realised', b'ready', b'reviously', b'retics', b'respondingiy', b'research', b'rer', b'report', b'repl', b'replac', b'replaced', b'remote', b'rely', b'relig', b'religious', b'rein', b'reinfor', b'reinforce', b'reinforcements', b'ref', b'refuse', b'recy', b'recycl', b'recycles', b'reco', b'recognisable', b'reciai', b'reciaiming', b'recent', b'recently', b'rec', b'record', b'recorded', b'ream', b'rastructure', b'raser', b'raserhead', b'rank', b'ragon', b'raging', b'ry', b'rule', b'ruary', b'rr', b'rrak', b'rrakis', b'ror', b'risk', b'rint', b'rin', b'rincess', b'rich', b'rhy', b'rhythmic', b'rather', b'rant', b'range', b'rand', b'random', b'ram', b'rally', b'ral', b'ralli', b'rallied', b'raining', b'rad', b'quarters', b'quarter', b'quite', b'quid', b'quer', b'quering', b'quant', b'quantities', b'qual', b'quality', b'purpos', b'purposes', b'purpo', b'purpose', b'publications', b'publication', b'providing', b'provided', b'provok', b'provoked', b'provocation', b'proving', b'provides', b'proves', b'prophet', b'prophecy', b'propriate', b'progresses', b'profiting', b'profile', b'profess', b'profession', b'professionai', b'products', b'producer', b'protective', b'promote', b'prolong', b'prolonging', b'progr', b'program', b'programm', b'programmers', b'proach', b'pressed', b'preserves', b'preserve', b'presents', b'previously', b'prestigious', b'preco', b'precogn', b'precognit', b'precognitive', b'print', b'princi', b'principle', b'powe', b'powered', b'possibility', b'possibie', b'positioned', b'portunity', b'popuiation', b'pops', b'polar', b'pointing', b'pointer', b'pleas', b'pleasant', b'player', b'planetary', b'planation', b'plot', b'plast', b'plastic', b'plains', b'pianting', b'piano', b'pianet', b'persuaded', b'performs', b'performing', b'perspiration', b'perfect', b'percept', b'perceptive', b'perate', b'perately', b'peoples', b'pect', b'pects', b'pear', b'peace', b'peaceful', b'patched', b'passing', b'passed', b'particularly', b'party', b'purest', b'punctuated', b'pulse', b'predicted', b'pot', b'potions', b'por', b'poration', b'pite', b'pis', b'pistol', b'pin', b'pinball', b'pies', b'pie', b'piece', b'pick', b'pickled', b'pho', b'photography', b'phe', b'phet', b'pen', b'pening', b'pau', b'pause', b'past', b'pand', b'panding', b'palace', b'pal', b'palet', b'palette', b'pair', b'page', b'pad', b'pa', b'pauses', b'owsky', b'owever', b'outsized', b'outc', b'outcrops', b'ously', b'ouses', b'ours', b'ourn', b'ournal', b'ournalis', b'ournalism', b'ounted', b'oung', b'outh', b'ourif', b'oured', b'ouid', b'ouch', b'ouchon', b'oubt', b'otivation', b'oted', b'ornithopters', b'orner', b'orizons', b'origin', b'original', b'ords', b'ordon', b'orowsky', b'orman', b'orjoystick', b'oring', b'orge', b'organ', b'organised', b'ordered', b'orb', b'orbak', b'orbakkan', b'opter', b'opportunity', b'oper', b'opens', b'ope', b'ondage', b'onto', b'onstrating', b'onry', b'onically', b'oned', b'omit', b'omic', b'omb', b'ombrix', b'olour', b'olf', b'olar', b'olaris', b'ogperson', b'ogist', b'oger', b'office', b'offers', b'ofthe', b'often', b'odule', b'odour', b'odorowsky', b'odd', b'odds', b'occurs', b'occurring', b'occas', b'occasion', b'occasional', b'oyster', b'oy', b'ove', b'osing', b'ooking', b'oo', b'oma', b'olec', b'olecular', b'oice', b'ob', b'obbot', b'nothing', b'nights', b'nightm', b'nightmare', b'niversity', b'newspaper', b'news', b'necessity', b'necessary', b'nevertheless', b'never', b'neurones', b'neth', b'need', b'neb', b'nebs', b'near', b'naturally', b'natural', b'nativeiy', b'nature', b'nuclear', b'north', b'nis', b'nd', b'nav', b'navig', b'navigation', b'nam', b'namon', b'mystery', b'mysterious', b'musici', b'musician', b'musicians', b'multiple', b'mpts', b'mpics', b'motivated', b'motivate', b'modell', b'modelled', b'moon', b'mod', b'modity', b'mob', b'mobil', b'mobilise', b'mirror', b'mirac', b'miracuious', b'minimum', b'miniat', b'miniature', b'million', b'millenni', b'millennia', b'metres', b'mention', b'mentary', b'mental', b'menace', b'member', b'medi', b'mediary', b'mething', b'metal', b'merely', b'melie', b'mel', b'melange', b'meg', b'mega', b'mean', b'meaning', b'mastery', b'market', b'mander', b'manual', b'male', b'mainly', b'magnum', b'magic', b'maga', b'magazines', b'maximum', b'maj', b'major', b'mund', b'muggiers', b'monstrating', b'monic', b'mmander', b'mis', b'missions', b'miii', b'miiienni', b'miiiennium', b'might', b'mighty', b'mies', b'mid', b'mess', b'messages', b'mer', b'mercy', b'matter', b'mater', b'material', b'mate', b'mage', b'mad', b'made', b'mach', b'machin', b'machiner', b'machinery', b'lympics', b'lowever', b'locate', b'local', b'lost', b'looking', b'llows', b'llb', b'lightly', b'lighted', b'lieutenant', b'lict', b'licopter', b'lications', b'liberation', b'living', b'lives', b'lived', b'live', b'liquid', b'lip', b'limate', b'lies', b'lible', b'lib', b'lia', b'lexand', b'lexander', b'lengthy', b'ledge', b'lectric', b'learnt', b'learned', b'leaders', b'leadership', b'ley', b'let', b'leck', b'leaves', b'leav', b'leaving', b'leapt', b'leap', b'lding', b'layers', b'lunar', b'lucrative', b'lrich', b'lp', b'lory', b'lk', b'lkien', b'lit', b'little', b'list', b'listed', b'line', b'ler', b'lav', b'laved', b'later', b'last', b'lasting', b'las', b'laser', b'lane', b'lanetologist', b'knowledge', b'keys', b'keyboard', b'keeps', b'keeping', b'keiy', b'keen', b'kanly', b'knife', b'knebs', b'kit', b'kang', b'kangar', b'kangaroo', b'joyed', b'join', b'joined', b'job', b'jungie', b'journalism', b'je', b'jeal', b'jealously', b'jag', b'jagg', b'jagged', b'ividual', b'iving', b'iternativeiy', b'itled', b'itious', b'itical', b'ishah', b'issue', b'iso', b'isdivided', b'isdev', b'isdevoted', b'isco', b'isc', b'irected', b'irding', b'irdie', b'irgin', b'irca', b'ionic', b'interaction', b'intermediary', b'intergal', b'intergalact', b'intergalactic', b'intelligent', b'intelligence', b'intends', b'instructions', b'instruction', b'ings', b'ingly', b'inema', b'individual', b'indicated', b'inda', b'increased', b'inciuded', b'iny', b'inventory', b'inventing', b'inuit', b'instructor', b'instantly', b'insects', b'ino', b'innamon', b'inho', b'inhospitable', b'inhabitants', b'info', b'inf', b'infrastructure', b'inextr', b'inextric', b'inextricab', b'inextricably', b'inde', b'indelible', b'incl', b'including', b'important', b'improves', b'imprint', b'implications', b'impact', b'illustration', b'illan', b'ilds', b'ilgar', b'ildren', b'iiected', b'iikeiy', b'iiity', b'ifts', b'ield', b'ieft', b'iead', b'ieaders', b'identically', b'ids', b'idley', b'idi', b'ictated', b'iction', b'icons', b'ico', b'icence', b'icaii', b'icaiiy', b'ica', b'ixer', b'iucrative', b'ioy', b'iow', b'iour', b'iists', b'iing', b'iicence', b'iang', b'ianguage', b'iand', b'hypersensitive', b'hows', b'holds', b'host', b'hoosing', b'homing', b'home', b'histouch', b'himself', b'hildren', b'highlighted', b'hidden', b'hitherto', b'heroic', b'helicopter', b'heiping', b'height', b'heav', b'heavy', b'harmonic', b'hapter', b'happening', b'hadd', b'haddam', b'habitabie', b'hundreds', b'human', b'hours', b'hould', b'horizons', b'hor', b'hope', b'hits', b'hints', b'hills', b'hics', b'haw', b'hawk', b'hare', b'hard', b'hani', b'hanima', b'hand', b'ha', b'haunting', b'guide', b'guards', b'grows', b'grown', b'grees', b'graphics', b'graphic', b'grand', b'grab', b'giving', b'gine', b'gineers', b'generous', b'generations', b'generation', b'genuinely', b'genre', b'gaming', b'gamated', b'gurines', b'gun', b'golf', b'gold', b'gmund', b'glory', b'gise', b'gifts', b'gent', b'gave', b'gather', b'functions', b'function', b'fully', b'forests', b'forthe', b'forces', b'follows', b'fox', b'folding', b'finite', b'finally', b'filtration', b'file', b'figurines', b'female', b'fell', b'feating', b'feared', b'famous', b'facet', b'faceted', b'faces', b'furnace', b'fuii', b'friend', b'fresh', b'frequency', b'flip', b'five', b'field', b'fetch', b'fetching', b'fav', b'favoured', b'fates', b'fat', b'fatal', b'fas', b'fasc', b'fascination', b'fall', b'falls', b'fai', b'faiis', b'fact', b'extent', b'extending', b'extend', b'extended', b'exploring', b'explore', b'explaining', b'explain', b'exists', b'expressed', b'exposition', b'explanation', b'expects', b'expanding', b'exico', b'exec', b'execute', b'exchange', b'exce', b'exceed', b'exceedingly', b'exc', b'exciting', b'exam', b'examine', b'exa', b'examp', b'essica', b'esser', b'esserit', b'esseng', b'essenger', b'essiah', b'ertain', b'errer', b'erous', b'equired', b'equal', b'entering', b'entropy', b'entrance', b'entitled', b'entire', b'ention', b'entat', b'enslaved', b'engages', b'engage', b'engag', b'engaging', b'energise', b'enerator', b'eneath', b'enceless', b'entourage', b'enneth', b'enjoyed', b'engineers', b'empioy', b'embrace', b'embark', b'embarked', b'elvet', b'elta', b'effective', b'educated', b'edi', b'edge', b'ecoiogist', b'ecognisable', b'ecstasy', b'ecords', b'ebula', b'ebruary', b'ew', b'evokes', b'eventually', b'even', b'eorge', b'eke', b'eep', b'econ', b'economic', b'drop', b'droids', b'doings', b'does', b'ditionally', b'ditional', b'distant', b'distances', b'discovering', b'disk', b'discovered', b'directors', b'directions', b'directed', b'digitised', b'digital', b'devast', b'devastating', b'details', b'destiny', b'destination', b'deserts', b'described', b'describ', b'describing', b'despite', b'desperately', b'despatched', b'despatch', b'depiction', b'denotes', b'denote', b'defy', b'defenceless', b'deveioped', b'demonstrating', b'demand', b'degrees', b'defeating', b'deco', b'decod', b'decoding', b'dec', b'decag', b'decagram', b'debt', b'days', b'daughter', b'doubt', b'dot', b'dl', b'diving', b'died', b'did', b'dictated', b'dat', b'data', b'dang', b'dangerous', b'currently', b'currant', b'cuitivating', b'cuitivate', b'cuitivation', b'cryonic', b'cruel', b'crucial', b'cruciai', b'creatures', b'creator', b'creating', b'creates', b'critical', b'covering', b'correspondingiy', b'corporation', b'controlled', b'container', b'contained', b'confidently', b'conflict', b'convincing', b'convince', b'controis', b'controi', b'contributor', b'contract', b'consult', b'constructed', b'constant', b'considered', b'consequences', b'consequence', b'consciousness', b'conquering', b'concept', b'concentr', b'concentrates', b'compiy', b'compared', b'company', b'compact', b'communications', b'communication', b'communicate', b'commences', b'commonly', b'commodity', b'commentary', b'coming', b'comics', b'colad', b'colades', b'cott', b'costumes', b'cosmos', b'cosmic', b'copies', b'cool', b'coiour', b'coiiected', b'ciose', b'ciick', b'cient', b'charm', b'changes', b'changed', b'chnow', b'children', b'chances', b'chance', b'chain', b'cesca', b'centrai', b'centres', b'catch', b'catas', b'catastrophic', b'capture', b'captains', b'captor', b'caps', b'called', b'caused', b'cut', b'customs', b'cupation', b'cult', b'crossed', b'counted', b'couid', b'corner', b'clog', b'climate', b'cisco', b'circa', b'cinnamon', b'cinema', b'certain', b'ccupation', b'cave', b'cate', b'catered', b'caster', b'cast', b'cas', b'casts', b'care', b'career', b'card', b'byhistouch', b'builds', b'broadcasts', b'brings', b'brewer', b'breath', b'breathtaking', b'break', b'breakdown', b'books', b'bodies', b'borescences', b'blend', b'bled', b'black', b'between', b'bedroom', b'bewildered', b'belong', b'behalf', b'began', b'becoming', b'become', b'became', b'bea', b'beauty', b'basic', b'backgmund', b'busy', b'bondage', b'blow', b'blood', b'blo', b'bionic', b'biing', b'beneath', b'bble', b'bare', b'barely', b'bar', b'barren', b'band', b'bandoned', b'bal', b'balance', b'bai', b'baiance', b'aware', b'avaii', b'avaiiabie', b'automaticaiiy', b'autocrat', b'attempts', b'attacks', b'attie', b'attention', b'assembled', b'assembiing', b'asyeiiow', b'astral', b'astonish', b'assign', b'ask', b'asgun', b'artists', b'arsen', b'arrived', b'area', b'ardy', b'ardot', b'aron', b'army', b'armies', b'armed', b'arlo', b'arke', b'arborescences', b'arad', b'aradise', b'appropriate', b'approach', b'appear', b'aponry', b'anywhere', b'antasy', b'animal', b'ancient', b'ambitious', b'ambail', b'ambaili', b'amal', b'amalgamated', b'aly', b'alterations', b'already', b'alone', b'almost', b'allocate', b'alleck', b'alk', b'alien', b'alb', b'alad', b'aladan', b'aiiure', b'ahdl', b'aha', b'aged', b'advice', b'adishah', b'additional', b'added', b'adapt', b'adam', b'acts', b'ackground', b'achievements', b'achievable', b'acoma', b'accompany', b'accolades', b'above', b'abiiity', b'aurentiis', b'atomic', b'aiso', b'after', b'afar', b'Young', b'YSTE', b'YSTEM', b'YNE', b'YNES', b'Work', b'While', b'Whiist', b'Weirding', b'Weaponry', b'WORMS', b'Will', b'Wild', b'Why', b'Who', b'West', b'WA', b'WAT', b'Von', b'Voice', b'Virgin', b'Velvet', b'VIS', b'VISI', b'VISIO', b'VGA', b'VA', b'VATION', b'URNE', b'URNEY', b'URFI', b'URFIR', b'UCH', b'UCHON', b'Use', b'Us', b'University', b'Ulrich', b'ULO', b'ULOT', b'UL', b'ULTS', b'UB', b'UBIN', b'Troops', b'Tolkien', b'Then', b'TROOP', b'TROOPS', b'TRL', b'TRIC', b'TRICK', b'TRAN', b'TRANSP', b'TRANSPORT', b'TIVE', b'TIVATION', b'TIO', b'TIL', b'TILGA', b'TILGAR', b'THER', b'Twin', b'Training', b'Torbakkan', b'That', b'Talk', b'Tacoma', b'TOR', b'TORS', b'TO', b'TH', b'THURFIR', b'TAC', b'TACT', b'TA', b'TAKE', b'Sting', b'Stilgar', b'Specialists', b'Space', b'Something', b'Sohor', b'Sheep', b'Seiect', b'Seer', b'See', b'Seattie', b'Sean', b'Sea', b'Scrolling', b'STEP', b'STEPH', b'STEPHAN', b'STAN', b'STANDA', b'STANDAR', b'STANDARD', b'STA', b'STAR', b'START', b'SPI', b'SPION', b'SPIONA', b'SPIONAG', b'SPIONAGE', b'SPEC', b'SPECTORS', b'SPACE', b'SICA', b'Sydow', b'South', b'Solaris', b'Smuggiers', b'Shows', b'Should', b'Shaddam', b'Send', b'Scott', b'San', b'SYSTEM', b'SULTS', b'STILGAR', b'SSICA', b'SS', b'SSI', b'SSIA', b'SSIAH', b'SON', b'SONNEL', b'SO', b'SOH', b'SOHORT', b'SOHORTY', b'SCD', b'SCDEX', b'SC', b'SCRE', b'SCREEN', b'Returns', b'ROSPECTORS', b'ROR', b'REMENTS', b'RESULTS', b'RESTART', b'REQUI', b'REQUIREMENTS', b'REM', b'REMI', b'READ', b'Roger', b'Robbot', b'Rings', b'Ridley', b'Required', b'Records', b'Recognisable', b'Rambaili', b'RAN', b'RANK', b'QUIP', b'QUIPMEN', b'QUIPMENT', b'QUIT', b'QUE', b'QUES', b'Prophet', b'Prochnow', b'Picq', b'Picardy', b'Pauls', b'Pavonis', b'PATRICK', b'PANEL', b'PAL', b'PALACE', b'Princess', b'Previously', b'Planetologist', b'Part', b'Pardot', b'Paradise', b'Padishah', b'PROSPECTORS', b'PIC', b'PICQ', b'PER', b'PERSONNEL', b'PE', b'PEROR', b'PCl', b'ORPO', b'ORN', b'ORNIT', b'ORNITH', b'ORNITHOP', b'ORNITHOPTER', b'OPTIONS', b'OCCUPATION', b'OCCUPATIO', b'Overthe', b'Outer', b'Oscar', b'Olympics', b'Old', b'Occupation', b'OUCHON', b'OTIVATION', b'OTHER', b'OF', b'OB', b'OBJ', b'OBJEC', b'OBJECTIVE', b'Numeric', b'North', b'New', b'Nebula', b'Naha', b'NC', b'NCAN', b'Macadam', b'MacM', b'MacMillan', b'MESSIAH', b'MAPS', b'Music', b'Much', b'Motivation', b'More', b'Molecular', b'Module', b'Mixer', b'Minuit', b'Midi', b'Mexico', b'Messiah', b'Messenger', b'Mentat', b'Mb', b'Max', b'Map', b'Making', b'Mahdl', b'MSCDEX', b'MPEROR', b'MOTIVATION', b'MIN', b'MINING', b'Like', b'Lighter', b'Lead', b'LOADING', b'LLEC', b'LLECK', b'LAPCl', b'Lucas', b'Lord', b'Looking', b'Lombrix', b'Linda', b'Laurentiis', b'Latter', b'Lasgun', b'Larsen', b'LM', b'LIs', b'LIsan', b'LE', b'LETO', b'LAN', b'LANC', b'LANCHE', b'LANCHET', b'LAD', b'LADY', b'Keypad', b'Kfree', b'Kenneth', b'Keep', b'KYNES', b'JESSICA', b'JEAN', b'Jurgen', b'Jose', b'Jones', b'Jodorowsky', b'Jessica', b'Jedi', b'JAC', b'JACQUES', b'Italy', b'Irulan', b'Ironically', b'Insert', b'Inhabitants', b'Infinite', b'INSTALL', b'IND', b'Image', b'Icon', b'IV', b'II', b'IDA', b'IDAH', b'IDAHO', b'Hisdigital', b'Heretics', b'HERBULOT', b'HERBER', b'HERBERT', b'HAWAT', b'HALLECK', b'However', b'Houses', b'Hard', b'Gurney', b'Gordon', b'Gold', b'Globe', b'Ghost', b'Ghanima', b'Gesserit', b'George', b'Generator', b'Galb', b'GURNEY', b'Francisco', b'Francesca', b'Forces', b'Flelp', b'Fleiping', b'Fleart', b'Flunt', b'Flugo', b'Flis', b'Flash', b'Flalleck', b'FILM', b'From', b'Frequent', b'Freddie', b'France', b'Flowever', b'Ferrer', b'February', b'Fantasy', b'Faiiure', b'FRANK', b'FIND', b'Emperorfor', b'EmperorShaddam', b'Everything', b'Espionage', b'Eraserhead', b'End', b'Electric', b'Ed', b'East', b'ESPIONAGE', b'EQUIPMENT', b'EMPEROR', b'Despatch', b'Desert', b'Dead', b'DUNCAN', b'DUKE', b'DUB', b'DUBLANCHET', b'DIER', b'DIDIER', b'Dublanchet', b'Dream', b'Dragon', b'Dourif', b'Dogperson', b'Do', b'Disk', b'Disc', b'Directed', b'Dino', b'Dick', b'Density', b'Delta', b'Crysknife', b'Controller', b'Convinced', b'Controi', b'Computer', b'Company', b'Compact', b'Cooper', b'Commander', b'Clarke', b'Canopus', b'CONTACT', b'CHARACTERS', b'CHAUBIN', b'CDRO', b'Cursor', b'Cultivation', b'Countless', b'Corman', b'Colour', b'Choosing', b'Children', b'Chapter', b'Carlo', b'Cards', b'Caladan', b'CTRL', b'CORPO', b'CALL', b'Bumper', b'Bubble', b'Blue', b'Beware', b'Below', b'Being', b'Before', b'But', b'Bulgaria', b'Brad', b'Bouchon', b'Born', b'Birdie', b'Bene', b'Baron', b'Background', b'BOUCHON', b'Attack', b'Asleep', b'Arthur', b'Army', b'Annis', b'Androids', b'Adllb', b'Adlib', b'Additionally', b'Adapt', b'AND', b'Atomics', b'Amelie', b'Along', b'Allows', b'Alia', b'Alexander', b'Al', b'Aiternativeiy', b'Agent', b'Age', b'After', b'Abandoned', b'AS', b'90', b'77', b'64', b'620', b'56', b'52', b'500', b'40', b'350', b'33', b'27', b'256', b'21', b'1986', b'1981', b'1977', b'1965', b'1964', b'1952', b'1920', b'191', b'190', b'15', b'140', b'100', b'10', b'.\"', b').\"', b'),', b'\",']\n"
     ]
    }
   ],
   "source": [
    "new_vocab_encoded = [token.encode(\"utf-8\") for token in new_vocab]\n",
    "print(new_vocab_encoded)"
   ]
  },
  {
   "cell_type": "code",
   "execution_count": null,
   "id": "37787784",
   "metadata": {},
   "outputs": [],
   "source": [
    "from IPython.display import display\n",
    "\n",
    "def print_vocab_chunks(vocab, items_per_line=10):\n",
    "    for i in range(0, len(vocab), items_per_line):\n",
    "        display(vocab[i:i + items_per_line])\n",
    "\n",
    "# Example usage:\n",
    "print_vocab_chunks(new_vocab)"
   ]
  },
  {
   "cell_type": "markdown",
   "id": "14652932",
   "metadata": {},
   "source": [
    "## 2.5 Experimenting with BPE Tokenizer Training"
   ]
  },
  {
   "cell_type": "code",
   "execution_count": null,
   "id": "9a8ba942",
   "metadata": {},
   "outputs": [],
   "source": [
    "# def get_raw_tokens(text, PAT = r\"\"\"'(?:[sdmt]|ll|ve|re)| ?\\p{L}+| ?\\p{N}+| ?[^\\s\\p{L}\\p{N}]+|\\s+(?!\\S)|\\s+\"\"\") -> str:\n",
    "#     # Use Unicode letters, then split on whitespace\n",
    "#     tokens = regex.findall(PAT, text)\n",
    "#     return \" \".join(tokens)\n",
    "\n",
    "# def get_list_of_characters(pure_word_result) -> list[bytes]:\n",
    "#     # Preserve word boundaries\n",
    "#     return [bytes(word.encode(\"utf-8\")) for word in pure_word_result.split()]\n",
    "\n",
    "# def count_pair_frequencies(tokens_counter):\n",
    "#     counts = defaultdict(int)\n",
    "#     for word, freq in tokens_counter.items():\n",
    "#         for i in range(len(word) - 1):\n",
    "#             print(\"word:\", word[i], word[i+1])\n",
    "#             pair = (word[i], word[i+1])\n",
    "#             counts[pair] += freq\n",
    "#     return counts\n",
    "\n",
    "# def find_max_pair(counts):\n",
    "#     # Deterministic: break ties using lexicographic order\n",
    "#     return max(counts, key=lambda x: (counts[x], x))\n",
    "\n",
    "# def merge_tokens(tokens_counter, match1, match2):\n",
    "#     new_counter = Counter()\n",
    "#     for word, freq in tokens_counter.items():\n",
    "#         new_word = []\n",
    "#         i = 0\n",
    "#         print(word)\n",
    "#         while i < len(word):\n",
    "#             if i < len(word) - 1 and word[i] == match1 and word[i+1] == match2:\n",
    "#                 new_word.append((match1, match2))\n",
    "#                 i += 2\n",
    "#             else:\n",
    "#                 new_word.append(word[i])\n",
    "#                 i += 1\n",
    "#         new_counter[tuple(new_word)] += freq\n",
    "#     return new_counter\n",
    "\n"
   ]
  },
  {
   "cell_type": "code",
   "execution_count": 419,
   "id": "eda1e74f",
   "metadata": {},
   "outputs": [],
   "source": [
    "\n",
    "def get_raw_tokens(text, PAT = r\"\"\"'(?:[sdmt]|ll|ve|re)| ?\\p{L}+| ?\\p{N}+| ?[^\\s\\p{L}\\p{N}]+|\\s+(?!\\S)|\\s+\"\"\"):\n",
    "    # Use Unicode letters, then split on whitespace\n",
    "    tokens = regex.findall(PAT, text)\n",
    "    return \" \".join(tokens)\n",
    "\n",
    "def get_list_of_characters(pure_word_result):\n",
    "    # Preserve word boundaries\n",
    "    return [list(word) for word in pure_word_result.split()]\n",
    "\n",
    "def count_pair_frequencies(tokens_counter):\n",
    "    counts = defaultdict(int)\n",
    "    for word, freq in tokens_counter.items():\n",
    "        for i in range(len(word) - 1):\n",
    "            pair = (word[i], word[i+1])\n",
    "            counts[pair] += freq\n",
    "    return counts\n",
    "\n",
    "def find_max_pair(counts):\n",
    "    # Deterministic: break ties using lexicographic order\n",
    "    return max(counts, key=lambda x: (counts[x], x))\n",
    "\n",
    "def merge_tokens(tokens_counter, match1, match2):\n",
    "    new_counter = Counter()\n",
    "    for word, freq in tokens_counter.items():\n",
    "        new_word = []\n",
    "        i = 0\n",
    "        while i < len(word):\n",
    "            if i < len(word) - 1 and word[i] == match1 and word[i+1] == match2:\n",
    "                new_word.append(match1 + match2)\n",
    "                i += 2\n",
    "            else:\n",
    "                new_word.append(word[i])\n",
    "                i += 1\n",
    "        new_counter[tuple(new_word)] += freq\n",
    "    return new_counter\n"
   ]
  },
  {
   "cell_type": "markdown",
   "id": "5b99f472",
   "metadata": {},
   "source": [
    "Problem (train_bpe): BPE Tokenizer Training\n",
    "\n",
    "(15 points)\n",
    "\n",
    "Deliverable: Write a function that, given a path to an input text file, trains a (byte-level) BPE tokenizer. Your BPE training function should handle (at least) the following input parameters:\n",
    "\n",
    "input_path: str Path to a text file with BPE tokenizer training data.\n",
    "\n",
    "vocab_size: int A positive integer that defines the maximum final vocabulary size (including the initial byte vocabulary, vocabulary items produced from merging, and any special tokens).\n",
    "\n",
    "special_tokens: list[str] A list of strings to add to the vocabulary. These special tokens do not otherwise affect BPE training.\n",
    "\n",
    "Your BPE training function should return the resulting vocabulary and merges:\n",
    "\n",
    "vocab: dict[int, bytes] The tokenizer vocabulary, a mapping from int (token ID in the vocabulary) to bytes (token bytes).\n",
    "\n",
    "merges: list[tuple[bytes, bytes]] A list of BPE merges produced from training. Each list item is a tuple of bytes (<token1>, <token2>), representing that <token1> was merged with <token2>. The merges should be ordered by order of creation.\n",
    "\n",
    "To test your BPE training function against our provided tests, you will first need to implement the test adapter at [adapters.run_train_bpe]. Then, run uv run pytest tests/test_train_bpe.py. Your implementation should be able to pass all tests. Optionally (this could be a large time-investment), you can implement the key parts of your training method using some systems language, for instance C++ (consider cppyy for this) or Rust (using PyO3). If you do this, be aware of which operations require copying vs reading directly from Python memory, and make sure to leave build instructions, or make sure it builds using only pyproject.toml. Also note that the GPT-2 regex is not well-supported in most regex engines and will be too slow in most that do. We have verified that Oniguruma is reasonably fast and supports negative lookahead, but the regex package in Python is, if anything, even faster."
   ]
  },
  {
   "cell_type": "code",
   "execution_count": null,
   "id": "3a59885f",
   "metadata": {},
   "outputs": [],
   "source": [
    "from dataclasses import dataclass\n",
    "\n",
    "GPT2_TOKENIZER_REGEX = \\\n",
    "    r\"\"\"'(?:[sdmt]|ll|ve|re)| ?\\p{L}+| ?\\p{N}+| ?[^\\s\\p{L}\\p{N}]+|\\s+(?!\\S)|\\s+\"\"\"\n",
    "\n",
    "@dataclass\n",
    "class BPETokenizerParams:\n",
    "    vocab: dict[int, bytes]\n",
    "    merges: list[tuple[bytes, bytes]]\n",
    "\n",
    "def train_BPE_v1(texts: str, num_merges: int) -> BPETokenizerParams:\n",
    "    # Initialize parameters\n",
    "    merges: list[tuple[bytes, bytes]] = []\n",
    "    vocab: dict[int, bytes] = {x: bytes([x]) for x in range(256)}\n",
    "    # Explanation of the difference between the two dictionary comprehensions:\n",
    "    # ✅ This one is correct: vocab: dict[int, bytes] = {x: bytes([x]) for x in range(256)}\n",
    "    # It creates a dictionary mapping each integer from 0 to 255 (inclusive)\n",
    "    # to its corresponding single-byte representation using bytes([x]).\n",
    "    # bytes([x]) takes a list of integers and returns a bytes object of length 1.\n",
    "    \n",
    "    # ❌ This one is incorrect and will raise a TypeError:\n",
    "    # vocab: dict[int, bytes] = {x: bytes(x) for x in range(256)}  # Incorrect\n",
    "    # # bytes(x) tries to create a bytes object of length x filled with zero bytes,\n",
    "    # which is not what we want here. For example, bytes(3) returns b'\\x00\\x00\\x00',\n",
    "    # not b'\\x03'.\n",
    "    # Also, bytes(x) will fail for x >= 256 due to range constraints.\n",
    "\n",
    "    # Step 1: Pre-tokenization and splitting into characters\n",
    "    raw_tokens = get_raw_tokens(texts, GPT2_TOKENIZER_REGEX)\n",
    "    bytes_indices = get_list_of_characters(raw_tokens)\n",
    "    tokens_counter = Counter(tuple(word) for word in bytes_indices)\n",
    "\n",
    "\n",
    "    # Step 2: Perform merges\n",
    "    for i in range(num_merges):\n",
    "        counts = count_pair_frequencies(tokens_counter)\n",
    "        if not counts:\n",
    "            break\n",
    "        match1, match2  = find_max_pair(counts)\n",
    "        new_ID_for_new_token = 256 + i\n",
    "        bytes_presentation_of_max_pair = (match1+match2).encode('utf8')\n",
    "        merges.append((match1.encode('utf8'), match2))\n",
    "        # print(\"merges\", merges)\n",
    "        vocab[new_ID_for_new_token] = bytes_presentation_of_max_pair\n",
    "        tokens_counter = merge_tokens(tokens_counter, match1, match2)\n",
    "        print(\"token_counter\", tokens_counter)\n",
    "        print(\"Merge\", merges)\n",
    "    \n",
    "    return vocab, merges\n"
   ]
  },
  {
   "cell_type": "code",
   "execution_count": 435,
   "id": "1a2705e5",
   "metadata": {},
   "outputs": [],
   "source": [
    "example_text_ag1 = \"\"\"\n",
    "    low low low low low\n",
    "    lower lower widest widest widest\n",
    "    newest newest newest newest newest newest\n",
    "\"\"\""
   ]
  },
  {
   "cell_type": "code",
   "execution_count": 440,
   "id": "9929a7d8",
   "metadata": {},
   "outputs": [
    {
     "data": {
      "text/plain": [
       "262"
      ]
     },
     "execution_count": 440,
     "metadata": {},
     "output_type": "execute_result"
    }
   ],
   "source": [
    "len(vocab)"
   ]
  },
  {
   "cell_type": "code",
   "execution_count": 438,
   "id": "4d887661",
   "metadata": {},
   "outputs": [
    {
     "name": "stdout",
     "output_type": "stream",
     "text": [
      "token_counter Counter({('n', 'e', 'w', 'e', 'st'): 6, ('l', 'o', 'w'): 5, ('w', 'i', 'd', 'e', 'st'): 3, ('l', 'o', 'w', 'e', 'r'): 2})\n",
      "Merge [(b's', b't')]\n",
      "token_counter Counter({('n', 'e', 'w', 'est'): 6, ('l', 'o', 'w'): 5, ('w', 'i', 'd', 'est'): 3, ('l', 'o', 'w', 'e', 'r'): 2})\n",
      "Merge [(b's', b't'), (b'e', b'st')]\n",
      "token_counter Counter({('n', 'e', 'w', 'est'): 6, ('l', 'ow'): 5, ('w', 'i', 'd', 'est'): 3, ('l', 'ow', 'e', 'r'): 2})\n",
      "Merge [(b's', b't'), (b'e', b'st'), (b'o', b'w')]\n",
      "token_counter Counter({('n', 'e', 'w', 'est'): 6, ('low',): 5, ('w', 'i', 'd', 'est'): 3, ('low', 'e', 'r'): 2})\n",
      "Merge [(b's', b't'), (b'e', b'st'), (b'o', b'w'), (b'l', b'ow')]\n",
      "token_counter Counter({('n', 'e', 'west'): 6, ('low',): 5, ('w', 'i', 'd', 'est'): 3, ('low', 'e', 'r'): 2})\n",
      "Merge [(b's', b't'), (b'e', b'st'), (b'o', b'w'), (b'l', b'ow'), (b'w', b'est')]\n",
      "token_counter Counter({('ne', 'west'): 6, ('low',): 5, ('w', 'i', 'd', 'est'): 3, ('low', 'e', 'r'): 2})\n",
      "Merge [(b's', b't'), (b'e', b'st'), (b'o', b'w'), (b'l', b'ow'), (b'w', b'est'), (b'n', b'e')]\n",
      "{0: b'\\x00', 1: b'\\x01', 2: b'\\x02', 3: b'\\x03', 4: b'\\x04', 5: b'\\x05', 6: b'\\x06', 7: b'\\x07', 8: b'\\x08', 9: b'\\t', 10: b'\\n', 11: b'\\x0b', 12: b'\\x0c', 13: b'\\r', 14: b'\\x0e', 15: b'\\x0f', 16: b'\\x10', 17: b'\\x11', 18: b'\\x12', 19: b'\\x13', 20: b'\\x14', 21: b'\\x15', 22: b'\\x16', 23: b'\\x17', 24: b'\\x18', 25: b'\\x19', 26: b'\\x1a', 27: b'\\x1b', 28: b'\\x1c', 29: b'\\x1d', 30: b'\\x1e', 31: b'\\x1f', 32: b' ', 33: b'!', 34: b'\"', 35: b'#', 36: b'$', 37: b'%', 38: b'&', 39: b\"'\", 40: b'(', 41: b')', 42: b'*', 43: b'+', 44: b',', 45: b'-', 46: b'.', 47: b'/', 48: b'0', 49: b'1', 50: b'2', 51: b'3', 52: b'4', 53: b'5', 54: b'6', 55: b'7', 56: b'8', 57: b'9', 58: b':', 59: b';', 60: b'<', 61: b'=', 62: b'>', 63: b'?', 64: b'@', 65: b'A', 66: b'B', 67: b'C', 68: b'D', 69: b'E', 70: b'F', 71: b'G', 72: b'H', 73: b'I', 74: b'J', 75: b'K', 76: b'L', 77: b'M', 78: b'N', 79: b'O', 80: b'P', 81: b'Q', 82: b'R', 83: b'S', 84: b'T', 85: b'U', 86: b'V', 87: b'W', 88: b'X', 89: b'Y', 90: b'Z', 91: b'[', 92: b'\\\\', 93: b']', 94: b'^', 95: b'_', 96: b'`', 97: b'a', 98: b'b', 99: b'c', 100: b'd', 101: b'e', 102: b'f', 103: b'g', 104: b'h', 105: b'i', 106: b'j', 107: b'k', 108: b'l', 109: b'm', 110: b'n', 111: b'o', 112: b'p', 113: b'q', 114: b'r', 115: b's', 116: b't', 117: b'u', 118: b'v', 119: b'w', 120: b'x', 121: b'y', 122: b'z', 123: b'{', 124: b'|', 125: b'}', 126: b'~', 127: b'\\x7f', 128: b'\\x80', 129: b'\\x81', 130: b'\\x82', 131: b'\\x83', 132: b'\\x84', 133: b'\\x85', 134: b'\\x86', 135: b'\\x87', 136: b'\\x88', 137: b'\\x89', 138: b'\\x8a', 139: b'\\x8b', 140: b'\\x8c', 141: b'\\x8d', 142: b'\\x8e', 143: b'\\x8f', 144: b'\\x90', 145: b'\\x91', 146: b'\\x92', 147: b'\\x93', 148: b'\\x94', 149: b'\\x95', 150: b'\\x96', 151: b'\\x97', 152: b'\\x98', 153: b'\\x99', 154: b'\\x9a', 155: b'\\x9b', 156: b'\\x9c', 157: b'\\x9d', 158: b'\\x9e', 159: b'\\x9f', 160: b'\\xa0', 161: b'\\xa1', 162: b'\\xa2', 163: b'\\xa3', 164: b'\\xa4', 165: b'\\xa5', 166: b'\\xa6', 167: b'\\xa7', 168: b'\\xa8', 169: b'\\xa9', 170: b'\\xaa', 171: b'\\xab', 172: b'\\xac', 173: b'\\xad', 174: b'\\xae', 175: b'\\xaf', 176: b'\\xb0', 177: b'\\xb1', 178: b'\\xb2', 179: b'\\xb3', 180: b'\\xb4', 181: b'\\xb5', 182: b'\\xb6', 183: b'\\xb7', 184: b'\\xb8', 185: b'\\xb9', 186: b'\\xba', 187: b'\\xbb', 188: b'\\xbc', 189: b'\\xbd', 190: b'\\xbe', 191: b'\\xbf', 192: b'\\xc0', 193: b'\\xc1', 194: b'\\xc2', 195: b'\\xc3', 196: b'\\xc4', 197: b'\\xc5', 198: b'\\xc6', 199: b'\\xc7', 200: b'\\xc8', 201: b'\\xc9', 202: b'\\xca', 203: b'\\xcb', 204: b'\\xcc', 205: b'\\xcd', 206: b'\\xce', 207: b'\\xcf', 208: b'\\xd0', 209: b'\\xd1', 210: b'\\xd2', 211: b'\\xd3', 212: b'\\xd4', 213: b'\\xd5', 214: b'\\xd6', 215: b'\\xd7', 216: b'\\xd8', 217: b'\\xd9', 218: b'\\xda', 219: b'\\xdb', 220: b'\\xdc', 221: b'\\xdd', 222: b'\\xde', 223: b'\\xdf', 224: b'\\xe0', 225: b'\\xe1', 226: b'\\xe2', 227: b'\\xe3', 228: b'\\xe4', 229: b'\\xe5', 230: b'\\xe6', 231: b'\\xe7', 232: b'\\xe8', 233: b'\\xe9', 234: b'\\xea', 235: b'\\xeb', 236: b'\\xec', 237: b'\\xed', 238: b'\\xee', 239: b'\\xef', 240: b'\\xf0', 241: b'\\xf1', 242: b'\\xf2', 243: b'\\xf3', 244: b'\\xf4', 245: b'\\xf5', 246: b'\\xf6', 247: b'\\xf7', 248: b'\\xf8', 249: b'\\xf9', 250: b'\\xfa', 251: b'\\xfb', 252: b'\\xfc', 253: b'\\xfd', 254: b'\\xfe', 255: b'\\xff', 256: b'st', 257: b'est', 258: b'ow', 259: b'low', 260: b'west', 261: b'ne'}\n"
     ]
    }
   ],
   "source": [
    "vocab, merges = train_BPE(example_text_ag1, 6)\n",
    "merges\n",
    "print(vocab)"
   ]
  },
  {
   "cell_type": "markdown",
   "id": "a935baf3",
   "metadata": {},
   "source": [
    "#### Keep going on Version 2"
   ]
  },
  {
   "cell_type": "code",
   "execution_count": 455,
   "id": "f9a61c03",
   "metadata": {},
   "outputs": [],
   "source": [
    "from dataclasses import dataclass\n",
    "\n",
    "GPT2_TOKENIZER_REGEX = \\\n",
    "    r\"\"\"'(?:[sdmt]|ll|ve|re)| ?\\p{L}+| ?\\p{N}+| ?[^\\s\\p{L}\\p{N}]+|\\s+(?!\\S)|\\s+\"\"\"\n",
    "\n",
    "@dataclass\n",
    "class BPETokenizerParams:\n",
    "    vocab: dict[int, bytes]\n",
    "    merges: list[tuple[bytes, bytes]]\n",
    "\n",
    "def train_BPE(input_path: str, vocab_size: int, special_tokens: list[str]) -> BPETokenizerParams:\n",
    "\n",
    "    #######################################################################################\n",
    "    # Read the input text\n",
    "    with open(input_path, \"r\", encoding=\"utf-8\") as f:\n",
    "        texts = f.read()\n",
    "    \n",
    "    #######################################################################################\n",
    "    # Initialize parameters\n",
    "    vocab: dict[int, bytes] = {}\n",
    "\n",
    "    # Add special tokens first\n",
    "    for i, token in enumerate(special_tokens):\n",
    "        vocab[i] = token.encode(\"utf-8\")\n",
    "\n",
    "    # Add regular bytes 0-255 after special tokens\n",
    "    offset = len(special_tokens)\n",
    "\n",
    "    for x in range(256):\n",
    "        vocab[offset + x] = bytes([x])\n",
    "    #######################################################################################\n",
    "    merges: list[tuple[bytes, bytes]] = []\n",
    "    #######################################################################################\n",
    "\n",
    "    raw_tokens = get_raw_tokens(texts, GPT2_TOKENIZER_REGEX)\n",
    "    bytes_indices = get_list_of_characters(raw_tokens)\n",
    "    tokens_counter = Counter(tuple(word) for word in bytes_indices)\n",
    "\n",
    "    # Step 2: Perform merges\n",
    "    index_tracking = offset\n",
    "    while len(vocab) < vocab_size:\n",
    "        counts = count_pair_frequencies(tokens_counter)\n",
    "        if not counts:\n",
    "            break\n",
    "        match1, match2  = find_max_pair(counts)\n",
    "        new_ID_for_new_token = 256 + index_tracking\n",
    "        index_tracking += 1\n",
    "        bytes_presentation_of_max_pair = (match1+match2).encode('utf8')\n",
    "        merges.append((match1.encode('utf8'), match2.encode('utf8')))\n",
    "        # print(\"merges\", merges)\n",
    "        vocab[new_ID_for_new_token] = bytes_presentation_of_max_pair\n",
    "        tokens_counter = merge_tokens(tokens_counter, match1, match2)\n",
    "        \n",
    "    return vocab, merges\n"
   ]
  },
  {
   "cell_type": "code",
   "execution_count": 470,
   "id": "f6a6fd5d",
   "metadata": {},
   "outputs": [],
   "source": [
    "special_tokens: list[str] = [\"<|endoftext|>\"] # example"
   ]
  },
  {
   "cell_type": "code",
   "execution_count": 462,
   "id": "3c6c4fa1",
   "metadata": {},
   "outputs": [],
   "source": [
    "test_txt_file_path = '/Users/ethanj/Documents/CODE/Stanford_CS336/assignment1-basics-main/cs336_basics/text_examples/text_ex1.txt'\n",
    "vocab, merges = train_BPE(test_txt_file_path, 500, special_tokens)"
   ]
  },
  {
   "cell_type": "markdown",
   "id": "15359c4e",
   "metadata": {},
   "source": [
    "#### Test functions"
   ]
  },
  {
   "cell_type": "code",
   "execution_count": 514,
   "id": "11cf1eaf",
   "metadata": {},
   "outputs": [
    {
     "data": {
      "text/plain": [
       "<module 'cs336_basics.BPE_tokenizer' from '/Users/ethanj/Documents/CODE/Stanford_CS336/assignment1-basics-main/cs336_basics/BPE_tokenizer.py'>"
      ]
     },
     "execution_count": 514,
     "metadata": {},
     "output_type": "execute_result"
    }
   ],
   "source": [
    "import importlib\n",
    "import cs336_basics.BPE_tokenizer as bpe\n",
    "\n",
    "importlib.reload(bpe)"
   ]
  },
  {
   "cell_type": "markdown",
   "id": "966a6008",
   "metadata": {},
   "source": [
    "#### Test traing speed"
   ]
  },
  {
   "cell_type": "code",
   "execution_count": 515,
   "id": "921d2fa1",
   "metadata": {},
   "outputs": [],
   "source": [
    "import json\n",
    "import time\n",
    "\n",
    "my_BPE_tokenizer = bpe.BPETokenizer()\n",
    "\n",
    "input_path = '/Users/ethanj/Documents/CODE/Stanford_CS336/assignment1-basics-main/tests/fixtures/'\n",
    "start_time = time.time()\n",
    "vocab, merges = my_BPE_tokenizer.train_BPE(\n",
    "    input_path=input_path+'corpus.en',\n",
    "    vocab_size=500,\n",
    "    special_tokens=[\"<|endoftext|>\"],\n",
    ")\n",
    "end_time = time.time()\n",
    "assert end_time - start_time < 1.5"
   ]
  },
  {
   "cell_type": "markdown",
   "id": "08cbd9cf",
   "metadata": {},
   "source": [
    "#### Test output result"
   ]
  },
  {
   "cell_type": "code",
   "execution_count": 516,
   "id": "ff3d8481",
   "metadata": {},
   "outputs": [],
   "source": [
    "from __future__ import annotations\n",
    "\n",
    "import pathlib\n",
    "from functools import lru_cache\n",
    "\n",
    "@lru_cache\n",
    "def gpt2_bytes_to_unicode() -> dict[int, str]:\n",
    "    \"\"\"\n",
    "    Returns a mapping between every possible byte (an integer from 0 to 255) to a\n",
    "    printable unicode string character representation. This function is taken\n",
    "    from the GPT-2 code.\n",
    "\n",
    "    For example, `chr(0)` is `\\x00`, which is an unprintable character:\n",
    "\n",
    "    >>> chr(0)\n",
    "    '\\x00'\n",
    "    >>> print(chr(0))\n",
    "\n",
    "    As a result, this function returns a dictionary `d` where `d[0]` returns `Ā`.\n",
    "    The bytes that are visually printable keep their original string representation [1].\n",
    "    For example, `chr(33)` returns `!`, and so accordingly `d[33]` returns `!`.\n",
    "    Note in particular that the space character `chr(32)` becomes `d[32]`, which\n",
    "    returns 'Ġ'.\n",
    "\n",
    "    For unprintable characters, the function shifts takes the integer representing\n",
    "    the Unicode code point of that character (returned by the Python `ord`) function\n",
    "    and shifts it by 256. For example, `ord(\" \")` returns `32`, so the the space character\n",
    "    ' ' is shifted to `256 + 32`. Since `chr(256 + 32)` returns `Ġ`, we use that as the\n",
    "    string representation of the space.\n",
    "\n",
    "    This function can simplify the BPE implementation and makes it slightly easier to\n",
    "    manually inspect the generated merges after they're serialized to a file.\n",
    "    \"\"\"\n",
    "    # These 188 integers can used as-is, since they are not whitespace or control characters.\n",
    "    # See https://www.ssec.wisc.edu/~tomw/java/unicode.html.\n",
    "    bs = list(range(ord(\"!\"), ord(\"~\") + 1)) + list(range(ord(\"¡\"), ord(\"¬\") + 1)) + list(range(ord(\"®\"), ord(\"ÿ\") + 1))\n",
    "    cs = bs[:]\n",
    "    # now get the representations of the other 68 integers that do need shifting\n",
    "    # each will get mapped chr(256 + n), where n will grow from 0...67 in the loop\n",
    "    # Get printable representations of the remaining integers 68 integers.\n",
    "    n = 0\n",
    "    for b in range(2**8):\n",
    "        if b not in bs:\n",
    "            # If this integer isn't in our list of visually-representable\n",
    "            # charcters, then map it to the next nice character (offset by 256)\n",
    "            bs.append(b)\n",
    "            cs.append(2**8 + n)\n",
    "            n += 1\n",
    "    characters = [chr(n) for n in cs]\n",
    "    d = dict(zip(bs, characters))\n",
    "    return d\n"
   ]
  },
  {
   "cell_type": "code",
   "execution_count": 517,
   "id": "155a0e6c",
   "metadata": {},
   "outputs": [
    {
     "ename": "AssertionError",
     "evalue": "",
     "output_type": "error",
     "traceback": [
      "\u001b[31m---------------------------------------------------------------------------\u001b[39m",
      "\u001b[31mAssertionError\u001b[39m                            Traceback (most recent call last)",
      "\u001b[36mCell\u001b[39m\u001b[36m \u001b[39m\u001b[32mIn[517]\u001b[39m\u001b[32m, line 24\u001b[39m\n\u001b[32m     16\u001b[39m     gpt2_reference_merges = [\u001b[38;5;28mtuple\u001b[39m(line.rstrip().split(\u001b[33m\"\u001b[39m\u001b[33m \u001b[39m\u001b[33m\"\u001b[39m)) \u001b[38;5;28;01mfor\u001b[39;00m line \u001b[38;5;129;01min\u001b[39;00m f]\n\u001b[32m     17\u001b[39m     reference_merges = [\n\u001b[32m     18\u001b[39m         (\n\u001b[32m     19\u001b[39m             \u001b[38;5;28mbytes\u001b[39m([gpt2_byte_decoder[token] \u001b[38;5;28;01mfor\u001b[39;00m token \u001b[38;5;129;01min\u001b[39;00m merge_token_1]),\n\u001b[32m   (...)\u001b[39m\u001b[32m     22\u001b[39m         \u001b[38;5;28;01mfor\u001b[39;00m merge_token_1, merge_token_2 \u001b[38;5;129;01min\u001b[39;00m gpt2_reference_merges\n\u001b[32m     23\u001b[39m     ]\n\u001b[32m---> \u001b[39m\u001b[32m24\u001b[39m \u001b[38;5;28;01massert\u001b[39;00m merges == reference_merges\n\u001b[32m     26\u001b[39m \u001b[38;5;66;03m# Compare the vocab to the expected output vocab\u001b[39;00m\n\u001b[32m     27\u001b[39m \u001b[38;5;28;01mwith\u001b[39;00m \u001b[38;5;28mopen\u001b[39m(reference_vocab_path) \u001b[38;5;28;01mas\u001b[39;00m f:\n",
      "\u001b[31mAssertionError\u001b[39m: "
     ]
    }
   ],
   "source": [
    "my_BPE_tokenizer = bpe.BPETokenizer()\n",
    "\n",
    "vocab, merges = my_BPE_tokenizer.train_BPE(\n",
    "    input_path=input_path+'corpus.en',\n",
    "    vocab_size=500,\n",
    "    special_tokens=[\"<|endoftext|>\"],\n",
    ")\n",
    "\n",
    "# Path to the reference tokenizer vocab and merges\n",
    "reference_vocab_path = input_path + \"train-bpe-reference-vocab.json\"\n",
    "reference_merges_path  = input_path + \"train-bpe-reference-merges.txt\"\n",
    "\n",
    "# Compare the learned merges to the expected output merges\n",
    "gpt2_byte_decoder = {v: k for k, v in gpt2_bytes_to_unicode().items()}\n",
    "with open(reference_merges_path) as f:\n",
    "    gpt2_reference_merges = [tuple(line.rstrip().split(\" \")) for line in f]\n",
    "    reference_merges = [\n",
    "        (\n",
    "            bytes([gpt2_byte_decoder[token] for token in merge_token_1]),\n",
    "            bytes([gpt2_byte_decoder[token] for token in merge_token_2]),\n",
    "        )\n",
    "        for merge_token_1, merge_token_2 in gpt2_reference_merges\n",
    "    ]\n",
    "assert merges == reference_merges\n",
    "\n",
    "# Compare the vocab to the expected output vocab\n",
    "with open(reference_vocab_path) as f:\n",
    "    gpt2_reference_vocab = json.load(f)\n",
    "    reference_vocab = {\n",
    "        gpt2_vocab_index: bytes([gpt2_byte_decoder[token] for token in gpt2_vocab_item])\n",
    "        for gpt2_vocab_item, gpt2_vocab_index in gpt2_reference_vocab.items()\n",
    "    }\n",
    "# Rather than checking that the vocabs exactly match (since they could\n",
    "# have been constructed differently, we'll make sure that the vocab keys and values match)\n",
    "assert set(vocab.keys()) == set(reference_vocab.keys())\n",
    "assert set(vocab.values()) == set(reference_vocab.values())\n"
   ]
  },
  {
   "cell_type": "code",
   "execution_count": 521,
   "id": "09ff43ec",
   "metadata": {},
   "outputs": [
    {
     "ename": "AssertionError",
     "evalue": "",
     "output_type": "error",
     "traceback": [
      "\u001b[31m---------------------------------------------------------------------------\u001b[39m",
      "\u001b[31mAssertionError\u001b[39m                            Traceback (most recent call last)",
      "\u001b[36mCell\u001b[39m\u001b[36m \u001b[39m\u001b[32mIn[521]\u001b[39m\u001b[32m, line 11\u001b[39m\n\u001b[32m      8\u001b[39m \u001b[38;5;66;03m# Rather than checking that the vocabs exactly match (since they could\u001b[39;00m\n\u001b[32m      9\u001b[39m \u001b[38;5;66;03m# have been constructed differently, we'll make sure that the vocab keys and values match)\u001b[39;00m\n\u001b[32m     10\u001b[39m \u001b[38;5;28;01massert\u001b[39;00m \u001b[38;5;28mset\u001b[39m(vocab.keys()) == \u001b[38;5;28mset\u001b[39m(reference_vocab.keys())\n\u001b[32m---> \u001b[39m\u001b[32m11\u001b[39m \u001b[38;5;28;01massert\u001b[39;00m \u001b[38;5;28mset\u001b[39m(vocab.values()) == \u001b[38;5;28mset\u001b[39m(reference_vocab.values())\n",
      "\u001b[31mAssertionError\u001b[39m: "
     ]
    }
   ],
   "source": [
    "# Compare the vocab to the expected output vocab\n",
    "with open(reference_vocab_path) as f:\n",
    "    gpt2_reference_vocab = json.load(f)\n",
    "    reference_vocab = {\n",
    "        gpt2_vocab_index: bytes([gpt2_byte_decoder[token] for token in gpt2_vocab_item])\n",
    "        for gpt2_vocab_item, gpt2_vocab_index in gpt2_reference_vocab.items()\n",
    "    }\n",
    "# Rather than checking that the vocabs exactly match (since they could\n",
    "# have been constructed differently, we'll make sure that the vocab keys and values match)\n",
    "assert set(vocab.keys()) == set(reference_vocab.keys())\n",
    "assert set(vocab.values()) == set(reference_vocab.values())"
   ]
  },
  {
   "cell_type": "code",
   "execution_count": 525,
   "id": "b853eae6",
   "metadata": {},
   "outputs": [
    {
     "data": {
      "text/plain": [
       "dict_values([b'<|endoftext|>', b'\\x00', b'\\x01', b'\\x02', b'\\x03', b'\\x04', b'\\x05', b'\\x06', b'\\x07', b'\\x08', b'\\t', b'\\n', b'\\x0b', b'\\x0c', b'\\r', b'\\x0e', b'\\x0f', b'\\x10', b'\\x11', b'\\x12', b'\\x13', b'\\x14', b'\\x15', b'\\x16', b'\\x17', b'\\x18', b'\\x19', b'\\x1a', b'\\x1b', b'\\x1c', b'\\x1d', b'\\x1e', b'\\x1f', b' ', b'!', b'\"', b'#', b'$', b'%', b'&', b\"'\", b'(', b')', b'*', b'+', b',', b'-', b'.', b'/', b'0', b'1', b'2', b'3', b'4', b'5', b'6', b'7', b'8', b'9', b':', b';', b'<', b'=', b'>', b'?', b'@', b'A', b'B', b'C', b'D', b'E', b'F', b'G', b'H', b'I', b'J', b'K', b'L', b'M', b'N', b'O', b'P', b'Q', b'R', b'S', b'T', b'U', b'V', b'W', b'X', b'Y', b'Z', b'[', b'\\\\', b']', b'^', b'_', b'`', b'a', b'b', b'c', b'd', b'e', b'f', b'g', b'h', b'i', b'j', b'k', b'l', b'm', b'n', b'o', b'p', b'q', b'r', b's', b't', b'u', b'v', b'w', b'x', b'y', b'z', b'{', b'|', b'}', b'~', b'\\x7f', b'\\x80', b'\\x81', b'\\x82', b'\\x83', b'\\x84', b'\\x85', b'\\x86', b'\\x87', b'\\x88', b'\\x89', b'\\x8a', b'\\x8b', b'\\x8c', b'\\x8d', b'\\x8e', b'\\x8f', b'\\x90', b'\\x91', b'\\x92', b'\\x93', b'\\x94', b'\\x95', b'\\x96', b'\\x97', b'\\x98', b'\\x99', b'\\x9a', b'\\x9b', b'\\x9c', b'\\x9d', b'\\x9e', b'\\x9f', b'\\xa0', b'\\xa1', b'\\xa2', b'\\xa3', b'\\xa4', b'\\xa5', b'\\xa6', b'\\xa7', b'\\xa8', b'\\xa9', b'\\xaa', b'\\xab', b'\\xac', b'\\xad', b'\\xae', b'\\xaf', b'\\xb0', b'\\xb1', b'\\xb2', b'\\xb3', b'\\xb4', b'\\xb5', b'\\xb6', b'\\xb7', b'\\xb8', b'\\xb9', b'\\xba', b'\\xbb', b'\\xbc', b'\\xbd', b'\\xbe', b'\\xbf', b'\\xc0', b'\\xc1', b'\\xc2', b'\\xc3', b'\\xc4', b'\\xc5', b'\\xc6', b'\\xc7', b'\\xc8', b'\\xc9', b'\\xca', b'\\xcb', b'\\xcc', b'\\xcd', b'\\xce', b'\\xcf', b'\\xd0', b'\\xd1', b'\\xd2', b'\\xd3', b'\\xd4', b'\\xd5', b'\\xd6', b'\\xd7', b'\\xd8', b'\\xd9', b'\\xda', b'\\xdb', b'\\xdc', b'\\xdd', b'\\xde', b'\\xdf', b'\\xe0', b'\\xe1', b'\\xe2', b'\\xe3', b'\\xe4', b'\\xe5', b'\\xe6', b'\\xe7', b'\\xe8', b'\\xe9', b'\\xea', b'\\xeb', b'\\xec', b'\\xed', b'\\xee', b'\\xef', b'\\xf0', b'\\xf1', b'\\xf2', b'\\xf3', b'\\xf4', b'\\xf5', b'\\xf6', b'\\xf7', b'\\xf8', b'\\xf9', b'\\xfa', b'\\xfb', b'\\xfc', b'\\xfd', b'\\xfe', b'\\xff', b' t', b' a', b'he', b'in', b'', b're', b' o', b' ,', b'er', b' s', b'at', b' .', b'nd', b'is', b'or', b' w', b' c', b'on', b' b', b' f', b'ou', b'it', b'en', b'es', b'', b' p', b'', b'', b'ed', b'al', b' m', b'', b' d', b'an', b'ar', b'', b'om', b'', b'ic', b'', b' h', b' l', b' y', b' e', b'as', b'ot', b'il', b' n', b' u', b'', b'', b' &', b'', b'', b'os', b'', b'et', b'', b'ut', b'el', b' g', b'ay', b'st', b'ow', b'le', b'ce', b'ad', b'', b' I', b'', b've', b' A', b'ur', b'ol', b'ct', b'qu', b'', b'im', b'', b'am', b'ig', b'ch', b'', b' P', b'', b'ir', b' S', b'', b'', b'ap', b'', b' C', b'', b'th', b' @', b'', b'', b'', b'', b'', b'nt', b'id', b'', b'op', b'', b'', b'', b'', b'', b'if', b'', b'od', b'', b'', b'', b'', b' M', b'', b'', b' G', b'', b'', b'', b'', b'', b'', b'ld', b' 2', b'', b' ;', b' L', b'ly', b'', b'', b'', b'ul', b'', b'', b'', b'', b'se', b'ag', b'', b' (', b'00', b'', b' E', b'', b'em', b'', b' )', b' 1', b'', b'', b'', b'oc', b' D', b'', b' v', b'', b'', b'', b'ri', b'', b' r', b' W', b'', b'', b' B', b'', b'', b'un', b' O', b'ke', b'', b'', b' F', b' H', b'', b'', b'', b'', b'', b'', b'', b'', b'', b'', b'', b'', b'', b'', b'', b'', b'..', b'', b'', b'', b'', b'24', b' T', b'', b'', b'', b'', b'', b'', b'', b'um', b'', b'ft', b'', b'', b'', b'', b'', b'', b'lo', b'iz', b'', b'', b'', b'', b'', b'', b'ac', b'', b'lu', b'', b'', b'', b'', b'', b'', b'', b'', b'', b'', b'pp', b'', b'', b'', b''])"
      ]
     },
     "execution_count": 525,
     "metadata": {},
     "output_type": "execute_result"
    }
   ],
   "source": [
    "vocab.values()"
   ]
  },
  {
   "cell_type": "code",
   "execution_count": 523,
   "id": "0bbc9e55",
   "metadata": {},
   "outputs": [
    {
     "data": {
      "text/plain": [
       "{b'\\x00',\n",
       " b'\\x01',\n",
       " b'\\x02',\n",
       " b'\\x03',\n",
       " b'\\x04',\n",
       " b'\\x05',\n",
       " b'\\x06',\n",
       " b'\\x07',\n",
       " b'\\x08',\n",
       " b'\\t',\n",
       " b'\\n',\n",
       " b'\\x0b',\n",
       " b'\\x0c',\n",
       " b'\\r',\n",
       " b'\\x0e',\n",
       " b'\\x0f',\n",
       " b'\\x10',\n",
       " b'\\x11',\n",
       " b'\\x12',\n",
       " b'\\x13',\n",
       " b'\\x14',\n",
       " b'\\x15',\n",
       " b'\\x16',\n",
       " b'\\x17',\n",
       " b'\\x18',\n",
       " b'\\x19',\n",
       " b'\\x1a',\n",
       " b'\\x1b',\n",
       " b'\\x1c',\n",
       " b'\\x1d',\n",
       " b'\\x1e',\n",
       " b'\\x1f',\n",
       " b' ',\n",
       " b' &',\n",
       " b' &#',\n",
       " b' (',\n",
       " b' )',\n",
       " b' ,',\n",
       " b' .',\n",
       " b' ...',\n",
       " b' 1',\n",
       " b' 2',\n",
       " b' ;',\n",
       " b' @',\n",
       " b' @-@',\n",
       " b' A',\n",
       " b' And',\n",
       " b' B',\n",
       " b' C',\n",
       " b' D',\n",
       " b' E',\n",
       " b' F',\n",
       " b' G',\n",
       " b' H',\n",
       " b' I',\n",
       " b' L',\n",
       " b' M',\n",
       " b' O',\n",
       " b' P',\n",
       " b' S',\n",
       " b' T',\n",
       " b' W',\n",
       " b' a',\n",
       " b' ac',\n",
       " b' al',\n",
       " b' all',\n",
       " b' an',\n",
       " b' and',\n",
       " b' are',\n",
       " b' as',\n",
       " b' at',\n",
       " b' b',\n",
       " b' be',\n",
       " b' by',\n",
       " b' c',\n",
       " b' can',\n",
       " b' ch',\n",
       " b' com',\n",
       " b' comp',\n",
       " b' con',\n",
       " b' d',\n",
       " b' de',\n",
       " b' e',\n",
       " b' ex',\n",
       " b' f',\n",
       " b' for',\n",
       " b' fr',\n",
       " b' from',\n",
       " b' g',\n",
       " b' h',\n",
       " b' have',\n",
       " b' he',\n",
       " b' in',\n",
       " b' is',\n",
       " b' it',\n",
       " b' l',\n",
       " b' m',\n",
       " b' man',\n",
       " b' my',\n",
       " b' n',\n",
       " b' ne',\n",
       " b' not',\n",
       " b' o',\n",
       " b' of',\n",
       " b' on',\n",
       " b' or',\n",
       " b' p',\n",
       " b' pr',\n",
       " b' r',\n",
       " b' re',\n",
       " b' s',\n",
       " b' se',\n",
       " b' sh',\n",
       " b' shall',\n",
       " b' sit',\n",
       " b' sp',\n",
       " b' st',\n",
       " b' su',\n",
       " b' t',\n",
       " b' th',\n",
       " b' that',\n",
       " b' the',\n",
       " b' they',\n",
       " b' this',\n",
       " b' to',\n",
       " b' tr',\n",
       " b' u',\n",
       " b' unt',\n",
       " b' unto',\n",
       " b' up',\n",
       " b' us',\n",
       " b' v',\n",
       " b' ver',\n",
       " b' w',\n",
       " b' we',\n",
       " b' wh',\n",
       " b' which',\n",
       " b' will',\n",
       " b' with',\n",
       " b' wor',\n",
       " b' work',\n",
       " b' y',\n",
       " b' ye',\n",
       " b' you',\n",
       " b' your',\n",
       " b'!',\n",
       " b'\"',\n",
       " b'#',\n",
       " b'$',\n",
       " b'%',\n",
       " b'&',\n",
       " b\"'\",\n",
       " b'(',\n",
       " b')',\n",
       " b'*',\n",
       " b'+',\n",
       " b',',\n",
       " b'-',\n",
       " b'-@',\n",
       " b'.',\n",
       " b'..',\n",
       " b'/',\n",
       " b'0',\n",
       " b'00',\n",
       " b'1',\n",
       " b'124',\n",
       " b'2',\n",
       " b'24',\n",
       " b'3',\n",
       " b'4',\n",
       " b'5',\n",
       " b'6',\n",
       " b'7',\n",
       " b'8',\n",
       " b'9',\n",
       " b':',\n",
       " b';',\n",
       " b'<',\n",
       " b'<|endoftext|>',\n",
       " b'=',\n",
       " b'>',\n",
       " b'?',\n",
       " b'@',\n",
       " b'A',\n",
       " b'B',\n",
       " b'C',\n",
       " b'D',\n",
       " b'E',\n",
       " b'F',\n",
       " b'G',\n",
       " b'H',\n",
       " b'I',\n",
       " b'J',\n",
       " b'K',\n",
       " b'L',\n",
       " b'M',\n",
       " b'N',\n",
       " b'O',\n",
       " b'P',\n",
       " b'Q',\n",
       " b'R',\n",
       " b'S',\n",
       " b'T',\n",
       " b'U',\n",
       " b'V',\n",
       " b'W',\n",
       " b'X',\n",
       " b'Y',\n",
       " b'Z',\n",
       " b'[',\n",
       " b'\\\\',\n",
       " b']',\n",
       " b'^',\n",
       " b'_',\n",
       " b'`',\n",
       " b'a',\n",
       " b'ac',\n",
       " b'ad',\n",
       " b'ag',\n",
       " b'age',\n",
       " b'ain',\n",
       " b'al',\n",
       " b'all',\n",
       " b'am',\n",
       " b'an',\n",
       " b'and',\n",
       " b'ans',\n",
       " b'ant',\n",
       " b'ap',\n",
       " b'apos',\n",
       " b'ar',\n",
       " b'are',\n",
       " b'art',\n",
       " b'as',\n",
       " b'ast',\n",
       " b'at',\n",
       " b'ate',\n",
       " b'ated',\n",
       " b'ation',\n",
       " b'ave',\n",
       " b'ay',\n",
       " b'b',\n",
       " b'ble',\n",
       " b'c',\n",
       " b'ce',\n",
       " b'ch',\n",
       " b'com',\n",
       " b'ct',\n",
       " b'd',\n",
       " b'e',\n",
       " b'ect',\n",
       " b'ed',\n",
       " b'el',\n",
       " b'em',\n",
       " b'en',\n",
       " b'ent',\n",
       " b'er',\n",
       " b'ere',\n",
       " b'ers',\n",
       " b'es',\n",
       " b'ess',\n",
       " b'est',\n",
       " b'et',\n",
       " b'f',\n",
       " b'for',\n",
       " b'fore',\n",
       " b'ft',\n",
       " b'g',\n",
       " b'h',\n",
       " b'he',\n",
       " b'here',\n",
       " b'i',\n",
       " b'ic',\n",
       " b'ich',\n",
       " b'id',\n",
       " b'ies',\n",
       " b'if',\n",
       " b'ig',\n",
       " b'igh',\n",
       " b'ight',\n",
       " b'il',\n",
       " b'ill',\n",
       " b'im',\n",
       " b'in',\n",
       " b'ind',\n",
       " b'ing',\n",
       " b'ings',\n",
       " b'ion',\n",
       " b'ions',\n",
       " b'ir',\n",
       " b'is',\n",
       " b'ish',\n",
       " b'ist',\n",
       " b'it',\n",
       " b'ith',\n",
       " b'ity',\n",
       " b'ive',\n",
       " b'iz',\n",
       " b'j',\n",
       " b'k',\n",
       " b'ke',\n",
       " b'l',\n",
       " b'ld',\n",
       " b'le',\n",
       " b'lo',\n",
       " b'lu',\n",
       " b'ly',\n",
       " b'm',\n",
       " b'ment',\n",
       " b'mer',\n",
       " b'n',\n",
       " b'nd',\n",
       " b'nt',\n",
       " b'o',\n",
       " b'oc',\n",
       " b'od',\n",
       " b'og',\n",
       " b'ol',\n",
       " b'om',\n",
       " b'on',\n",
       " b'op',\n",
       " b'or',\n",
       " b'ord',\n",
       " b'ore',\n",
       " b'ort',\n",
       " b'os',\n",
       " b'ost',\n",
       " b'ot',\n",
       " b'ou',\n",
       " b'ould',\n",
       " b'out',\n",
       " b'ow',\n",
       " b'p',\n",
       " b'pp',\n",
       " b'q',\n",
       " b'qu',\n",
       " b'quot',\n",
       " b'r',\n",
       " b're',\n",
       " b'ree',\n",
       " b'res',\n",
       " b'ress',\n",
       " b'ri',\n",
       " b'rou',\n",
       " b's',\n",
       " b'se',\n",
       " b'st',\n",
       " b't',\n",
       " b'ter',\n",
       " b'th',\n",
       " b'the',\n",
       " b'this',\n",
       " b'u',\n",
       " b'ul',\n",
       " b'um',\n",
       " b'un',\n",
       " b'ur',\n",
       " b'ust',\n",
       " b'ut',\n",
       " b'v',\n",
       " b've',\n",
       " b'ven',\n",
       " b'ver',\n",
       " b'w',\n",
       " b'x',\n",
       " b'y',\n",
       " b'z',\n",
       " b'{',\n",
       " b'|',\n",
       " b'}',\n",
       " b'~',\n",
       " b'\\x7f',\n",
       " b'\\x80',\n",
       " b'\\x81',\n",
       " b'\\x82',\n",
       " b'\\x83',\n",
       " b'\\x84',\n",
       " b'\\x85',\n",
       " b'\\x86',\n",
       " b'\\x87',\n",
       " b'\\x88',\n",
       " b'\\x89',\n",
       " b'\\x8a',\n",
       " b'\\x8b',\n",
       " b'\\x8c',\n",
       " b'\\x8d',\n",
       " b'\\x8e',\n",
       " b'\\x8f',\n",
       " b'\\x90',\n",
       " b'\\x91',\n",
       " b'\\x92',\n",
       " b'\\x93',\n",
       " b'\\x94',\n",
       " b'\\x95',\n",
       " b'\\x96',\n",
       " b'\\x97',\n",
       " b'\\x98',\n",
       " b'\\x99',\n",
       " b'\\x9a',\n",
       " b'\\x9b',\n",
       " b'\\x9c',\n",
       " b'\\x9d',\n",
       " b'\\x9e',\n",
       " b'\\x9f',\n",
       " b'\\xa0',\n",
       " b'\\xa1',\n",
       " b'\\xa2',\n",
       " b'\\xa3',\n",
       " b'\\xa4',\n",
       " b'\\xa5',\n",
       " b'\\xa6',\n",
       " b'\\xa7',\n",
       " b'\\xa8',\n",
       " b'\\xa9',\n",
       " b'\\xaa',\n",
       " b'\\xab',\n",
       " b'\\xac',\n",
       " b'\\xad',\n",
       " b'\\xae',\n",
       " b'\\xaf',\n",
       " b'\\xb0',\n",
       " b'\\xb1',\n",
       " b'\\xb2',\n",
       " b'\\xb3',\n",
       " b'\\xb4',\n",
       " b'\\xb5',\n",
       " b'\\xb6',\n",
       " b'\\xb7',\n",
       " b'\\xb8',\n",
       " b'\\xb9',\n",
       " b'\\xba',\n",
       " b'\\xbb',\n",
       " b'\\xbc',\n",
       " b'\\xbd',\n",
       " b'\\xbe',\n",
       " b'\\xbf',\n",
       " b'\\xc0',\n",
       " b'\\xc1',\n",
       " b'\\xc2',\n",
       " b'\\xc3',\n",
       " b'\\xc4',\n",
       " b'\\xc5',\n",
       " b'\\xc6',\n",
       " b'\\xc7',\n",
       " b'\\xc8',\n",
       " b'\\xc9',\n",
       " b'\\xca',\n",
       " b'\\xcb',\n",
       " b'\\xcc',\n",
       " b'\\xcd',\n",
       " b'\\xce',\n",
       " b'\\xcf',\n",
       " b'\\xd0',\n",
       " b'\\xd1',\n",
       " b'\\xd2',\n",
       " b'\\xd3',\n",
       " b'\\xd4',\n",
       " b'\\xd5',\n",
       " b'\\xd6',\n",
       " b'\\xd7',\n",
       " b'\\xd8',\n",
       " b'\\xd9',\n",
       " b'\\xda',\n",
       " b'\\xdb',\n",
       " b'\\xdc',\n",
       " b'\\xdd',\n",
       " b'\\xde',\n",
       " b'\\xdf',\n",
       " b'\\xe0',\n",
       " b'\\xe1',\n",
       " b'\\xe2',\n",
       " b'\\xe3',\n",
       " b'\\xe4',\n",
       " b'\\xe5',\n",
       " b'\\xe6',\n",
       " b'\\xe7',\n",
       " b'\\xe8',\n",
       " b'\\xe9',\n",
       " b'\\xea',\n",
       " b'\\xeb',\n",
       " b'\\xec',\n",
       " b'\\xed',\n",
       " b'\\xee',\n",
       " b'\\xef',\n",
       " b'\\xf0',\n",
       " b'\\xf1',\n",
       " b'\\xf2',\n",
       " b'\\xf3',\n",
       " b'\\xf4',\n",
       " b'\\xf5',\n",
       " b'\\xf6',\n",
       " b'\\xf7',\n",
       " b'\\xf8',\n",
       " b'\\xf9',\n",
       " b'\\xfa',\n",
       " b'\\xfb',\n",
       " b'\\xfc',\n",
       " b'\\xfd',\n",
       " b'\\xfe',\n",
       " b'\\xff'}"
      ]
     },
     "execution_count": 523,
     "metadata": {},
     "output_type": "execute_result"
    }
   ],
   "source": [
    "set(reference_vocab.values())"
   ]
  },
  {
   "cell_type": "code",
   "execution_count": 518,
   "id": "4821ff8c",
   "metadata": {},
   "outputs": [
    {
     "data": {
      "text/plain": [
       "[(b' ', b't'),\n",
       " (b' ', b'a'),\n",
       " (b'h', b'e'),\n",
       " (b'i', b'n'),\n",
       " (b' t', b'he'),\n",
       " (b'r', b'e'),\n",
       " (b' ', b'o'),\n",
       " (b' ', b','),\n",
       " (b'e', b'r'),\n",
       " (b' ', b's'),\n",
       " (b'a', b't'),\n",
       " (b' ', b'.'),\n",
       " (b'n', b'd'),\n",
       " (b'i', b's'),\n",
       " (b'o', b'r'),\n",
       " (b' ', b'w'),\n",
       " (b' ', b'c'),\n",
       " (b'o', b'n'),\n",
       " (b' ', b'b'),\n",
       " (b' ', b'f'),\n",
       " (b'o', b'u'),\n",
       " (b'i', b't'),\n",
       " (b'e', b'n'),\n",
       " (b'e', b's'),\n",
       " (b' o', b'f'),\n",
       " (b' ', b'p'),\n",
       " (b'in', b'g'),\n",
       " (b' ', b'in'),\n",
       " (b'e', b'd'),\n",
       " (b'a', b'l'),\n",
       " (b' ', b'm'),\n",
       " (b' a', b'nd'),\n",
       " (b' ', b'd'),\n",
       " (b'a', b'n'),\n",
       " (b'a', b'r'),\n",
       " (b' t', b'o'),\n",
       " (b'o', b'm'),\n",
       " (b' t', b'h'),\n",
       " (b'i', b'c'),\n",
       " (b'i', b'on'),\n",
       " (b' ', b'h'),\n",
       " (b' ', b'l'),\n",
       " (b' ', b'y'),\n",
       " (b' ', b'e'),\n",
       " (b'a', b's'),\n",
       " (b'o', b't'),\n",
       " (b'i', b'l'),\n",
       " (b' ', b'n'),\n",
       " (b' ', b'u'),\n",
       " (b'en', b't'),\n",
       " (b' b', b'e'),\n",
       " (b' ', b'&'),\n",
       " (b' ', b'is'),\n",
       " (b' y', b'ou'),\n",
       " (b'o', b's'),\n",
       " (b' ', b're'),\n",
       " (b'e', b't'),\n",
       " (b' f', b'or'),\n",
       " (b'u', b't'),\n",
       " (b'e', b'l'),\n",
       " (b' ', b'g'),\n",
       " (b'a', b'y'),\n",
       " (b's', b't'),\n",
       " (b'o', b'w'),\n",
       " (b'l', b'e'),\n",
       " (b'c', b'e'),\n",
       " (b'a', b'd'),\n",
       " (b' o', b'n'),\n",
       " (b' ', b'I'),\n",
       " (b'v', b'er'),\n",
       " (b'v', b'e'),\n",
       " (b' ', b'A'),\n",
       " (b'u', b'r'),\n",
       " (b'o', b'l'),\n",
       " (b'c', b't'),\n",
       " (b'q', b'u'),\n",
       " (b' th', b'at'),\n",
       " (b'i', b'm'),\n",
       " (b'al', b'l'),\n",
       " (b'a', b'm'),\n",
       " (b'i', b'g'),\n",
       " (b'c', b'h'),\n",
       " (b'at', b'ion'),\n",
       " (b' ', b'P'),\n",
       " (b'it', b'h'),\n",
       " (b'i', b'r'),\n",
       " (b' ', b'S'),\n",
       " (b' ', b'it'),\n",
       " (b' p', b'r'),\n",
       " (b'a', b'p'),\n",
       " (b' s', b'h'),\n",
       " (b' ', b'C'),\n",
       " (b't', b'h'),\n",
       " (b' c', b'om'),\n",
       " (b' ', b'@'),\n",
       " (b' w', b'h'),\n",
       " (b'-', b'@'),\n",
       " (b' a', b're'),\n",
       " (b' @', b'-@'),\n",
       " (b'n', b't'),\n",
       " (b'i', b'd'),\n",
       " (b' w', b'ith'),\n",
       " (b' a', b'l'),\n",
       " (b'o', b'p'),\n",
       " (b' u', b's'),\n",
       " (b'er', b's'),\n",
       " (b' a', b's'),\n",
       " (b't', b'he'),\n",
       " (b'a', b'nd'),\n",
       " (b'i', b'f'),\n",
       " (b'or', b'd'),\n",
       " (b'o', b'd'),\n",
       " (b' ', b'he'),\n",
       " (b'is', b't'),\n",
       " (b'qu', b'ot'),\n",
       " (b'm', b'ent'),\n",
       " (b' ', b'M'),\n",
       " (b' o', b'r'),\n",
       " (b'o', b're'),\n",
       " (b' ', b'G'),\n",
       " (b' f', b'r'),\n",
       " (b'il', b'l'),\n",
       " (b're', b's'),\n",
       " (b' s', b't'),\n",
       " (b'es', b's'),\n",
       " (b'l', b'd'),\n",
       " (b' th', b'is'),\n",
       " (b' ', b'2'),\n",
       " (b'ar', b't'),\n",
       " (b' ', b';'),\n",
       " (b' ', b'L'),\n",
       " (b'l', b'y'),\n",
       " (b'a', b'in'),\n",
       " (b'u', b'l'),\n",
       " (b' d', b'e'),\n",
       " (b' c', b'on'),\n",
       " (b'es', b't'),\n",
       " (b's', b'e'),\n",
       " (b'ap', b'os'),\n",
       " (b'a', b'g'),\n",
       " (b' fr', b'om'),\n",
       " (b' a', b'n'),\n",
       " (b' w', b'e'),\n",
       " (b' ', b'('),\n",
       " (b'0', b'0'),\n",
       " (b't', b'er'),\n",
       " (b' ', b'E'),\n",
       " (b'e', b'm'),\n",
       " (b'a', b've'),\n",
       " (b' n', b'ot'),\n",
       " (b' ', b')'),\n",
       " (b' ', b'1'),\n",
       " (b' you', b'r'),\n",
       " (b'o', b'c'),\n",
       " (b' c', b'an'),\n",
       " (b' b', b'y'),\n",
       " (b' ', b'D'),\n",
       " (b' n', b'e'),\n",
       " (b' ', b'v'),\n",
       " (b'ig', b'h'),\n",
       " (b'ic', b'h'),\n",
       " (b' al', b'l'),\n",
       " (b'r', b'i'),\n",
       " (b' u', b'p'),\n",
       " (b' ', b'r'),\n",
       " (b' ', b'W'),\n",
       " (b'b', b'le'),\n",
       " (b' the', b'y'),\n",
       " (b' ', b'B'),\n",
       " (b'u', b'n'),\n",
       " (b' y', b'e'),\n",
       " (b' wh', b'ich'),\n",
       " (b' ', b'O'),\n",
       " (b'k', b'e'),\n",
       " (b' w', b'or'),\n",
       " (b' s', b'u'),\n",
       " (b' ', b'F'),\n",
       " (b' ', b'H'),\n",
       " (b' h', b'ave'),\n",
       " (b'at', b'e'),\n",
       " (b' sh', b'all'),\n",
       " (b' c', b'h'),\n",
       " (b'e', b'ct'),\n",
       " (b'it', b'y'),\n",
       " (b' s', b'p'),\n",
       " (b'res', b's'),\n",
       " (b'igh', b't'),\n",
       " (b' w', b'ill'),\n",
       " (b' com', b'p'),\n",
       " (b'or', b't'),\n",
       " (b'an', b't'),\n",
       " (b' &', b'#'),\n",
       " (b'i', b've'),\n",
       " (b'a', b're'),\n",
       " (b'.', b'.'),\n",
       " (b' e', b'x'),\n",
       " (b' A', b'nd'),\n",
       " (b' .', b'..'),\n",
       " (b'as', b't'),\n",
       " (b'2', b'4'),\n",
       " (b' ', b'T'),\n",
       " (b'ou', b'ld'),\n",
       " (b'v', b'en'),\n",
       " (b' t', b'r'),\n",
       " (b'u', b'st'),\n",
       " (b'u', b'm'),\n",
       " (b'ou', b't'),\n",
       " (b'c', b'om'),\n",
       " (b' u', b'nt'),\n",
       " (b' s', b'e'),\n",
       " (b'f', b't'),\n",
       " (b're', b'e'),\n",
       " (b'os', b't'),\n",
       " (b'o', b'g'),\n",
       " (b'is', b'h'),\n",
       " (b'ion', b's'),\n",
       " (b'i', b'z'),\n",
       " (b'1', b'24'),\n",
       " (b' unt', b'o'),\n",
       " (b'm', b'er'),\n",
       " (b'ing', b's'),\n",
       " (b' a', b'c'),\n",
       " (b'th', b'is'),\n",
       " (b'at', b'ed'),\n",
       " (b'a', b'c'),\n",
       " (b'l', b'u'),\n",
       " (b'e', b're'),\n",
       " (b' m', b'an'),\n",
       " (b'f', b'or'),\n",
       " (b' m', b'y'),\n",
       " (b' a', b't'),\n",
       " (b'i', b'es'),\n",
       " (b'ag', b'e'),\n",
       " (b'r', b'ou'),\n",
       " (b'l', b'o'),\n",
       " (b'an', b's'),\n",
       " (b'p', b'p'),\n",
       " (b'in', b'd'),\n",
       " (b' wor', b'k'),\n",
       " (b'he', b're'),\n",
       " (b'f', b'ore'),\n",
       " (b' s', b'it'),\n",
       " (b' ', b'ver')]"
      ]
     },
     "execution_count": 518,
     "metadata": {},
     "output_type": "execute_result"
    }
   ],
   "source": [
    "reference_merges"
   ]
  },
  {
   "cell_type": "code",
   "execution_count": 519,
   "id": "e071c093",
   "metadata": {},
   "outputs": [
    {
     "data": {
      "text/plain": [
       "[(b'\\x1f', b's'),\n",
       " (b'\\x1f', b'`'),\n",
       " (b'g', b'd'),\n",
       " (b'h', b'm'),\n",
       " (b' t', b'he'),\n",
       " (b'q', b'd'),\n",
       " (b'\\x1f', b'n'),\n",
       " (b'\\x1f', b'+'),\n",
       " (b'd', b'q'),\n",
       " (b'\\x1f', b'r'),\n",
       " (b'`', b's'),\n",
       " (b'\\x1f', b'-'),\n",
       " (b'm', b'c'),\n",
       " (b'h', b'r'),\n",
       " (b'n', b'q'),\n",
       " (b'\\x1f', b'v'),\n",
       " (b'\\x1f', b'b'),\n",
       " (b'n', b'm'),\n",
       " (b'\\x1f', b'a'),\n",
       " (b'\\x1f', b'e'),\n",
       " (b'n', b't'),\n",
       " (b'h', b's'),\n",
       " (b'd', b'm'),\n",
       " (b'd', b'r'),\n",
       " (b' o', b'e'),\n",
       " (b'\\x1f', b'o'),\n",
       " (b'in', b'f'),\n",
       " (b'\\x1f', b'in'),\n",
       " (b'd', b'c'),\n",
       " (b'`', b'k'),\n",
       " (b'\\x1f', b'l'),\n",
       " (b' a', b'nd'),\n",
       " (b'\\x1f', b'c'),\n",
       " (b'`', b'm'),\n",
       " (b'`', b'q'),\n",
       " (b' t', b'n'),\n",
       " (b'n', b'l'),\n",
       " (b' t', b'g'),\n",
       " (b'h', b'b'),\n",
       " (b'h', b'on'),\n",
       " (b'\\x1f', b'g'),\n",
       " (b'\\x1f', b'k'),\n",
       " (b'\\x1f', b'x'),\n",
       " (b'\\x1f', b'd'),\n",
       " (b'`', b'r'),\n",
       " (b'n', b's'),\n",
       " (b'h', b'k'),\n",
       " (b'\\x1f', b'm'),\n",
       " (b'\\x1f', b't'),\n",
       " (b'en', b's'),\n",
       " (b' b', b'd'),\n",
       " (b'\\x1f', b'%'),\n",
       " (b'\\x1f', b'is'),\n",
       " (b' y', b'ou'),\n",
       " (b'n', b'r'),\n",
       " (b'\\x1f', b're'),\n",
       " (b'd', b's'),\n",
       " (b' f', b'or'),\n",
       " (b't', b's'),\n",
       " (b'd', b'k'),\n",
       " (b'\\x1f', b'f'),\n",
       " (b'`', b'x'),\n",
       " (b'r', b's'),\n",
       " (b'n', b'v'),\n",
       " (b'k', b'd'),\n",
       " (b'b', b'd'),\n",
       " (b'`', b'c'),\n",
       " (b' o', b'm'),\n",
       " (b'\\x1f', b'H'),\n",
       " (b'u', b'er'),\n",
       " (b'u', b'd'),\n",
       " (b'\\x1f', b'@'),\n",
       " (b't', b'q'),\n",
       " (b'n', b'k'),\n",
       " (b'b', b's'),\n",
       " (b'p', b't'),\n",
       " (b'', b'at'),\n",
       " (b'h', b'l'),\n",
       " (b'al', b'k'),\n",
       " (b'`', b'l'),\n",
       " (b'h', b'f'),\n",
       " (b'b', b'g'),\n",
       " (b'at', b''),\n",
       " (b'\\x1f', b'O'),\n",
       " (b'it', b'g'),\n",
       " (b'h', b'q'),\n",
       " (b'\\x1f', b'R'),\n",
       " (b'\\x1f', b'it'),\n",
       " (b' p', b'q'),\n",
       " (b'`', b'o'),\n",
       " (b' s', b'g'),\n",
       " (b'\\x1f', b'B'),\n",
       " (b' c', b'om'),\n",
       " (b's', b'g'),\n",
       " (b'\\x1f', b'?'),\n",
       " (b' w', b'g'),\n",
       " (b' @', b','),\n",
       " (b'', b'?'),\n",
       " (b' a', b're'),\n",
       " (b' w', b''),\n",
       " (b'm', b's'),\n",
       " (b'h', b'c'),\n",
       " (b' a', b'k'),\n",
       " (b'n', b'o'),\n",
       " (b' u', b'r'),\n",
       " (b'er', b'r'),\n",
       " (b' a', b'r'),\n",
       " (b's', b'he'),\n",
       " (b'`', b'nd'),\n",
       " (b'h', b'e'),\n",
       " (b'or', b'c'),\n",
       " (b'n', b'c'),\n",
       " (b'\\x1f', b'he'),\n",
       " (b'is', b's'),\n",
       " (b'qu', b'ot'),\n",
       " (b'l', b''),\n",
       " (b'\\x1f', b'L'),\n",
       " (b' o', b'q'),\n",
       " (b'n', b're'),\n",
       " (b'\\x1f', b'F'),\n",
       " (b' f', b'q'),\n",
       " (b'il', b'k'),\n",
       " (b' s', b's'),\n",
       " (b're', b'r'),\n",
       " (b'es', b'r'),\n",
       " (b'', b'is'),\n",
       " (b'k', b'c'),\n",
       " (b'\\x1f', b'1'),\n",
       " (b'ar', b's'),\n",
       " (b'\\x1f', b':'),\n",
       " (b'\\x1f', b'K'),\n",
       " (b'k', b'x'),\n",
       " (b'`', b'in'),\n",
       " (b' d', b'd'),\n",
       " (b' c', b'on'),\n",
       " (b't', b'k'),\n",
       " (b'es', b's'),\n",
       " (b'', b'om'),\n",
       " (b'ap', b'os'),\n",
       " (b' a', b'm'),\n",
       " (b'r', b'd'),\n",
       " (b'`', b'f'),\n",
       " (b' w', b'd'),\n",
       " (b'\\x1f', b\"'\"),\n",
       " (b'/', b'/'),\n",
       " (b's', b'er'),\n",
       " (b'\\x1f', b'D'),\n",
       " (b' n', b'ot'),\n",
       " (b'd', b'l'),\n",
       " (b'`', b've'),\n",
       " (b'\\x1f', b'('),\n",
       " (b'\\x1f', b'0'),\n",
       " (b'', b'q'),\n",
       " (b' b', b'x'),\n",
       " (b' c', b'an'),\n",
       " (b'n', b'b'),\n",
       " (b'\\x1f', b'C'),\n",
       " (b' n', b'd'),\n",
       " (b'\\x1f', b'u'),\n",
       " (b'', b'k'),\n",
       " (b'ig', b'g'),\n",
       " (b'ic', b'g'),\n",
       " (b'q', b'h'),\n",
       " (b' u', b'o'),\n",
       " (b'\\x1f', b'q'),\n",
       " (b'\\x1f', b'V'),\n",
       " (b'a', b'le'),\n",
       " (b'', b'x'),\n",
       " (b'\\x1f', b'A'),\n",
       " (b'', b''),\n",
       " (b' y', b'd'),\n",
       " (b't', b'm'),\n",
       " (b'\\x1f', b'N'),\n",
       " (b'j', b'd'),\n",
       " (b' w', b'or'),\n",
       " (b' s', b't'),\n",
       " (b'\\x1f', b'E'),\n",
       " (b'\\x1f', b'G'),\n",
       " (b' h', b''),\n",
       " (b'', b''),\n",
       " (b' c', b'g'),\n",
       " (b'at', b'd'),\n",
       " (b'd', b'ct'),\n",
       " (b'it', b'x'),\n",
       " (b' s', b'o'),\n",
       " (b'', b's'),\n",
       " (b'', b'r'),\n",
       " (b'', b'o'),\n",
       " (b' w', b''),\n",
       " (b' &', b'\"'),\n",
       " (b'an', b's'),\n",
       " (b'or', b's'),\n",
       " (b'h', b've'),\n",
       " (b'`', b're'),\n",
       " (b'-', b'-'),\n",
       " (b' A', b'nd'),\n",
       " (b' e', b'w'),\n",
       " (b' .', b'..'),\n",
       " (b'as', b's'),\n",
       " (b'1', b'3'),\n",
       " (b'\\x1f', b'S'),\n",
       " (b'ou', b'ld'),\n",
       " (b' t', b'q'),\n",
       " (b'u', b'en'),\n",
       " (b't', b'st'),\n",
       " (b' u', b'nt'),\n",
       " (b'ou', b's'),\n",
       " (b' s', b'd'),\n",
       " (b't', b'l'),\n",
       " (b'b', b'om'),\n",
       " (b'e', b's'),\n",
       " (b'', b'n'),\n",
       " (b'', b'n'),\n",
       " (b'os', b's'),\n",
       " (b'', b'r'),\n",
       " (b'is', b'g'),\n",
       " (b're', b'd'),\n",
       " (b'k', b'n'),\n",
       " (b'h', b'y'),\n",
       " (b'0', b'24'),\n",
       " (b'l', b'er'),\n",
       " (b'', b'r'),\n",
       " (b' a', b'b'),\n",
       " (b'th', b'is'),\n",
       " (b'at', b'ed'),\n",
       " (b'`', b'b'),\n",
       " (b' m', b'an'),\n",
       " (b'k', b't'),\n",
       " (b'd', b're'),\n",
       " (b' m', b'x'),\n",
       " (b' a', b's'),\n",
       " (b'e', b'or'),\n",
       " (b'ag', b'd'),\n",
       " (b'h', b'es'),\n",
       " (b'an', b'r'),\n",
       " (b'q', b'ou'),\n",
       " (b'', b'j'),\n",
       " (b'in', b'c'),\n",
       " (b'o', b'o'),\n",
       " (b' s', b'it'),\n",
       " (b'he', b're'),\n",
       " (b'e', b''),\n",
       " (b'\\x1f', b'')]"
      ]
     },
     "execution_count": 519,
     "metadata": {},
     "output_type": "execute_result"
    }
   ],
   "source": [
    "merges"
   ]
  },
  {
   "cell_type": "code",
   "execution_count": null,
   "id": "83a02a69",
   "metadata": {},
   "outputs": [],
   "source": []
  }
 ],
 "metadata": {
  "kernelspec": {
   "display_name": ".venv",
   "language": "python",
   "name": "python3"
  },
  "language_info": {
   "codemirror_mode": {
    "name": "ipython",
    "version": 3
   },
   "file_extension": ".py",
   "mimetype": "text/x-python",
   "name": "python",
   "nbconvert_exporter": "python",
   "pygments_lexer": "ipython3",
   "version": "3.11.12"
  }
 },
 "nbformat": 4,
 "nbformat_minor": 5
}
